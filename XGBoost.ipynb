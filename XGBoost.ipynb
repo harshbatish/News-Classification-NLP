{
 "cells": [
  {
   "cell_type": "markdown",
   "id": "YAI32cNIblvo",
   "metadata": {
    "id": "YAI32cNIblvo"
   },
   "source": [
    "## HARSH SHARMA"
   ]
  },
  {
   "cell_type": "markdown",
   "id": "OoOl6JmMblyY",
   "metadata": {
    "id": "OoOl6JmMblyY"
   },
   "source": [
    "### XGBoost Model on classifying news based on text"
   ]
  },
  {
   "cell_type": "markdown",
   "id": "qlk2KhFhbl2C",
   "metadata": {
    "id": "qlk2KhFhbl2C"
   },
   "source": [
    "---"
   ]
  },
  {
   "cell_type": "markdown",
   "id": "dbb4a4dd",
   "metadata": {
    "id": "dbb4a4dd"
   },
   "source": [
    "### Context to the problem\n",
    "Since we have already run the random forest model, let's run the a more advance model that is a XGBoost model/algorithm which hopefully will give us the better accuracy than before."
   ]
  },
  {
   "cell_type": "markdown",
   "id": "wBToSdImcRvy",
   "metadata": {
    "id": "wBToSdImcRvy"
   },
   "source": [
    "---"
   ]
  },
  {
   "cell_type": "code",
   "execution_count": 5,
   "id": "5d6a60e9",
   "metadata": {},
   "outputs": [
    {
     "name": "stdout",
     "output_type": "stream",
     "text": [
      "Collecting xgboost\n",
      "  Downloading xgboost-1.7.2-py3-none-win_amd64.whl (89.1 MB)\n",
      "Requirement already satisfied: scipy in c:\\users\\user\\anaconda3\\lib\\site-packages (from xgboost) (1.7.3)\n",
      "Requirement already satisfied: numpy in c:\\users\\user\\anaconda3\\lib\\site-packages (from xgboost) (1.21.5)\n",
      "Installing collected packages: xgboost\n",
      "Successfully installed xgboost-1.7.2\n",
      "Note: you may need to restart the kernel to use updated packages.\n"
     ]
    }
   ],
   "source": [
    "pip install xgboost"
   ]
  },
  {
   "cell_type": "code",
   "execution_count": 8,
   "id": "7a5e5ce7",
   "metadata": {
    "id": "7a5e5ce7"
   },
   "outputs": [],
   "source": [
    "#  Importing everything we need \n",
    "# The usual packages\n",
    "import numpy as np \n",
    "import pandas as pd \n",
    "import matplotlib.pyplot as plt \n",
    "%matplotlib inline\n",
    "import seaborn as sns\n",
    "\n",
    "# Splitting data\n",
    "from sklearn.model_selection import train_test_split \n",
    "\n",
    "# Scalers\n",
    "from sklearn.preprocessing import StandardScaler, MinMaxScaler \n",
    "\n",
    "# Classifiers \n",
    "from sklearn.ensemble import RandomForestClassifier\n",
    "from sklearn.feature_extraction.text import TfidfVectorizer\n",
    "from sklearn.ensemble import AdaBoostClassifier\n",
    "from sklearn.svm import SVC\n",
    "# import xgboost\n",
    "from xgboost import XGBClassifier\n",
    "\n",
    "\n",
    "import time\n",
    "from sklearn.pipeline import Pipeline\n",
    "from sklearn.model_selection import cross_val_score\n",
    "from sklearn.model_selection import GridSearchCV\n",
    "from sklearn.model_selection import RandomizedSearchCV"
   ]
  },
  {
   "cell_type": "code",
   "execution_count": 6,
   "id": "cabacf7c",
   "metadata": {
    "colab": {
     "base_uri": "https://localhost:8080/"
    },
    "id": "cabacf7c",
    "outputId": "2cf711e3-266b-49de-ade9-f45ec277ae21"
   },
   "outputs": [
    {
     "name": "stdout",
     "output_type": "stream",
     "text": [
      "Mounted at /content/drive/\n"
     ]
    }
   ],
   "source": [
    "# mounting google drive\n",
    "import os\n",
    "from google.colab import drive\n",
    "drive.mount('/content/drive/',force_remount=True)"
   ]
  },
  {
   "cell_type": "code",
   "execution_count": 7,
   "id": "f17a45b4",
   "metadata": {
    "id": "f17a45b4"
   },
   "outputs": [],
   "source": [
    "# reading the data(csv) file\n",
    "path = '/content/drive/MyDrive/news data/'\n",
    "main_df = pd.read_csv(path+'file_name.csv')"
   ]
  },
  {
   "cell_type": "code",
   "execution_count": 8,
   "id": "da978cc5",
   "metadata": {
    "colab": {
     "base_uri": "https://localhost:8080/",
     "height": 206
    },
    "id": "da978cc5",
    "outputId": "67e89322-7d9e-4479-e040-580881e3b561"
   },
   "outputs": [
    {
     "data": {
      "text/html": [
       "\n",
       "  <div id=\"df-3edf1eb7-9a20-4f6e-9c07-e6ebe0240d8e\">\n",
       "    <div class=\"colab-df-container\">\n",
       "      <div>\n",
       "<style scoped>\n",
       "    .dataframe tbody tr th:only-of-type {\n",
       "        vertical-align: middle;\n",
       "    }\n",
       "\n",
       "    .dataframe tbody tr th {\n",
       "        vertical-align: top;\n",
       "    }\n",
       "\n",
       "    .dataframe thead th {\n",
       "        text-align: right;\n",
       "    }\n",
       "</style>\n",
       "<table border=\"1\" class=\"dataframe\">\n",
       "  <thead>\n",
       "    <tr style=\"text-align: right;\">\n",
       "      <th></th>\n",
       "      <th>Unnamed: 0</th>\n",
       "      <th>category</th>\n",
       "      <th>headline</th>\n",
       "    </tr>\n",
       "  </thead>\n",
       "  <tbody>\n",
       "    <tr>\n",
       "      <th>0</th>\n",
       "      <td>0</td>\n",
       "      <td>WORLD NEWS</td>\n",
       "      <td>Over  Million Americans Roll Up Sleeves For Om...</td>\n",
       "    </tr>\n",
       "    <tr>\n",
       "      <th>1</th>\n",
       "      <td>1</td>\n",
       "      <td>WORLD NEWS</td>\n",
       "      <td>American Airlines Flyer Charged  Banned For Li...</td>\n",
       "    </tr>\n",
       "    <tr>\n",
       "      <th>2</th>\n",
       "      <td>2</td>\n",
       "      <td>COMEDY</td>\n",
       "      <td>Of The Funniest Tweets About Cats And Dogs Th...</td>\n",
       "    </tr>\n",
       "    <tr>\n",
       "      <th>3</th>\n",
       "      <td>3</td>\n",
       "      <td>PARENTING</td>\n",
       "      <td>The Funniest Tweets From Parents This Week  Se...</td>\n",
       "    </tr>\n",
       "    <tr>\n",
       "      <th>4</th>\n",
       "      <td>4</td>\n",
       "      <td>WORLD NEWS</td>\n",
       "      <td>Woman Who Called Cops On Black Bird Watcher Lo...</td>\n",
       "    </tr>\n",
       "  </tbody>\n",
       "</table>\n",
       "</div>\n",
       "      <button class=\"colab-df-convert\" onclick=\"convertToInteractive('df-3edf1eb7-9a20-4f6e-9c07-e6ebe0240d8e')\"\n",
       "              title=\"Convert this dataframe to an interactive table.\"\n",
       "              style=\"display:none;\">\n",
       "        \n",
       "  <svg xmlns=\"http://www.w3.org/2000/svg\" height=\"24px\"viewBox=\"0 0 24 24\"\n",
       "       width=\"24px\">\n",
       "    <path d=\"M0 0h24v24H0V0z\" fill=\"none\"/>\n",
       "    <path d=\"M18.56 5.44l.94 2.06.94-2.06 2.06-.94-2.06-.94-.94-2.06-.94 2.06-2.06.94zm-11 1L8.5 8.5l.94-2.06 2.06-.94-2.06-.94L8.5 2.5l-.94 2.06-2.06.94zm10 10l.94 2.06.94-2.06 2.06-.94-2.06-.94-.94-2.06-.94 2.06-2.06.94z\"/><path d=\"M17.41 7.96l-1.37-1.37c-.4-.4-.92-.59-1.43-.59-.52 0-1.04.2-1.43.59L10.3 9.45l-7.72 7.72c-.78.78-.78 2.05 0 2.83L4 21.41c.39.39.9.59 1.41.59.51 0 1.02-.2 1.41-.59l7.78-7.78 2.81-2.81c.8-.78.8-2.07 0-2.86zM5.41 20L4 18.59l7.72-7.72 1.47 1.35L5.41 20z\"/>\n",
       "  </svg>\n",
       "      </button>\n",
       "      \n",
       "  <style>\n",
       "    .colab-df-container {\n",
       "      display:flex;\n",
       "      flex-wrap:wrap;\n",
       "      gap: 12px;\n",
       "    }\n",
       "\n",
       "    .colab-df-convert {\n",
       "      background-color: #E8F0FE;\n",
       "      border: none;\n",
       "      border-radius: 50%;\n",
       "      cursor: pointer;\n",
       "      display: none;\n",
       "      fill: #1967D2;\n",
       "      height: 32px;\n",
       "      padding: 0 0 0 0;\n",
       "      width: 32px;\n",
       "    }\n",
       "\n",
       "    .colab-df-convert:hover {\n",
       "      background-color: #E2EBFA;\n",
       "      box-shadow: 0px 1px 2px rgba(60, 64, 67, 0.3), 0px 1px 3px 1px rgba(60, 64, 67, 0.15);\n",
       "      fill: #174EA6;\n",
       "    }\n",
       "\n",
       "    [theme=dark] .colab-df-convert {\n",
       "      background-color: #3B4455;\n",
       "      fill: #D2E3FC;\n",
       "    }\n",
       "\n",
       "    [theme=dark] .colab-df-convert:hover {\n",
       "      background-color: #434B5C;\n",
       "      box-shadow: 0px 1px 3px 1px rgba(0, 0, 0, 0.15);\n",
       "      filter: drop-shadow(0px 1px 2px rgba(0, 0, 0, 0.3));\n",
       "      fill: #FFFFFF;\n",
       "    }\n",
       "  </style>\n",
       "\n",
       "      <script>\n",
       "        const buttonEl =\n",
       "          document.querySelector('#df-3edf1eb7-9a20-4f6e-9c07-e6ebe0240d8e button.colab-df-convert');\n",
       "        buttonEl.style.display =\n",
       "          google.colab.kernel.accessAllowed ? 'block' : 'none';\n",
       "\n",
       "        async function convertToInteractive(key) {\n",
       "          const element = document.querySelector('#df-3edf1eb7-9a20-4f6e-9c07-e6ebe0240d8e');\n",
       "          const dataTable =\n",
       "            await google.colab.kernel.invokeFunction('convertToInteractive',\n",
       "                                                     [key], {});\n",
       "          if (!dataTable) return;\n",
       "\n",
       "          const docLinkHtml = 'Like what you see? Visit the ' +\n",
       "            '<a target=\"_blank\" href=https://colab.research.google.com/notebooks/data_table.ipynb>data table notebook</a>'\n",
       "            + ' to learn more about interactive tables.';\n",
       "          element.innerHTML = '';\n",
       "          dataTable['output_type'] = 'display_data';\n",
       "          await google.colab.output.renderOutput(dataTable, element);\n",
       "          const docLink = document.createElement('div');\n",
       "          docLink.innerHTML = docLinkHtml;\n",
       "          element.appendChild(docLink);\n",
       "        }\n",
       "      </script>\n",
       "    </div>\n",
       "  </div>\n",
       "  "
      ],
      "text/plain": [
       "   Unnamed: 0    category                                           headline\n",
       "0           0  WORLD NEWS  Over  Million Americans Roll Up Sleeves For Om...\n",
       "1           1  WORLD NEWS  American Airlines Flyer Charged  Banned For Li...\n",
       "2           2      COMEDY   Of The Funniest Tweets About Cats And Dogs Th...\n",
       "3           3   PARENTING  The Funniest Tweets From Parents This Week  Se...\n",
       "4           4  WORLD NEWS  Woman Who Called Cops On Black Bird Watcher Lo..."
      ]
     },
     "execution_count": 8,
     "metadata": {},
     "output_type": "execute_result"
    }
   ],
   "source": [
    "# peeking in to the dataset\n",
    "main_df.head()"
   ]
  },
  {
   "cell_type": "code",
   "execution_count": 9,
   "id": "UK_WpJ3jeGnT",
   "metadata": {
    "id": "UK_WpJ3jeGnT"
   },
   "outputs": [],
   "source": [
    "# dropping unwanted columns\n",
    "main_df.drop(columns='Unnamed: 0', inplace=True)"
   ]
  },
  {
   "cell_type": "code",
   "execution_count": 10,
   "id": "qWuFc6oseGp2",
   "metadata": {
    "colab": {
     "base_uri": "https://localhost:8080/"
    },
    "id": "qWuFc6oseGp2",
    "outputId": "723070ef-b03b-4f7a-f574-17468919cf13"
   },
   "outputs": [
    {
     "data": {
      "text/plain": [
       "category     0\n",
       "headline    29\n",
       "dtype: int64"
      ]
     },
     "execution_count": 10,
     "metadata": {},
     "output_type": "execute_result"
    }
   ],
   "source": [
    "# checking null values\n",
    "main_df.isna().sum() "
   ]
  },
  {
   "cell_type": "code",
   "execution_count": 11,
   "id": "awLGRzdPeGsi",
   "metadata": {
    "id": "awLGRzdPeGsi"
   },
   "outputs": [],
   "source": [
    "# dropping null values\n",
    "main_df.dropna(inplace=True)"
   ]
  },
  {
   "cell_type": "code",
   "execution_count": 12,
   "id": "Z-K0iI7LeGuy",
   "metadata": {
    "id": "Z-K0iI7LeGuy"
   },
   "outputs": [],
   "source": [
    "def PlotBoundaries(model, X, Y, figsize=(8, 6)):\n",
    "    '''\n",
    "    Helper function that plots the decision boundaries of a model and data (X,Y)\n",
    "    code modified from: https://scikit-learn.org/stable/auto_examples/neighbors/plot_classification.html\n",
    "    '''\n",
    "\n",
    "    x_min, x_max = X[:, 0].min() - 1, X[:, 0].max() + 1\n",
    "    y_min, y_max = X[:, 1].min() - 1, X[:, 1].max() + 1\n",
    "    xx, yy = np.meshgrid(np.arange(x_min, x_max, 0.01),\n",
    "                         np.arange(y_min, y_max, 0.01))\n",
    "\n",
    "    Z = model.predict(np.c_[xx.ravel(), yy.ravel()])\n",
    "    Z = Z.reshape(xx.shape)\n",
    "\n",
    "    plt.figure(figsize=figsize)\n",
    "    plt.contourf(xx, yy, Z, alpha=0.4)\n",
    "\n",
    "    # Plot\n",
    "    plt.scatter(X[:, 0], X[:, 1], c=Y, s=20, edgecolor='k')\n",
    "    plt.show()"
   ]
  },
  {
   "cell_type": "code",
   "execution_count": 13,
   "id": "1swExoXkeGw5",
   "metadata": {
    "id": "1swExoXkeGw5"
   },
   "outputs": [],
   "source": [
    "def PlotEnsembleBoundaries(ensembles, X, Y, shape, figsize=(10, 7)):\n",
    "    '''\n",
    "    Helper function to plot the boundaries of ensemble methods.\n",
    "    code modified from: https://scikit-learn.org/stable/auto_examples/ensemble/plot_forest_iris.html\n",
    "    '''\n",
    "    fig, axes = plt.subplots(shape[0], shape[1], figsize=figsize)\n",
    "    for i, (ax, model) in enumerate(zip(axes.ravel(), ensembles)):\n",
    "        x_min, x_max = X[:, 0].min() - 1, X[:, 0].max() + 1\n",
    "        y_min, y_max = X[:, 1].min() - 1, X[:, 1].max() + 1\n",
    "        xx, yy = np.meshgrid(np.arange(x_min, x_max, 0.01),\n",
    "                             np.arange(y_min, y_max, 0.01))\n",
    "\n",
    "        Z = model.predict(np.c_[xx.ravel(), yy.ravel()])\n",
    "        Z = Z.reshape(xx.shape)\n",
    "\n",
    "        ax.contourf(xx, yy, Z, alpha=0.4)\n",
    "\n",
    "        # Plot\n",
    "        ax.scatter(X[:, 0], X[:, 1], c=Y, s=20, edgecolor='k')\n",
    "        ax.get_xaxis().set_visible(False)\n",
    "        ax.get_yaxis().set_visible(False)\n",
    "\n",
    "    plt.show()"
   ]
  },
  {
   "cell_type": "code",
   "execution_count": 14,
   "id": "fvdJPPzueGyk",
   "metadata": {
    "id": "fvdJPPzueGyk"
   },
   "outputs": [],
   "source": [
    "# making all alphabets lower\n",
    "main_df['headline'] = main_df['headline'].str.lower()"
   ]
  },
  {
   "cell_type": "code",
   "execution_count": 64,
   "id": "7pGO7U2BeG6L",
   "metadata": {
    "id": "7pGO7U2BeG6L"
   },
   "outputs": [],
   "source": [
    "# defining dependent and independent variables\n",
    "X = main_df[['headline']]\n",
    "y = main_df['category']"
   ]
  },
  {
   "cell_type": "code",
   "execution_count": 65,
   "id": "kp21XtboSeTq",
   "metadata": {
    "id": "kp21XtboSeTq"
   },
   "outputs": [],
   "source": [
    "from sklearn.preprocessing import LabelEncoder\n",
    "\n",
    "# applying label encoding to the target variable\n",
    "encoder = LabelEncoder()\n",
    "le = encoder.fit(y)"
   ]
  },
  {
   "cell_type": "code",
   "execution_count": 66,
   "id": "lXSD-TW8WE7l",
   "metadata": {
    "colab": {
     "base_uri": "https://localhost:8080/"
    },
    "id": "lXSD-TW8WE7l",
    "outputId": "6bcb9ae1-e0f9-4dd6-f1a0-7c6d6d1c0ff6"
   },
   "outputs": [
    {
     "data": {
      "text/plain": [
       "0             WORLD NEWS\n",
       "1             WORLD NEWS\n",
       "2                 COMEDY\n",
       "3              PARENTING\n",
       "4             WORLD NEWS\n",
       "               ...      \n",
       "209318    SCIENCE & TECH\n",
       "209319            SPORTS\n",
       "209320            SPORTS\n",
       "209321            SPORTS\n",
       "209322            SPORTS\n",
       "Name: category, Length: 209294, dtype: object"
      ]
     },
     "execution_count": 66,
     "metadata": {},
     "output_type": "execute_result"
    }
   ],
   "source": [
    "y"
   ]
  },
  {
   "cell_type": "code",
   "execution_count": 67,
   "id": "jy9W-GH0VXDR",
   "metadata": {
    "id": "jy9W-GH0VXDR"
   },
   "outputs": [],
   "source": [
    "# transforming y according label encoder\n",
    "y = le.transform(y)"
   ]
  },
  {
   "cell_type": "code",
   "execution_count": 71,
   "id": "2NzEz8qdWRoK",
   "metadata": {
    "colab": {
     "base_uri": "https://localhost:8080/"
    },
    "id": "2NzEz8qdWRoK",
    "outputId": "32e6cd38-8e0f-40df-9a05-84aa1a81e9fc"
   },
   "outputs": [
    {
     "data": {
      "text/plain": [
       "209294"
      ]
     },
     "execution_count": 71,
     "metadata": {},
     "output_type": "execute_result"
    }
   ],
   "source": [
    "# check\n",
    "y.size"
   ]
  },
  {
   "cell_type": "code",
   "execution_count": null,
   "id": "ZtCwGfdfeG7D",
   "metadata": {
    "id": "ZtCwGfdfeG7D"
   },
   "outputs": [],
   "source": [
    "#splitting into train and test splits\n",
    "X_train, X_test, y_train, y_test = train_test_split(X, y, test_size=0.20, random_state=1, stratify=y)"
   ]
  },
  {
   "cell_type": "code",
   "execution_count": null,
   "id": "O-C8KKbMpVQa",
   "metadata": {
    "id": "O-C8KKbMpVQa"
   },
   "outputs": [],
   "source": [
    "# making a pipeline for the tf-idf vectorizer\n",
    "pipeline = Pipeline([\n",
    "              \n",
    "                ('tfidf', TfidfVectorizer( min_df =3, max_df=0.2, max_features=3000, \n",
    "                    strip_accents='unicode', analyzer='word',\n",
    "                    ngram_range=(1, 10),\n",
    "                    stop_words = 'english'))\n",
    "])"
   ]
  },
  {
   "cell_type": "code",
   "execution_count": null,
   "id": "JOJxRTQGpVeS",
   "metadata": {
    "colab": {
     "base_uri": "https://localhost:8080/"
    },
    "id": "JOJxRTQGpVeS",
    "outputId": "53673d86-77f5-4169-a0c2-006e8161ea27"
   },
   "outputs": [
    {
     "data": {
      "text/plain": [
       "Pipeline(steps=[('tfidf',\n",
       "                 TfidfVectorizer(max_df=0.2, max_features=3000, min_df=3,\n",
       "                                 ngram_range=(1, 10), stop_words='english',\n",
       "                                 strip_accents='unicode'))])"
      ]
     },
     "execution_count": 15,
     "metadata": {},
     "output_type": "execute_result"
    }
   ],
   "source": [
    "# fitting the pipeline to the headline column\n",
    "pipeline.fit(X_train['headline'])"
   ]
  },
  {
   "cell_type": "code",
   "execution_count": null,
   "id": "Q3nG7xnppVoq",
   "metadata": {
    "colab": {
     "base_uri": "https://localhost:8080/"
    },
    "id": "Q3nG7xnppVoq",
    "outputId": "b19aad9b-aebe-4876-9f80-26cbc909053d"
   },
   "outputs": [
    {
     "name": "stdout",
     "output_type": "stream",
     "text": [
      "CPU times: user 5.55 s, sys: 14 ms, total: 5.57 s\n",
      "Wall time: 5.55 s\n"
     ]
    }
   ],
   "source": [
    "%%time\n",
    "train_vec = pipeline.transform(X_train['headline'])\n",
    "test_vec = pipeline.transform(X_test['headline'])"
   ]
  },
  {
   "cell_type": "code",
   "execution_count": null,
   "id": "TpXuwCHF7OjG",
   "metadata": {
    "colab": {
     "base_uri": "https://localhost:8080/"
    },
    "id": "TpXuwCHF7OjG",
    "outputId": "c86bc3e5-d403-48be-e825-291e8a064b23"
   },
   "outputs": [
    {
     "name": "stdout",
     "output_type": "stream",
     "text": [
      "Test Set Scores:\n",
      "AdaBoost score: 0.27618911106333166\n",
      "XG Boost score: 0.47399603430564513\n"
     ]
    }
   ],
   "source": [
    "# fitting the model on XGboost and AdaBoost Classifier\n",
    "XGB_model = XGBClassifier()\n",
    "AB_model = AdaBoostClassifier()\n",
    "\n",
    "XGB_model.fit(train_vec, y_train)\n",
    "AB_model.fit(train_vec, y_train)\n",
    "\n",
    "print(\"Test Set Scores:\")\n",
    "print(f\"AdaBoost score: {AB_model.score(test_vec, y_test)}\")\n",
    "print(f\"XG Boost score: {XGB_model.score(test_vec, y_test)}\")"
   ]
  },
  {
   "cell_type": "code",
   "execution_count": null,
   "id": "vAzsBUfU7Olc",
   "metadata": {
    "colab": {
     "base_uri": "https://localhost:8080/"
    },
    "id": "vAzsBUfU7Olc",
    "outputId": "d3cdf679-1bc6-4d8e-a9b2-ca8b4b70d07d"
   },
   "outputs": [
    {
     "name": "stdout",
     "output_type": "stream",
     "text": [
      "Train Set Scores:\n",
      "AdaBoost score: 0.2762922925314301\n",
      "XG Boost score: 0.49015438827007496\n"
     ]
    }
   ],
   "source": [
    "# scoring on train set\n",
    "print(\"Train Set Scores:\")\n",
    "print(f\"AdaBoost score: {AB_model.score(train_vec, y_train)}\")\n",
    "print(f\"XG Boost score: {XGB_model.score(train_vec, y_train)}\")"
   ]
  },
  {
   "cell_type": "markdown",
   "id": "OTd53cCP_nWD",
   "metadata": {
    "id": "OTd53cCP_nWD"
   },
   "source": [
    "AdaBoost performs very poorly on our model"
   ]
  },
  {
   "cell_type": "markdown",
   "id": "RbArlLiW4Bk5",
   "metadata": {
    "id": "RbArlLiW4Bk5"
   },
   "source": [
    "#### Running a XGboost model with some basic parameters"
   ]
  },
  {
   "cell_type": "markdown",
   "id": "AO3hMpbXrWzF",
   "metadata": {
    "id": "AO3hMpbXrWzF"
   },
   "source": [
    "From above we can see that XGboost accuracies are better than the 5-fold cross validation basic decision tree model"
   ]
  },
  {
   "cell_type": "code",
   "execution_count": null,
   "id": "L4NIWbjkeHAD",
   "metadata": {
    "colab": {
     "base_uri": "https://localhost:8080/"
    },
    "id": "L4NIWbjkeHAD",
    "outputId": "dbb6f961-1ba9-433a-ee99-4084e53c6790"
   },
   "outputs": [
    {
     "name": "stdout",
     "output_type": "stream",
     "text": [
      "Fitting 5 folds for each of 6 candidates, totalling 30 fits\n"
     ]
    },
    {
     "data": {
      "text/plain": [
       "GridSearchCV(estimator=XGBClassifier(), n_jobs=-1,\n",
       "             param_grid={'max_depth': [7, 8], 'n_estimators': [100, 110, 120]},\n",
       "             verbose=1)"
      ]
     },
     "execution_count": 21,
     "metadata": {},
     "output_type": "execute_result"
    }
   ],
   "source": [
    "# XGBoost classification with some basic parameters\n",
    "my_xgb = XGBClassifier()\n",
    "\n",
    "param_grid = {'n_estimators': [100, 110, 120], 'max_depth': [7, 8]}\n",
    "grid_xgb = GridSearchCV(my_xgb, param_grid=param_grid, verbose=1, n_jobs=-1)\n",
    "\n",
    "grid_xgb.fit(train_vec, y_train)"
   ]
  },
  {
   "cell_type": "code",
   "execution_count": null,
   "id": "vikNHZ-beHB8",
   "metadata": {
    "colab": {
     "base_uri": "https://localhost:8080/"
    },
    "id": "vikNHZ-beHB8",
    "outputId": "c82ad0e8-82d6-401b-a5dd-337647736a43"
   },
   "outputs": [
    {
     "name": "stdout",
     "output_type": "stream",
     "text": [
      "XG Boost score: 0.5478869538211615\n"
     ]
    }
   ],
   "source": [
    "# accuracy on the test set\n",
    "print(f\"XG Boost score: {grid_xgb.score(test_vec, y_test)}\")"
   ]
  },
  {
   "cell_type": "code",
   "execution_count": null,
   "id": "aPiaG83f2OEV",
   "metadata": {
    "colab": {
     "base_uri": "https://localhost:8080/"
    },
    "id": "aPiaG83f2OEV",
    "outputId": "67f70b7b-0cfa-4324-a0a5-65e198a4d2b4"
   },
   "outputs": [
    {
     "name": "stdout",
     "output_type": "stream",
     "text": [
      "XG Boost score: 0.5938065517962194\n"
     ]
    }
   ],
   "source": [
    "# accuracy on the train set\n",
    "print(f\"XG Boost score: {grid_xgb.score(train_vec, y_train)}\")"
   ]
  },
  {
   "cell_type": "markdown",
   "id": "f0gqCcB72rpB",
   "metadata": {
    "id": "f0gqCcB72rpB"
   },
   "source": [
    "By doing some hyperparameter tuning we have improved the accuracy by a big margin but we did not really try all the paramteres and hypermeteres which could have given much better results.\n",
    "\n",
    "GridSearchCV took almost 2 hours to run this small pipeline. So for further tuning let's try to run randomgridsearch to get faster results. But it should be noted that randomsearchCv gives low performance than the gridsearchGV. There are still more methods to make models more efficient in terms of speed which are discussed and done below. "
   ]
  },
  {
   "cell_type": "markdown",
   "id": "hGv_oHB3E9uf",
   "metadata": {
    "id": "hGv_oHB3E9uf"
   },
   "source": [
    "And probably the number of trees in the forest are huge and for sure due to that reason it's taking too much time to run."
   ]
  },
  {
   "cell_type": "code",
   "execution_count": null,
   "id": "IQBlF-qL6Otv",
   "metadata": {
    "colab": {
     "base_uri": "https://localhost:8080/"
    },
    "id": "IQBlF-qL6Otv",
    "outputId": "66e2afb0-aa16-4a01-e765-6c02407fb5d9"
   },
   "outputs": [
    {
     "data": {
      "text/plain": [
       "dict_keys(['mean_fit_time', 'std_fit_time', 'mean_score_time', 'std_score_time', 'param_max_depth', 'param_n_estimators', 'params', 'split0_test_score', 'split1_test_score', 'split2_test_score', 'split3_test_score', 'split4_test_score', 'mean_test_score', 'std_test_score', 'rank_test_score'])"
      ]
     },
     "execution_count": 26,
     "metadata": {},
     "output_type": "execute_result"
    }
   ],
   "source": [
    "grid_xgb.cv_results_.keys()"
   ]
  },
  {
   "cell_type": "code",
   "execution_count": null,
   "id": "VP6nWwMy6UDk",
   "metadata": {
    "colab": {
     "base_uri": "https://localhost:8080/",
     "height": 206
    },
    "id": "VP6nWwMy6UDk",
    "outputId": "7e169da7-55e0-4aa0-e418-c5fd30c458f0"
   },
   "outputs": [
    {
     "data": {
      "text/html": [
       "\n",
       "  <div id=\"df-46b86379-25e3-4ae3-b98d-27add21304a9\">\n",
       "    <div class=\"colab-df-container\">\n",
       "      <div>\n",
       "<style scoped>\n",
       "    .dataframe tbody tr th:only-of-type {\n",
       "        vertical-align: middle;\n",
       "    }\n",
       "\n",
       "    .dataframe tbody tr th {\n",
       "        vertical-align: top;\n",
       "    }\n",
       "\n",
       "    .dataframe thead th {\n",
       "        text-align: right;\n",
       "    }\n",
       "</style>\n",
       "<table border=\"1\" class=\"dataframe\">\n",
       "  <thead>\n",
       "    <tr style=\"text-align: right;\">\n",
       "      <th></th>\n",
       "      <th>n_estimators</th>\n",
       "      <th>max_depth</th>\n",
       "      <th>mean_score</th>\n",
       "    </tr>\n",
       "  </thead>\n",
       "  <tbody>\n",
       "    <tr>\n",
       "      <th>0</th>\n",
       "      <td>100</td>\n",
       "      <td>7</td>\n",
       "      <td>0.535545</td>\n",
       "    </tr>\n",
       "    <tr>\n",
       "      <th>1</th>\n",
       "      <td>110</td>\n",
       "      <td>7</td>\n",
       "      <td>0.538782</td>\n",
       "    </tr>\n",
       "    <tr>\n",
       "      <th>2</th>\n",
       "      <td>120</td>\n",
       "      <td>7</td>\n",
       "      <td>0.541273</td>\n",
       "    </tr>\n",
       "    <tr>\n",
       "      <th>3</th>\n",
       "      <td>100</td>\n",
       "      <td>8</td>\n",
       "      <td>0.539887</td>\n",
       "    </tr>\n",
       "    <tr>\n",
       "      <th>4</th>\n",
       "      <td>110</td>\n",
       "      <td>8</td>\n",
       "      <td>0.542873</td>\n",
       "    </tr>\n",
       "  </tbody>\n",
       "</table>\n",
       "</div>\n",
       "      <button class=\"colab-df-convert\" onclick=\"convertToInteractive('df-46b86379-25e3-4ae3-b98d-27add21304a9')\"\n",
       "              title=\"Convert this dataframe to an interactive table.\"\n",
       "              style=\"display:none;\">\n",
       "        \n",
       "  <svg xmlns=\"http://www.w3.org/2000/svg\" height=\"24px\"viewBox=\"0 0 24 24\"\n",
       "       width=\"24px\">\n",
       "    <path d=\"M0 0h24v24H0V0z\" fill=\"none\"/>\n",
       "    <path d=\"M18.56 5.44l.94 2.06.94-2.06 2.06-.94-2.06-.94-.94-2.06-.94 2.06-2.06.94zm-11 1L8.5 8.5l.94-2.06 2.06-.94-2.06-.94L8.5 2.5l-.94 2.06-2.06.94zm10 10l.94 2.06.94-2.06 2.06-.94-2.06-.94-.94-2.06-.94 2.06-2.06.94z\"/><path d=\"M17.41 7.96l-1.37-1.37c-.4-.4-.92-.59-1.43-.59-.52 0-1.04.2-1.43.59L10.3 9.45l-7.72 7.72c-.78.78-.78 2.05 0 2.83L4 21.41c.39.39.9.59 1.41.59.51 0 1.02-.2 1.41-.59l7.78-7.78 2.81-2.81c.8-.78.8-2.07 0-2.86zM5.41 20L4 18.59l7.72-7.72 1.47 1.35L5.41 20z\"/>\n",
       "  </svg>\n",
       "      </button>\n",
       "      \n",
       "  <style>\n",
       "    .colab-df-container {\n",
       "      display:flex;\n",
       "      flex-wrap:wrap;\n",
       "      gap: 12px;\n",
       "    }\n",
       "\n",
       "    .colab-df-convert {\n",
       "      background-color: #E8F0FE;\n",
       "      border: none;\n",
       "      border-radius: 50%;\n",
       "      cursor: pointer;\n",
       "      display: none;\n",
       "      fill: #1967D2;\n",
       "      height: 32px;\n",
       "      padding: 0 0 0 0;\n",
       "      width: 32px;\n",
       "    }\n",
       "\n",
       "    .colab-df-convert:hover {\n",
       "      background-color: #E2EBFA;\n",
       "      box-shadow: 0px 1px 2px rgba(60, 64, 67, 0.3), 0px 1px 3px 1px rgba(60, 64, 67, 0.15);\n",
       "      fill: #174EA6;\n",
       "    }\n",
       "\n",
       "    [theme=dark] .colab-df-convert {\n",
       "      background-color: #3B4455;\n",
       "      fill: #D2E3FC;\n",
       "    }\n",
       "\n",
       "    [theme=dark] .colab-df-convert:hover {\n",
       "      background-color: #434B5C;\n",
       "      box-shadow: 0px 1px 3px 1px rgba(0, 0, 0, 0.15);\n",
       "      filter: drop-shadow(0px 1px 2px rgba(0, 0, 0, 0.3));\n",
       "      fill: #FFFFFF;\n",
       "    }\n",
       "  </style>\n",
       "\n",
       "      <script>\n",
       "        const buttonEl =\n",
       "          document.querySelector('#df-46b86379-25e3-4ae3-b98d-27add21304a9 button.colab-df-convert');\n",
       "        buttonEl.style.display =\n",
       "          google.colab.kernel.accessAllowed ? 'block' : 'none';\n",
       "\n",
       "        async function convertToInteractive(key) {\n",
       "          const element = document.querySelector('#df-46b86379-25e3-4ae3-b98d-27add21304a9');\n",
       "          const dataTable =\n",
       "            await google.colab.kernel.invokeFunction('convertToInteractive',\n",
       "                                                     [key], {});\n",
       "          if (!dataTable) return;\n",
       "\n",
       "          const docLinkHtml = 'Like what you see? Visit the ' +\n",
       "            '<a target=\"_blank\" href=https://colab.research.google.com/notebooks/data_table.ipynb>data table notebook</a>'\n",
       "            + ' to learn more about interactive tables.';\n",
       "          element.innerHTML = '';\n",
       "          dataTable['output_type'] = 'display_data';\n",
       "          await google.colab.output.renderOutput(dataTable, element);\n",
       "          const docLink = document.createElement('div');\n",
       "          docLink.innerHTML = docLinkHtml;\n",
       "          element.appendChild(docLink);\n",
       "        }\n",
       "      </script>\n",
       "    </div>\n",
       "  </div>\n",
       "  "
      ],
      "text/plain": [
       "  n_estimators max_depth  mean_score\n",
       "0          100         7    0.535545\n",
       "1          110         7    0.538782\n",
       "2          120         7    0.541273\n",
       "3          100         8    0.539887\n",
       "4          110         8    0.542873"
      ]
     },
     "execution_count": 27,
     "metadata": {},
     "output_type": "execute_result"
    }
   ],
   "source": [
    "# we cast max_depth to str so that seaborn treats it like a category,\n",
    "# which is better for visuals\n",
    "results_df = pd.DataFrame({\n",
    "    \"n_estimators\": grid_xgb.cv_results_[\"param_n_estimators\"],\n",
    "    'max_depth': grid_xgb.cv_results_[\"param_max_depth\"].astype(str),\n",
    "    'mean_score': grid_xgb.cv_results_[\"mean_test_score\"]\n",
    "})\n",
    "\n",
    "results_df.head()"
   ]
  },
  {
   "cell_type": "code",
   "execution_count": null,
   "id": "oJvsOXIP6Vi7",
   "metadata": {
    "colab": {
     "base_uri": "https://localhost:8080/",
     "height": 459
    },
    "id": "oJvsOXIP6Vi7",
    "outputId": "9329b0ba-ddb0-4af4-e327-6aa2fde55157"
   },
   "outputs": [
    {
     "data": {
      "image/png": "[encoded data removed]",
      "text/plain": [
       "<Figure size 720x504 with 1 Axes>"
      ]
     },
     "metadata": {},
     "output_type": "display_data"
    }
   ],
   "source": [
    "# plotting accuracy versus number of parameters\n",
    "plt.figure(figsize=(10, 7))\n",
    "sns.lineplot(x=\"n_estimators\", y=\"mean_score\", hue=\"max_depth\", data=results_df)\n",
    "plt.title(\"XGBoost performance over different max_depth and n_estimators values\")\n",
    "plt.show()"
   ]
  },
  {
   "cell_type": "markdown",
   "id": "wL4jqoyLdyx9",
   "metadata": {
    "id": "wL4jqoyLdyx9"
   },
   "source": [
    "From the above graph it is obvious that more is the depth of the tree, more is the good is the precision of the model.\n",
    "\n",
    "\n",
    "However, also more is the `max_depth`, more are the chances of overfitting of the model."
   ]
  },
  {
   "cell_type": "code",
   "execution_count": null,
   "id": "hk9XBYWb6Vmd",
   "metadata": {
    "colab": {
     "base_uri": "https://localhost:8080/"
    },
    "id": "hk9XBYWb6Vmd",
    "outputId": "92e0fe64-1de3-40e3-99d9-2b489b02d53b"
   },
   "outputs": [
    {
     "data": {
      "text/plain": [
       "XGBClassifier(max_depth=8, n_estimators=120, objective='multi:softprob')"
      ]
     },
     "execution_count": 29,
     "metadata": {},
     "output_type": "execute_result"
    }
   ],
   "source": [
    "grid_xgb.best_estimator_"
   ]
  },
  {
   "cell_type": "markdown",
   "id": "gc4DA-3L30mC",
   "metadata": {
    "id": "gc4DA-3L30mC"
   },
   "source": [
    "---"
   ]
  },
  {
   "cell_type": "markdown",
   "id": "NkD5a1SM32GL",
   "metadata": {
    "id": "NkD5a1SM32GL"
   },
   "source": [
    "#### Hyperparameter tuning on XGboost model"
   ]
  },
  {
   "cell_type": "markdown",
   "id": "loiAj-7CeQsJ",
   "metadata": {
    "id": "loiAj-7CeQsJ"
   },
   "source": [
    "As XGBoost is computational expensive model, let's take a sample dataset out of the datasset and do the hyperparameter tuning on the sub-data."
   ]
  },
  {
   "cell_type": "code",
   "execution_count": null,
   "id": "bPHHNENSAuKu",
   "metadata": {
    "id": "bPHHNENSAuKu"
   },
   "outputs": [],
   "source": [
    "# takeing 60% sample from the dataset\n",
    "main2_df = main_df.sample(frac=0.35, random_state=1)"
   ]
  },
  {
   "cell_type": "code",
   "execution_count": null,
   "id": "chiC335xAuOg",
   "metadata": {
    "id": "chiC335xAuOg"
   },
   "outputs": [],
   "source": [
    "# defining dependent and independent variable\n",
    "X = main2_df[['headline']]\n",
    "y = main2_df['category']"
   ]
  },
  {
   "cell_type": "code",
   "execution_count": null,
   "id": "WfVIWjg4AuQm",
   "metadata": {
    "id": "WfVIWjg4AuQm"
   },
   "outputs": [],
   "source": [
    " #splitting into train and test splits\n",
    "X_train, X_test, y_train, y_test = train_test_split(X, y, test_size=0.20, random_state=1, stratify=y)"
   ]
  },
  {
   "cell_type": "code",
   "execution_count": null,
   "id": "_45WtAECAuS7",
   "metadata": {
    "id": "_45WtAECAuS7"
   },
   "outputs": [],
   "source": [
    "# making a pipeline for the tf-idf vectorizer\n",
    "pipeline = Pipeline([\n",
    "              \n",
    "                ('tfidf', TfidfVectorizer( min_df =3, max_df=0.2, max_features=3000, \n",
    "                    strip_accents='unicode', analyzer='word',\n",
    "                    ngram_range=(1, 10),\n",
    "                    stop_words = 'english'))\n",
    "])"
   ]
  },
  {
   "cell_type": "code",
   "execution_count": null,
   "id": "iYNAg9cmAuUl",
   "metadata": {
    "colab": {
     "base_uri": "https://localhost:8080/"
    },
    "id": "iYNAg9cmAuUl",
    "outputId": "1ebcaec3-b30f-4bda-ba9d-175c8b2c36f0"
   },
   "outputs": [
    {
     "data": {
      "text/plain": [
       "Pipeline(steps=[('tfidf',\n",
       "                 TfidfVectorizer(max_df=0.2, max_features=3000, min_df=3,\n",
       "                                 ngram_range=(1, 10), stop_words='english',\n",
       "                                 strip_accents='unicode'))])"
      ]
     },
     "execution_count": 39,
     "metadata": {},
     "output_type": "execute_result"
    }
   ],
   "source": [
    "# fitting the pipeline to the headline column\n",
    "pipeline.fit(X_train['headline'])"
   ]
  },
  {
   "cell_type": "code",
   "execution_count": null,
   "id": "HiUwW5QGAuW0",
   "metadata": {
    "colab": {
     "base_uri": "https://localhost:8080/"
    },
    "id": "HiUwW5QGAuW0",
    "outputId": "f02da802-8d78-4b86-a901-7e1761a72179"
   },
   "outputs": [
    {
     "name": "stdout",
     "output_type": "stream",
     "text": [
      "CPU times: user 1.85 s, sys: 7.9 ms, total: 1.86 s\n",
      "Wall time: 1.85 s\n"
     ]
    }
   ],
   "source": [
    "%%time\n",
    "train_vec = pipeline.transform(X_train['headline'])\n",
    "test_vec = pipeline.transform(X_test['headline'])"
   ]
  },
  {
   "cell_type": "code",
   "execution_count": null,
   "id": "sDlFY9F8eHP1",
   "metadata": {
    "colab": {
     "base_uri": "https://localhost:8080/"
    },
    "id": "sDlFY9F8eHP1",
    "outputId": "ba75c709-59cf-40fc-8704-b0ef33dc2c0f"
   },
   "outputs": [
    {
     "name": "stdout",
     "output_type": "stream",
     "text": [
      "Fitting 5 folds for each of 4 candidates, totalling 20 fits\n"
     ]
    },
    {
     "name": "stderr",
     "output_type": "stream",
     "text": [
      "/usr/local/lib/python3.8/dist-packages/sklearn/model_selection/_search.py:292: UserWarning: The total space of parameters 4 is smaller than n_iter=10. Running 4 iterations. For exhaustive searches, use GridSearchCV.\n",
      "  warnings.warn(\n"
     ]
    },
    {
     "data": {
      "text/plain": [
       "RandomizedSearchCV(estimator=XGBClassifier(), n_jobs=-1,\n",
       "                   param_distributions={'max_depth': [15, 20],\n",
       "                                        'n_estimators': [40, 45]},\n",
       "                   verbose=1)"
      ]
     },
     "execution_count": 49,
     "metadata": {},
     "output_type": "execute_result"
    }
   ],
   "source": [
    "# experiment\n",
    "my_xgb = XGBClassifier()\n",
    "\n",
    "param_grid = {'n_estimators': [40, 45], 'max_depth': [15, 20]}\n",
    "grid_xgb = RandomizedSearchCV(my_xgb, param_distributions=param_grid, verbose=1, n_jobs=-1)\n",
    "\n",
    "grid_xgb.fit(train_vec, y_train)"
   ]
  },
  {
   "cell_type": "code",
   "execution_count": null,
   "id": "DNaufCTWeHSd",
   "metadata": {
    "colab": {
     "base_uri": "https://localhost:8080/"
    },
    "id": "DNaufCTWeHSd",
    "outputId": "a58c382c-6371-4b4a-c48c-44d03b2d955b"
   },
   "outputs": [
    {
     "name": "stdout",
     "output_type": "stream",
     "text": [
      "XG Boost score: 0.6340909866557456\n"
     ]
    }
   ],
   "source": [
    "# accuracy on the train set\n",
    "print(f\"XG Boost score: {grid_xgb.score(train_vec, y_train)}\")"
   ]
  },
  {
   "cell_type": "code",
   "execution_count": null,
   "id": "LopkDL8OeHVD",
   "metadata": {
    "colab": {
     "base_uri": "https://localhost:8080/"
    },
    "id": "LopkDL8OeHVD",
    "outputId": "6a3c83c9-658b-4c39-a8a6-042e2d2056bf"
   },
   "outputs": [
    {
     "name": "stdout",
     "output_type": "stream",
     "text": [
      "XG Boost score: 0.5199645075421473\n"
     ]
    }
   ],
   "source": [
    "# accuracy on the test set\n",
    "print(f\"XG Boost score: {grid_xgb.score(test_vec, y_test)}\")"
   ]
  },
  {
   "cell_type": "markdown",
   "id": "eaYC-ZHQPj_a",
   "metadata": {
    "id": "eaYC-ZHQPj_a"
   },
   "source": [
    "From above we can see that there is a lot of overfitting in the data. This could be because there is a bigger value of `max_depth` being used in the above model."
   ]
  },
  {
   "cell_type": "code",
   "execution_count": null,
   "id": "QQsaDD_reHXh",
   "metadata": {
    "colab": {
     "base_uri": "https://localhost:8080/"
    },
    "id": "QQsaDD_reHXh",
    "outputId": "d590dd3e-af44-4000-af42-83eec84e8499"
   },
   "outputs": [
    {
     "data": {
      "text/plain": [
       "dict_keys(['mean_fit_time', 'std_fit_time', 'mean_score_time', 'std_score_time', 'param_n_estimators', 'param_max_depth', 'params', 'split0_test_score', 'split1_test_score', 'split2_test_score', 'split3_test_score', 'split4_test_score', 'mean_test_score', 'std_test_score', 'rank_test_score'])"
      ]
     },
     "execution_count": 52,
     "metadata": {},
     "output_type": "execute_result"
    }
   ],
   "source": [
    "grid_xgb.cv_results_.keys()"
   ]
  },
  {
   "cell_type": "code",
   "execution_count": null,
   "id": "SStr_7cleHaP",
   "metadata": {
    "colab": {
     "base_uri": "https://localhost:8080/",
     "height": 175
    },
    "id": "SStr_7cleHaP",
    "outputId": "2e7eb38f-5604-457a-cda2-854505dddad1"
   },
   "outputs": [
    {
     "data": {
      "text/html": [
       "\n",
       "  <div id=\"df-72533d3e-73e9-4d11-8484-88a5ff7bc33e\">\n",
       "    <div class=\"colab-df-container\">\n",
       "      <div>\n",
       "<style scoped>\n",
       "    .dataframe tbody tr th:only-of-type {\n",
       "        vertical-align: middle;\n",
       "    }\n",
       "\n",
       "    .dataframe tbody tr th {\n",
       "        vertical-align: top;\n",
       "    }\n",
       "\n",
       "    .dataframe thead th {\n",
       "        text-align: right;\n",
       "    }\n",
       "</style>\n",
       "<table border=\"1\" class=\"dataframe\">\n",
       "  <thead>\n",
       "    <tr style=\"text-align: right;\">\n",
       "      <th></th>\n",
       "      <th>n_estimators</th>\n",
       "      <th>max_depth</th>\n",
       "      <th>mean_score</th>\n",
       "    </tr>\n",
       "  </thead>\n",
       "  <tbody>\n",
       "    <tr>\n",
       "      <th>0</th>\n",
       "      <td>40</td>\n",
       "      <td>15</td>\n",
       "      <td>0.513037</td>\n",
       "    </tr>\n",
       "    <tr>\n",
       "      <th>1</th>\n",
       "      <td>45</td>\n",
       "      <td>15</td>\n",
       "      <td>0.515494</td>\n",
       "    </tr>\n",
       "    <tr>\n",
       "      <th>2</th>\n",
       "      <td>40</td>\n",
       "      <td>20</td>\n",
       "      <td>0.517508</td>\n",
       "    </tr>\n",
       "    <tr>\n",
       "      <th>3</th>\n",
       "      <td>45</td>\n",
       "      <td>20</td>\n",
       "      <td>0.519607</td>\n",
       "    </tr>\n",
       "  </tbody>\n",
       "</table>\n",
       "</div>\n",
       "      <button class=\"colab-df-convert\" onclick=\"convertToInteractive('df-72533d3e-73e9-4d11-8484-88a5ff7bc33e')\"\n",
       "              title=\"Convert this dataframe to an interactive table.\"\n",
       "              style=\"display:none;\">\n",
       "        \n",
       "  <svg xmlns=\"http://www.w3.org/2000/svg\" height=\"24px\"viewBox=\"0 0 24 24\"\n",
       "       width=\"24px\">\n",
       "    <path d=\"M0 0h24v24H0V0z\" fill=\"none\"/>\n",
       "    <path d=\"M18.56 5.44l.94 2.06.94-2.06 2.06-.94-2.06-.94-.94-2.06-.94 2.06-2.06.94zm-11 1L8.5 8.5l.94-2.06 2.06-.94-2.06-.94L8.5 2.5l-.94 2.06-2.06.94zm10 10l.94 2.06.94-2.06 2.06-.94-2.06-.94-.94-2.06-.94 2.06-2.06.94z\"/><path d=\"M17.41 7.96l-1.37-1.37c-.4-.4-.92-.59-1.43-.59-.52 0-1.04.2-1.43.59L10.3 9.45l-7.72 7.72c-.78.78-.78 2.05 0 2.83L4 21.41c.39.39.9.59 1.41.59.51 0 1.02-.2 1.41-.59l7.78-7.78 2.81-2.81c.8-.78.8-2.07 0-2.86zM5.41 20L4 18.59l7.72-7.72 1.47 1.35L5.41 20z\"/>\n",
       "  </svg>\n",
       "      </button>\n",
       "      \n",
       "  <style>\n",
       "    .colab-df-container {\n",
       "      display:flex;\n",
       "      flex-wrap:wrap;\n",
       "      gap: 12px;\n",
       "    }\n",
       "\n",
       "    .colab-df-convert {\n",
       "      background-color: #E8F0FE;\n",
       "      border: none;\n",
       "      border-radius: 50%;\n",
       "      cursor: pointer;\n",
       "      display: none;\n",
       "      fill: #1967D2;\n",
       "      height: 32px;\n",
       "      padding: 0 0 0 0;\n",
       "      width: 32px;\n",
       "    }\n",
       "\n",
       "    .colab-df-convert:hover {\n",
       "      background-color: #E2EBFA;\n",
       "      box-shadow: 0px 1px 2px rgba(60, 64, 67, 0.3), 0px 1px 3px 1px rgba(60, 64, 67, 0.15);\n",
       "      fill: #174EA6;\n",
       "    }\n",
       "\n",
       "    [theme=dark] .colab-df-convert {\n",
       "      background-color: #3B4455;\n",
       "      fill: #D2E3FC;\n",
       "    }\n",
       "\n",
       "    [theme=dark] .colab-df-convert:hover {\n",
       "      background-color: #434B5C;\n",
       "      box-shadow: 0px 1px 3px 1px rgba(0, 0, 0, 0.15);\n",
       "      filter: drop-shadow(0px 1px 2px rgba(0, 0, 0, 0.3));\n",
       "      fill: #FFFFFF;\n",
       "    }\n",
       "  </style>\n",
       "\n",
       "      <script>\n",
       "        const buttonEl =\n",
       "          document.querySelector('#df-72533d3e-73e9-4d11-8484-88a5ff7bc33e button.colab-df-convert');\n",
       "        buttonEl.style.display =\n",
       "          google.colab.kernel.accessAllowed ? 'block' : 'none';\n",
       "\n",
       "        async function convertToInteractive(key) {\n",
       "          const element = document.querySelector('#df-72533d3e-73e9-4d11-8484-88a5ff7bc33e');\n",
       "          const dataTable =\n",
       "            await google.colab.kernel.invokeFunction('convertToInteractive',\n",
       "                                                     [key], {});\n",
       "          if (!dataTable) return;\n",
       "\n",
       "          const docLinkHtml = 'Like what you see? Visit the ' +\n",
       "            '<a target=\"_blank\" href=https://colab.research.google.com/notebooks/data_table.ipynb>data table notebook</a>'\n",
       "            + ' to learn more about interactive tables.';\n",
       "          element.innerHTML = '';\n",
       "          dataTable['output_type'] = 'display_data';\n",
       "          await google.colab.output.renderOutput(dataTable, element);\n",
       "          const docLink = document.createElement('div');\n",
       "          docLink.innerHTML = docLinkHtml;\n",
       "          element.appendChild(docLink);\n",
       "        }\n",
       "      </script>\n",
       "    </div>\n",
       "  </div>\n",
       "  "
      ],
      "text/plain": [
       "  n_estimators max_depth  mean_score\n",
       "0           40        15    0.513037\n",
       "1           45        15    0.515494\n",
       "2           40        20    0.517508\n",
       "3           45        20    0.519607"
      ]
     },
     "execution_count": 53,
     "metadata": {},
     "output_type": "execute_result"
    }
   ],
   "source": [
    "# we cast max_depth to str so that seaborn treats it like a category,\n",
    "# which is better for visuals\n",
    "results_df = pd.DataFrame({\n",
    "    \"n_estimators\": grid_xgb.cv_results_[\"param_n_estimators\"],\n",
    "    'max_depth': grid_xgb.cv_results_[\"param_max_depth\"].astype(str),\n",
    "    'mean_score': grid_xgb.cv_results_[\"mean_test_score\"]\n",
    "})\n",
    "\n",
    "results_df.head()"
   ]
  },
  {
   "cell_type": "markdown",
   "id": "By1LWWMkex4D",
   "metadata": {
    "id": "By1LWWMkex4D"
   },
   "source": [
    "From the above table, we can see that more are the number of trees in the dataset, more is the performance of the XGboost model."
   ]
  },
  {
   "cell_type": "code",
   "execution_count": null,
   "id": "m9Lj09MQeHcp",
   "metadata": {
    "colab": {
     "base_uri": "https://localhost:8080/"
    },
    "id": "m9Lj09MQeHcp",
    "outputId": "32f13896-7556-4c4b-bd5c-1a6484e43a0e"
   },
   "outputs": [
    {
     "data": {
      "text/plain": [
       "XGBClassifier(max_depth=20, n_estimators=45, objective='multi:softprob')"
      ]
     },
     "execution_count": 54,
     "metadata": {},
     "output_type": "execute_result"
    }
   ],
   "source": [
    "grid_xgb.best_estimator_"
   ]
  },
  {
   "cell_type": "code",
   "execution_count": null,
   "id": "jUptLQrgeHfl",
   "metadata": {
    "colab": {
     "base_uri": "https://localhost:8080/",
     "height": 459
    },
    "id": "jUptLQrgeHfl",
    "outputId": "5ac6b167-e53a-4205-a8be-6805bc52afd6"
   },
   "outputs": [
    {
     "data": {
      "image/png": "[encoded data removed]",
      "text/plain": [
       "<Figure size 720x504 with 1 Axes>"
      ]
     },
     "metadata": {},
     "output_type": "display_data"
    }
   ],
   "source": [
    "# plotting avearge accuracies versus number of trees\n",
    "plt.figure(figsize=(10, 7))\n",
    "sns.lineplot(x=\"n_estimators\", y=\"mean_score\", hue=\"max_depth\", data=results_df)\n",
    "plt.title(\"XGBoost performance over different max_depth and n_estimators values\")\n",
    "plt.show()"
   ]
  },
  {
   "cell_type": "markdown",
   "id": "o2b1NrNdQLIe",
   "metadata": {
    "id": "o2b1NrNdQLIe"
   },
   "source": [
    "---"
   ]
  },
  {
   "cell_type": "markdown",
   "id": "xviUInSBQTTT",
   "metadata": {
    "id": "xviUInSBQTTT"
   },
   "source": [
    "### Final hyperparameter tuning"
   ]
  },
  {
   "cell_type": "code",
   "execution_count": 15,
   "id": "LiQT-SyNeHk_",
   "metadata": {
    "id": "LiQT-SyNeHk_"
   },
   "outputs": [],
   "source": [
    "# defining dependent and dependent variable\n",
    "X = main_df[['headline']]\n",
    "y = main_df['category']"
   ]
  },
  {
   "cell_type": "code",
   "execution_count": 16,
   "id": "_dsj7gVdeHny",
   "metadata": {
    "id": "_dsj7gVdeHny"
   },
   "outputs": [],
   "source": [
    " #splitting into train and test splits\n",
    "X_train, X_test, y_train, y_test = train_test_split(X, y, test_size=0.20, random_state=1, stratify=y)"
   ]
  },
  {
   "cell_type": "code",
   "execution_count": 17,
   "id": "cZ5KbxuIeHqN",
   "metadata": {
    "id": "cZ5KbxuIeHqN"
   },
   "outputs": [],
   "source": [
    "# making a pipeline for the tf-idf vectorizer\n",
    "pipeline = Pipeline([\n",
    "              \n",
    "                ('tfidf', TfidfVectorizer( min_df =3, max_df=0.2, max_features=3000, \n",
    "                    strip_accents='unicode', analyzer='word',\n",
    "                    ngram_range=(1, 10),\n",
    "                    stop_words = 'english'))\n",
    "])"
   ]
  },
  {
   "cell_type": "code",
   "execution_count": 18,
   "id": "cMHdW46FeHs9",
   "metadata": {
    "colab": {
     "base_uri": "https://localhost:8080/"
    },
    "id": "cMHdW46FeHs9",
    "outputId": "cf529623-ebb9-4eec-f1a6-16f7db0fe507"
   },
   "outputs": [
    {
     "data": {
      "text/plain": [
       "Pipeline(steps=[('tfidf',\n",
       "                 TfidfVectorizer(max_df=0.2, max_features=3000, min_df=3,\n",
       "                                 ngram_range=(1, 10), stop_words='english',\n",
       "                                 strip_accents='unicode'))])"
      ]
     },
     "execution_count": 18,
     "metadata": {},
     "output_type": "execute_result"
    }
   ],
   "source": [
    "# fitting the pipeline to the headline column\n",
    "pipeline.fit(X_train['headline'])"
   ]
  },
  {
   "cell_type": "code",
   "execution_count": 19,
   "id": "HEhTGrQfeHv2",
   "metadata": {
    "colab": {
     "base_uri": "https://localhost:8080/"
    },
    "id": "HEhTGrQfeHv2",
    "outputId": "a53c4f51-2789-4afe-c51d-fd04f74d42e7"
   },
   "outputs": [
    {
     "name": "stdout",
     "output_type": "stream",
     "text": [
      "CPU times: user 5.52 s, sys: 2.96 ms, total: 5.52 s\n",
      "Wall time: 5.51 s\n"
     ]
    }
   ],
   "source": [
    "%%time\n",
    "train_vec = pipeline.transform(X_train['headline'])\n",
    "test_vec = pipeline.transform(X_test['headline'])"
   ]
  },
  {
   "cell_type": "code",
   "execution_count": null,
   "id": "LfcOtY-0eHyk",
   "metadata": {
    "colab": {
     "base_uri": "https://localhost:8080/"
    },
    "id": "LfcOtY-0eHyk",
    "outputId": "2234ac80-3372-4870-8284-bd702c88e7c6"
   },
   "outputs": [
    {
     "name": "stdout",
     "output_type": "stream",
     "text": [
      "Fitting 3 folds for each of 8 candidates, totalling 24 fits\n"
     ]
    },
    {
     "name": "stderr",
     "output_type": "stream",
     "text": [
      "/usr/local/lib/python3.8/dist-packages/sklearn/model_selection/_search.py:292: UserWarning: The total space of parameters 8 is smaller than n_iter=10. Running 8 iterations. For exhaustive searches, use GridSearchCV.\n",
      "  warnings.warn(\n"
     ]
    },
    {
     "data": {
      "text/plain": [
       "RandomizedSearchCV(cv=3, estimator=XGBClassifier(), n_jobs=-1,\n",
       "                   param_distributions={'gamma': [2], 'max_depth': [10, 15],\n",
       "                                        'min_child_weight': [5, 6],\n",
       "                                        'n_estimators': [25, 30]},\n",
       "                   verbose=1)"
      ]
     },
     "execution_count": 17,
     "metadata": {},
     "output_type": "execute_result"
    }
   ],
   "source": [
    "# final tuning\n",
    "my_xgb = XGBClassifier()\n",
    "\n",
    "param_grid = {'n_estimators': [25, 30], 'max_depth': [10, 15],\n",
    "              'gamma': [2], 'min_child_weight': [5, 6] }\n",
    "grid_xgb = RandomizedSearchCV(my_xgb, param_distributions=param_grid, cv=3, verbose=1, n_jobs=-1)\n",
    "\n",
    "grid_xgb.fit(train_vec, y_train)"
   ]
  },
  {
   "cell_type": "code",
   "execution_count": null,
   "id": "1hKbahLseH1b",
   "metadata": {
    "colab": {
     "base_uri": "https://localhost:8080/"
    },
    "id": "1hKbahLseH1b",
    "outputId": "a60034ec-68f3-441f-f2ae-bde3c6541882"
   },
   "outputs": [
    {
     "name": "stdout",
     "output_type": "stream",
     "text": [
      "XG Boost score: 0.5463373846567324\n"
     ]
    }
   ],
   "source": [
    "# accuracy on the train set\n",
    "print(f\"XG Boost score: {grid_xgb.score(train_vec, y_train)}\")"
   ]
  },
  {
   "cell_type": "code",
   "execution_count": null,
   "id": "-YnPNwdBeH4S",
   "metadata": {
    "colab": {
     "base_uri": "https://localhost:8080/"
    },
    "id": "-YnPNwdBeH4S",
    "outputId": "65b4529e-6967-4190-b0f7-9fc2269ba103"
   },
   "outputs": [
    {
     "name": "stdout",
     "output_type": "stream",
     "text": [
      "XG Boost score: 0.5231133089658138\n"
     ]
    }
   ],
   "source": [
    "# accuracy on the test set\n",
    "print(f\"XG Boost score: {grid_xgb.score(test_vec, y_test)}\")"
   ]
  },
  {
   "cell_type": "code",
   "execution_count": null,
   "id": "HKXXGYZAeH7H",
   "metadata": {
    "colab": {
     "base_uri": "https://localhost:8080/",
     "height": 206
    },
    "id": "HKXXGYZAeH7H",
    "outputId": "b7e89ed4-49e6-47cb-8834-248d49a9cac4"
   },
   "outputs": [
    {
     "data": {
      "text/html": [
       "\n",
       "  <div id=\"df-ad984ad5-ee2e-4517-a2cd-3c036d7de93e\">\n",
       "    <div class=\"colab-df-container\">\n",
       "      <div>\n",
       "<style scoped>\n",
       "    .dataframe tbody tr th:only-of-type {\n",
       "        vertical-align: middle;\n",
       "    }\n",
       "\n",
       "    .dataframe tbody tr th {\n",
       "        vertical-align: top;\n",
       "    }\n",
       "\n",
       "    .dataframe thead th {\n",
       "        text-align: right;\n",
       "    }\n",
       "</style>\n",
       "<table border=\"1\" class=\"dataframe\">\n",
       "  <thead>\n",
       "    <tr style=\"text-align: right;\">\n",
       "      <th></th>\n",
       "      <th>n_estimators</th>\n",
       "      <th>max_depth</th>\n",
       "      <th>mean_score</th>\n",
       "      <th>gamma</th>\n",
       "      <th>min_child_weight</th>\n",
       "    </tr>\n",
       "  </thead>\n",
       "  <tbody>\n",
       "    <tr>\n",
       "      <th>0</th>\n",
       "      <td>25</td>\n",
       "      <td>10</td>\n",
       "      <td>0.494891</td>\n",
       "      <td>2</td>\n",
       "      <td>5</td>\n",
       "    </tr>\n",
       "    <tr>\n",
       "      <th>1</th>\n",
       "      <td>30</td>\n",
       "      <td>10</td>\n",
       "      <td>0.499824</td>\n",
       "      <td>2</td>\n",
       "      <td>5</td>\n",
       "    </tr>\n",
       "    <tr>\n",
       "      <th>2</th>\n",
       "      <td>25</td>\n",
       "      <td>10</td>\n",
       "      <td>0.491719</td>\n",
       "      <td>2</td>\n",
       "      <td>6</td>\n",
       "    </tr>\n",
       "    <tr>\n",
       "      <th>3</th>\n",
       "      <td>30</td>\n",
       "      <td>10</td>\n",
       "      <td>0.497674</td>\n",
       "      <td>2</td>\n",
       "      <td>6</td>\n",
       "    </tr>\n",
       "    <tr>\n",
       "      <th>4</th>\n",
       "      <td>25</td>\n",
       "      <td>15</td>\n",
       "      <td>0.513017</td>\n",
       "      <td>2</td>\n",
       "      <td>5</td>\n",
       "    </tr>\n",
       "  </tbody>\n",
       "</table>\n",
       "</div>\n",
       "      <button class=\"colab-df-convert\" onclick=\"convertToInteractive('df-ad984ad5-ee2e-4517-a2cd-3c036d7de93e')\"\n",
       "              title=\"Convert this dataframe to an interactive table.\"\n",
       "              style=\"display:none;\">\n",
       "        \n",
       "  <svg xmlns=\"http://www.w3.org/2000/svg\" height=\"24px\"viewBox=\"0 0 24 24\"\n",
       "       width=\"24px\">\n",
       "    <path d=\"M0 0h24v24H0V0z\" fill=\"none\"/>\n",
       "    <path d=\"M18.56 5.44l.94 2.06.94-2.06 2.06-.94-2.06-.94-.94-2.06-.94 2.06-2.06.94zm-11 1L8.5 8.5l.94-2.06 2.06-.94-2.06-.94L8.5 2.5l-.94 2.06-2.06.94zm10 10l.94 2.06.94-2.06 2.06-.94-2.06-.94-.94-2.06-.94 2.06-2.06.94z\"/><path d=\"M17.41 7.96l-1.37-1.37c-.4-.4-.92-.59-1.43-.59-.52 0-1.04.2-1.43.59L10.3 9.45l-7.72 7.72c-.78.78-.78 2.05 0 2.83L4 21.41c.39.39.9.59 1.41.59.51 0 1.02-.2 1.41-.59l7.78-7.78 2.81-2.81c.8-.78.8-2.07 0-2.86zM5.41 20L4 18.59l7.72-7.72 1.47 1.35L5.41 20z\"/>\n",
       "  </svg>\n",
       "      </button>\n",
       "      \n",
       "  <style>\n",
       "    .colab-df-container {\n",
       "      display:flex;\n",
       "      flex-wrap:wrap;\n",
       "      gap: 12px;\n",
       "    }\n",
       "\n",
       "    .colab-df-convert {\n",
       "      background-color: #E8F0FE;\n",
       "      border: none;\n",
       "      border-radius: 50%;\n",
       "      cursor: pointer;\n",
       "      display: none;\n",
       "      fill: #1967D2;\n",
       "      height: 32px;\n",
       "      padding: 0 0 0 0;\n",
       "      width: 32px;\n",
       "    }\n",
       "\n",
       "    .colab-df-convert:hover {\n",
       "      background-color: #E2EBFA;\n",
       "      box-shadow: 0px 1px 2px rgba(60, 64, 67, 0.3), 0px 1px 3px 1px rgba(60, 64, 67, 0.15);\n",
       "      fill: #174EA6;\n",
       "    }\n",
       "\n",
       "    [theme=dark] .colab-df-convert {\n",
       "      background-color: #3B4455;\n",
       "      fill: #D2E3FC;\n",
       "    }\n",
       "\n",
       "    [theme=dark] .colab-df-convert:hover {\n",
       "      background-color: #434B5C;\n",
       "      box-shadow: 0px 1px 3px 1px rgba(0, 0, 0, 0.15);\n",
       "      filter: drop-shadow(0px 1px 2px rgba(0, 0, 0, 0.3));\n",
       "      fill: #FFFFFF;\n",
       "    }\n",
       "  </style>\n",
       "\n",
       "      <script>\n",
       "        const buttonEl =\n",
       "          document.querySelector('#df-ad984ad5-ee2e-4517-a2cd-3c036d7de93e button.colab-df-convert');\n",
       "        buttonEl.style.display =\n",
       "          google.colab.kernel.accessAllowed ? 'block' : 'none';\n",
       "\n",
       "        async function convertToInteractive(key) {\n",
       "          const element = document.querySelector('#df-ad984ad5-ee2e-4517-a2cd-3c036d7de93e');\n",
       "          const dataTable =\n",
       "            await google.colab.kernel.invokeFunction('convertToInteractive',\n",
       "                                                     [key], {});\n",
       "          if (!dataTable) return;\n",
       "\n",
       "          const docLinkHtml = 'Like what you see? Visit the ' +\n",
       "            '<a target=\"_blank\" href=https://colab.research.google.com/notebooks/data_table.ipynb>data table notebook</a>'\n",
       "            + ' to learn more about interactive tables.';\n",
       "          element.innerHTML = '';\n",
       "          dataTable['output_type'] = 'display_data';\n",
       "          await google.colab.output.renderOutput(dataTable, element);\n",
       "          const docLink = document.createElement('div');\n",
       "          docLink.innerHTML = docLinkHtml;\n",
       "          element.appendChild(docLink);\n",
       "        }\n",
       "      </script>\n",
       "    </div>\n",
       "  </div>\n",
       "  "
      ],
      "text/plain": [
       "  n_estimators max_depth  mean_score gamma min_child_weight\n",
       "0           25        10    0.494891     2                5\n",
       "1           30        10    0.499824     2                5\n",
       "2           25        10    0.491719     2                6\n",
       "3           30        10    0.497674     2                6\n",
       "4           25        15    0.513017     2                5"
      ]
     },
     "execution_count": 21,
     "metadata": {},
     "output_type": "execute_result"
    }
   ],
   "source": [
    "# we cast max_depth to str so that seaborn treats it like a category,\n",
    "# which is better for visuals\n",
    "results_df = pd.DataFrame({\n",
    "    \"n_estimators\": grid_xgb.cv_results_[\"param_n_estimators\"],\n",
    "    'max_depth': grid_xgb.cv_results_[\"param_max_depth\"].astype(str),\n",
    "    'mean_score': grid_xgb.cv_results_[\"mean_test_score\"],\n",
    "    'gamma': grid_xgb.cv_results_[\"param_gamma\"],\n",
    "    'min_child_weight': grid_xgb.cv_results_[\"param_min_child_weight\"]\n",
    "})\n",
    "\n",
    "results_df.head()"
   ]
  },
  {
   "cell_type": "markdown",
   "id": "jdGn0othn9um",
   "metadata": {
    "id": "jdGn0othn9um"
   },
   "source": [
    "By using the above parameters we fixed the overfitting problem as the differnce between train and test set accuracy is small, but descresed the performance of the overall model."
   ]
  },
  {
   "cell_type": "markdown",
   "id": "3oeXeU9gWu6i",
   "metadata": {
    "id": "3oeXeU9gWu6i"
   },
   "source": [
    "---"
   ]
  },
  {
   "cell_type": "markdown",
   "id": "lpU56WzGSuHg",
   "metadata": {
    "id": "lpU56WzGSuHg"
   },
   "source": [
    "### Adding complexity in terms of hyperparameters"
   ]
  },
  {
   "cell_type": "code",
   "execution_count": 20,
   "id": "-9BykEjleIDG",
   "metadata": {
    "colab": {
     "base_uri": "https://localhost:8080/"
    },
    "id": "-9BykEjleIDG",
    "outputId": "d663df4f-715d-498e-e318-05eefcdc7a08"
   },
   "outputs": [
    {
     "name": "stdout",
     "output_type": "stream",
     "text": [
      "Fitting 3 folds for each of 10 candidates, totalling 30 fits\n"
     ]
    },
    {
     "data": {
      "text/plain": [
       "RandomizedSearchCV(cv=3, estimator=XGBClassifier(), n_jobs=-1,\n",
       "                   param_distributions={'gamma': [2], 'max_depth': [20, 25, 26],\n",
       "                                        'min_child_weight': [5, 6],\n",
       "                                        'n_estimators': [45, 50]},\n",
       "                   verbose=1)"
      ]
     },
     "execution_count": 20,
     "metadata": {},
     "output_type": "execute_result"
    }
   ],
   "source": [
    "# final tuning\n",
    "my_xgb = XGBClassifier()\n",
    "\n",
    "param_grid = {'n_estimators': [45, 50], 'max_depth': [20, 25, 26],\n",
    "              'gamma': [2], 'min_child_weight': [5, 6] }\n",
    "grid_xgb = RandomizedSearchCV(my_xgb, param_distributions=param_grid, cv=3, verbose=1, n_jobs=-1,refit=True)\n",
    "\n",
    "grid_xgb.fit(train_vec, y_train)"
   ]
  },
  {
   "cell_type": "code",
   "execution_count": null,
   "id": "e1a8d075",
   "metadata": {},
   "outputs": [],
   "source": [
    "model = grid_xgb.best_estimator_"
   ]
  },
  {
   "cell_type": "code",
   "execution_count": null,
   "id": "f770b601",
   "metadata": {},
   "outputs": [],
   "source": []
  },
  {
   "cell_type": "code",
   "execution_count": 10,
   "id": "454096d1",
   "metadata": {},
   "outputs": [],
   "source": [
    "model=XGBClassifier(\n",
    "    max_depth = 20, n_estimators =45 \n",
    ")"
   ]
  },
  {
   "cell_type": "code",
   "execution_count": 11,
   "id": "98cb8580",
   "metadata": {},
   "outputs": [],
   "source": [
    "import joblib\n",
    "import pickle"
   ]
  },
  {
   "cell_type": "code",
   "execution_count": 13,
   "id": "104deece",
   "metadata": {},
   "outputs": [
    {
     "data": {
      "text/plain": [
       "['C:/Users/user/Desktop/model_jlib.pkl']"
      ]
     },
     "execution_count": 13,
     "metadata": {},
     "output_type": "execute_result"
    }
   ],
   "source": [
    "joblib.dump(model , 'C:/Users/user/Desktop/model_jlib.pkl')"
   ]
  },
  {
   "cell_type": "code",
   "execution_count": null,
   "id": "cc6d6342",
   "metadata": {},
   "outputs": [],
   "source": []
  },
  {
   "cell_type": "code",
   "execution_count": null,
   "id": "5f7853ab",
   "metadata": {},
   "outputs": [],
   "source": []
  },
  {
   "cell_type": "code",
   "execution_count": null,
   "id": "9b19abe8",
   "metadata": {},
   "outputs": [],
   "source": []
  },
  {
   "cell_type": "code",
   "execution_count": null,
   "id": "1a14f5ce",
   "metadata": {},
   "outputs": [],
   "source": []
  },
  {
   "cell_type": "markdown",
   "id": "mf640Lb2IozX",
   "metadata": {
    "id": "mf640Lb2IozX"
   },
   "source": [
    "Took 90 mins to run!!!"
   ]
  },
  {
   "cell_type": "code",
   "execution_count": 21,
   "id": "3dz3ueA4eIFw",
   "metadata": {
    "colab": {
     "base_uri": "https://localhost:8080/"
    },
    "id": "3dz3ueA4eIFw",
    "outputId": "6e9e13b1-83b5-4d1c-83d1-0582cddf5683"
   },
   "outputs": [
    {
     "name": "stdout",
     "output_type": "stream",
     "text": [
      "XG Boost score: 0.5920148117179801\n"
     ]
    }
   ],
   "source": [
    "print(f\"XG Boost score: {grid_xgb.score(train_vec, y_train)}\")"
   ]
  },
  {
   "cell_type": "code",
   "execution_count": 22,
   "id": "aDpdJCiceIIl",
   "metadata": {
    "colab": {
     "base_uri": "https://localhost:8080/"
    },
    "id": "aDpdJCiceIIl",
    "outputId": "9ae62558-904e-4692-f9f2-68c9318924cb"
   },
   "outputs": [
    {
     "name": "stdout",
     "output_type": "stream",
     "text": [
      "XG Boost score: 0.5518526481760195\n"
     ]
    }
   ],
   "source": [
    "print(f\"XG Boost score: {grid_xgb.score(test_vec, y_test)}\")"
   ]
  },
  {
   "cell_type": "code",
   "execution_count": 23,
   "id": "FguT7b-IeILW",
   "metadata": {
    "colab": {
     "base_uri": "https://localhost:8080/",
     "height": 206
    },
    "id": "FguT7b-IeILW",
    "outputId": "a9f7be3a-4982-4a23-aea1-b86ce10e2483"
   },
   "outputs": [
    {
     "data": {
      "text/html": [
       "\n",
       "  <div id=\"df-9dd79e11-4dca-4a60-a0b5-481f8070aee1\">\n",
       "    <div class=\"colab-df-container\">\n",
       "      <div>\n",
       "<style scoped>\n",
       "    .dataframe tbody tr th:only-of-type {\n",
       "        vertical-align: middle;\n",
       "    }\n",
       "\n",
       "    .dataframe tbody tr th {\n",
       "        vertical-align: top;\n",
       "    }\n",
       "\n",
       "    .dataframe thead th {\n",
       "        text-align: right;\n",
       "    }\n",
       "</style>\n",
       "<table border=\"1\" class=\"dataframe\">\n",
       "  <thead>\n",
       "    <tr style=\"text-align: right;\">\n",
       "      <th></th>\n",
       "      <th>n_estimators</th>\n",
       "      <th>max_depth</th>\n",
       "      <th>mean_score</th>\n",
       "      <th>gamma</th>\n",
       "      <th>min_child_weight</th>\n",
       "    </tr>\n",
       "  </thead>\n",
       "  <tbody>\n",
       "    <tr>\n",
       "      <th>0</th>\n",
       "      <td>45</td>\n",
       "      <td>26</td>\n",
       "      <td>0.546415</td>\n",
       "      <td>2</td>\n",
       "      <td>5</td>\n",
       "    </tr>\n",
       "    <tr>\n",
       "      <th>1</th>\n",
       "      <td>50</td>\n",
       "      <td>26</td>\n",
       "      <td>0.546767</td>\n",
       "      <td>2</td>\n",
       "      <td>6</td>\n",
       "    </tr>\n",
       "    <tr>\n",
       "      <th>2</th>\n",
       "      <td>50</td>\n",
       "      <td>25</td>\n",
       "      <td>0.547711</td>\n",
       "      <td>2</td>\n",
       "      <td>5</td>\n",
       "    </tr>\n",
       "    <tr>\n",
       "      <th>3</th>\n",
       "      <td>50</td>\n",
       "      <td>25</td>\n",
       "      <td>0.545907</td>\n",
       "      <td>2</td>\n",
       "      <td>6</td>\n",
       "    </tr>\n",
       "    <tr>\n",
       "      <th>4</th>\n",
       "      <td>45</td>\n",
       "      <td>26</td>\n",
       "      <td>0.544140</td>\n",
       "      <td>2</td>\n",
       "      <td>6</td>\n",
       "    </tr>\n",
       "  </tbody>\n",
       "</table>\n",
       "</div>\n",
       "      <button class=\"colab-df-convert\" onclick=\"convertToInteractive('df-9dd79e11-4dca-4a60-a0b5-481f8070aee1')\"\n",
       "              title=\"Convert this dataframe to an interactive table.\"\n",
       "              style=\"display:none;\">\n",
       "        \n",
       "  <svg xmlns=\"http://www.w3.org/2000/svg\" height=\"24px\"viewBox=\"0 0 24 24\"\n",
       "       width=\"24px\">\n",
       "    <path d=\"M0 0h24v24H0V0z\" fill=\"none\"/>\n",
       "    <path d=\"M18.56 5.44l.94 2.06.94-2.06 2.06-.94-2.06-.94-.94-2.06-.94 2.06-2.06.94zm-11 1L8.5 8.5l.94-2.06 2.06-.94-2.06-.94L8.5 2.5l-.94 2.06-2.06.94zm10 10l.94 2.06.94-2.06 2.06-.94-2.06-.94-.94-2.06-.94 2.06-2.06.94z\"/><path d=\"M17.41 7.96l-1.37-1.37c-.4-.4-.92-.59-1.43-.59-.52 0-1.04.2-1.43.59L10.3 9.45l-7.72 7.72c-.78.78-.78 2.05 0 2.83L4 21.41c.39.39.9.59 1.41.59.51 0 1.02-.2 1.41-.59l7.78-7.78 2.81-2.81c.8-.78.8-2.07 0-2.86zM5.41 20L4 18.59l7.72-7.72 1.47 1.35L5.41 20z\"/>\n",
       "  </svg>\n",
       "      </button>\n",
       "      \n",
       "  <style>\n",
       "    .colab-df-container {\n",
       "      display:flex;\n",
       "      flex-wrap:wrap;\n",
       "      gap: 12px;\n",
       "    }\n",
       "\n",
       "    .colab-df-convert {\n",
       "      background-color: #E8F0FE;\n",
       "      border: none;\n",
       "      border-radius: 50%;\n",
       "      cursor: pointer;\n",
       "      display: none;\n",
       "      fill: #1967D2;\n",
       "      height: 32px;\n",
       "      padding: 0 0 0 0;\n",
       "      width: 32px;\n",
       "    }\n",
       "\n",
       "    .colab-df-convert:hover {\n",
       "      background-color: #E2EBFA;\n",
       "      box-shadow: 0px 1px 2px rgba(60, 64, 67, 0.3), 0px 1px 3px 1px rgba(60, 64, 67, 0.15);\n",
       "      fill: #174EA6;\n",
       "    }\n",
       "\n",
       "    [theme=dark] .colab-df-convert {\n",
       "      background-color: #3B4455;\n",
       "      fill: #D2E3FC;\n",
       "    }\n",
       "\n",
       "    [theme=dark] .colab-df-convert:hover {\n",
       "      background-color: #434B5C;\n",
       "      box-shadow: 0px 1px 3px 1px rgba(0, 0, 0, 0.15);\n",
       "      filter: drop-shadow(0px 1px 2px rgba(0, 0, 0, 0.3));\n",
       "      fill: #FFFFFF;\n",
       "    }\n",
       "  </style>\n",
       "\n",
       "      <script>\n",
       "        const buttonEl =\n",
       "          document.querySelector('#df-9dd79e11-4dca-4a60-a0b5-481f8070aee1 button.colab-df-convert');\n",
       "        buttonEl.style.display =\n",
       "          google.colab.kernel.accessAllowed ? 'block' : 'none';\n",
       "\n",
       "        async function convertToInteractive(key) {\n",
       "          const element = document.querySelector('#df-9dd79e11-4dca-4a60-a0b5-481f8070aee1');\n",
       "          const dataTable =\n",
       "            await google.colab.kernel.invokeFunction('convertToInteractive',\n",
       "                                                     [key], {});\n",
       "          if (!dataTable) return;\n",
       "\n",
       "          const docLinkHtml = 'Like what you see? Visit the ' +\n",
       "            '<a target=\"_blank\" href=https://colab.research.google.com/notebooks/data_table.ipynb>data table notebook</a>'\n",
       "            + ' to learn more about interactive tables.';\n",
       "          element.innerHTML = '';\n",
       "          dataTable['output_type'] = 'display_data';\n",
       "          await google.colab.output.renderOutput(dataTable, element);\n",
       "          const docLink = document.createElement('div');\n",
       "          docLink.innerHTML = docLinkHtml;\n",
       "          element.appendChild(docLink);\n",
       "        }\n",
       "      </script>\n",
       "    </div>\n",
       "  </div>\n",
       "  "
      ],
      "text/plain": [
       "  n_estimators max_depth  mean_score gamma min_child_weight\n",
       "0           45        26    0.546415     2                5\n",
       "1           50        26    0.546767     2                6\n",
       "2           50        25    0.547711     2                5\n",
       "3           50        25    0.545907     2                6\n",
       "4           45        26    0.544140     2                6"
      ]
     },
     "execution_count": 23,
     "metadata": {},
     "output_type": "execute_result"
    }
   ],
   "source": [
    "# we cast max_depth to str so that seaborn treats it like a category,\n",
    "# which is better for visuals\n",
    "results_df = pd.DataFrame({\n",
    "    \"n_estimators\": grid_xgb.cv_results_[\"param_n_estimators\"],\n",
    "    'max_depth': grid_xgb.cv_results_[\"param_max_depth\"].astype(str),\n",
    "    'mean_score': grid_xgb.cv_results_[\"mean_test_score\"],\n",
    "    'gamma': grid_xgb.cv_results_[\"param_gamma\"],\n",
    "    'min_child_weight': grid_xgb.cv_results_[\"param_min_child_weight\"]\n",
    "})\n",
    "\n",
    "results_df.head()\n"
   ]
  },
  {
   "cell_type": "markdown",
   "id": "HjDLWvndKdnh",
   "metadata": {
    "id": "HjDLWvndKdnh"
   },
   "source": [
    "Improved the accuracy by 3%!! and overfitting is also not there. \n",
    "\n",
    "Accuracy can be improved by putting more hyperparameters and values but more GPU power is needed."
   ]
  },
  {
   "cell_type": "code",
   "execution_count": 25,
   "id": "f2sHEBtUeINx",
   "metadata": {
    "id": "f2sHEBtUeINx"
   },
   "outputs": [],
   "source": [
    "# Get class predictions\n",
    "y_pred = grid_xgb.predict(test_vec)"
   ]
  },
  {
   "cell_type": "code",
   "execution_count": 46,
   "id": "6kFLnIXBeIQ6",
   "metadata": {
    "colab": {
     "base_uri": "https://localhost:8080/"
    },
    "id": "6kFLnIXBeIQ6",
    "outputId": "561f0bbb-fc20-42e6-80af-8404d535ec8c"
   },
   "outputs": [
    {
     "data": {
      "text/plain": [
       "0.5463148587935722"
      ]
     },
     "execution_count": 46,
     "metadata": {},
     "output_type": "execute_result"
    }
   ],
   "source": [
    "# Precision \n",
    "from sklearn.metrics import precision_score\n",
    "\n",
    "# precision_score(true labels, predicted labels)\n",
    "precision_score(y_test, y_pred, average='macro')"
   ]
  },
  {
   "cell_type": "code",
   "execution_count": 47,
   "id": "jMXs12JteIUS",
   "metadata": {
    "colab": {
     "base_uri": "https://localhost:8080/"
    },
    "id": "jMXs12JteIUS",
    "outputId": "50a054c9-4911-4065-d74a-f2040f5c47e2"
   },
   "outputs": [
    {
     "data": {
      "text/plain": [
       "0.4415977900957081"
      ]
     },
     "execution_count": 47,
     "metadata": {},
     "output_type": "execute_result"
    }
   ],
   "source": [
    "# Recall\n",
    "from sklearn.metrics import recall_score\n",
    "\n",
    "# recall_score(true labels, predicted labels)\n",
    "recall_score(y_test, y_pred, average='macro')"
   ]
  },
  {
   "cell_type": "code",
   "execution_count": 48,
   "id": "gohehxoRTg6A",
   "metadata": {
    "id": "gohehxoRTg6A"
   },
   "outputs": [],
   "source": [
    "from sklearn.metrics import plot_confusion_matrix, confusion_matrix\n",
    "from sklearn.metrics import classification_report\n",
    "from sklearn.metrics import ConfusionMatrixDisplay"
   ]
  },
  {
   "cell_type": "code",
   "execution_count": 49,
   "id": "9TVud0xbTg8R",
   "metadata": {
    "colab": {
     "base_uri": "https://localhost:8080/",
     "height": 869
    },
    "id": "9TVud0xbTg8R",
    "outputId": "1448ed10-92c9-4530-86a2-2a63b5f57818"
   },
   "outputs": [
    {
     "data": {
      "text/plain": [
       "<sklearn.metrics._plot.confusion_matrix.ConfusionMatrixDisplay at 0x7f1f8cb13370>"
      ]
     },
     "execution_count": 49,
     "metadata": {},
     "output_type": "execute_result"
    },
    {
     "data": {
      "image/png": "[encoded data removed]",
      "text/plain": [
       "<Figure size 1080x1080 with 2 Axes>"
      ]
     },
     "metadata": {
      "needs_background": "light"
     },
     "output_type": "display_data"
    }
   ],
   "source": [
    "cm = confusion_matrix(y_test, y_pred)\n",
    "cmp = ConfusionMatrixDisplay(cm)\n",
    "fig, ax = plt.subplots(figsize=(15,15))\n",
    "cmp.plot(ax=ax)"
   ]
  },
  {
   "cell_type": "markdown",
   "id": "7IQODswcf8LQ",
   "metadata": {
    "id": "7IQODswcf8LQ"
   },
   "source": [
    "__FOOD & DRINK__ and __POLITICS__ have the most number of true positives, \n",
    "\n",
    "But it's very hard to know about true negatives, false positives and false negatives.\n",
    "\n",
    "\n",
    "So let's have a look at the classification report."
   ]
  },
  {
   "cell_type": "code",
   "execution_count": 50,
   "id": "UsLyvviEThB7",
   "metadata": {
    "colab": {
     "base_uri": "https://localhost:8080/"
    },
    "id": "UsLyvviEThB7",
    "outputId": "cf577b68-7758-440f-dabe-f8120a97eb33"
   },
   "outputs": [
    {
     "name": "stdout",
     "output_type": "stream",
     "text": [
      "              precision    recall  f1-score   support\n",
      "\n",
      "           0       0.58      0.29      0.39       784\n",
      "           1       0.61      0.36      0.46      1080\n",
      "           2       0.43      0.39      0.41       711\n",
      "           3       0.36      0.38      0.37       432\n",
      "           4       0.61      0.47      0.53      3472\n",
      "           5       0.46      0.28      0.34       813\n",
      "           6       0.65      0.56      0.60      1687\n",
      "           7       0.33      0.81      0.47      4924\n",
      "           8       0.62      0.46      0.53       864\n",
      "           9       0.75      0.66      0.70      1415\n",
      "          10       0.44      0.28      0.34       588\n",
      "          11       0.68      0.41      0.52      2411\n",
      "          12       0.53      0.32      0.40      1548\n",
      "          13       0.34      0.14      0.20      1812\n",
      "          14       0.58      0.63      0.60      2548\n",
      "          15       0.72      0.72      0.72      7116\n",
      "          16       0.51      0.41      0.45       515\n",
      "          17       0.51      0.32      0.39       860\n",
      "          18       0.59      0.41      0.48      1015\n",
      "          19       0.66      0.64      0.65      2388\n",
      "          20       0.62      0.49      0.54      1979\n",
      "          21       0.35      0.29      0.32       714\n",
      "          22       0.63      0.45      0.52      2183\n",
      "\n",
      "    accuracy                           0.53     41859\n",
      "   macro avg       0.55      0.44      0.48     41859\n",
      "weighted avg       0.57      0.53      0.53     41859\n",
      "\n"
     ]
    }
   ],
   "source": [
    "# classification report\n",
    "print(classification_report(y_test, y_pred))"
   ]
  },
  {
   "cell_type": "markdown",
   "id": "9WlS2E6ZhaL6",
   "metadata": {
    "id": "9WlS2E6ZhaL6"
   },
   "source": [
    "It's very hard to know which class is which one and so on\n",
    "\n",
    "\n",
    "Let's find which class is assigned to what integer."
   ]
  },
  {
   "cell_type": "code",
   "execution_count": 54,
   "id": "xEmNhFELThGO",
   "metadata": {
    "colab": {
     "base_uri": "https://localhost:8080/"
    },
    "id": "xEmNhFELThGO",
    "outputId": "ee608e4c-daf8-4bbe-99d2-950f73e3f3fb"
   },
   "outputs": [
    {
     "name": "stdout",
     "output_type": "stream",
     "text": [
      "['ARTS & CULTURE' 'COMEDY' 'CRIME' 'EDUCATION' 'ENTERTAINMENT'\n",
      " 'ENVIRONMENT' 'FOOD & DRINK' 'HEALTHY LIVING' 'HOME & LIVING'\n",
      " 'MARRIAGE & DIVORCE' 'MEDIA' 'MINORITIES' 'MONEY & BUSINESS' 'OTHER NEWS'\n",
      " 'PARENTING' 'POLITICS' 'RELIGION' 'SCIENCE & TECH' 'SPORTS'\n",
      " 'STYLE & BEAUTY' 'TRAVEL' 'WOMEN' 'WORLD NEWS']\n"
     ]
    }
   ],
   "source": [
    "# checking the order of classes\n",
    "print(encoder.classes_)"
   ]
  },
  {
   "cell_type": "markdown",
   "id": "P4H4LIcCh1UO",
   "metadata": {
    "id": "P4H4LIcCh1UO"
   },
   "source": [
    "__Interpretations__\n",
    "1. __Healthy living__ has 81% recall and 33% precision\n",
    "2. __POLITICS__ has same recall and accuracy, that is 72%"
   ]
  },
  {
   "cell_type": "markdown",
   "id": "QU0R0jS6ThMa",
   "metadata": {
    "id": "QU0R0jS6ThMa"
   },
   "source": [
    "Note: Feature engineering can be done by adding short description column, but I decided to use more complex model which is neural networks.\n",
    "\n",
    "\n",
    "Also, the distribution of classes is somewhat imbalanced in the dataset, which means accuracy could have been improved with upsampling or downsampling of the classes."
   ]
  },
  {
   "cell_type": "markdown",
   "id": "PyjXX1oCTOgb",
   "metadata": {
    "id": "PyjXX1oCTOgb"
   },
   "source": [
    "---"
   ]
  },
  {
   "cell_type": "markdown",
   "id": "ZJO1OpTKYrSd",
   "metadata": {
    "id": "ZJO1OpTKYrSd"
   },
   "source": [
    "| Models | Accuracy | Precision | Recall\n",
    "| --- | --- | --- | --- |\n",
    "| XG model | 47% | --- | --- |\n",
    "| XGBoost model with some basic params | 54% | --- | --- |\n",
    "| Experiment (subset of the data) with params | 51% | --- | --- |\n",
    "| XGboost hyperparameter tuning | 52% |  --- | --- |\n",
    "| Final hyperparameter tuning | 55% |  54% | 44% |"
   ]
  },
  {
   "cell_type": "markdown",
   "id": "BZnDi0yTkV1G",
   "metadata": {
    "id": "BZnDi0yTkV1G"
   },
   "source": [
    "For this project, I decided to deal with accuracy only."
   ]
  },
  {
   "cell_type": "markdown",
   "id": "yyuPyrqEjGdd",
   "metadata": {
    "id": "yyuPyrqEjGdd"
   },
   "source": [
    "---"
   ]
  },
  {
   "cell_type": "markdown",
   "id": "qXDsfTCpi9_X",
   "metadata": {
    "id": "qXDsfTCpi9_X"
   },
   "source": [
    "### Thank You!!"
   ]
  }
 ],
 "metadata": {
  "accelerator": "GPU",
  "colab": {
   "machine_shape": "hm",
   "provenance": []
  },
  "gpuClass": "premium",
  "kernelspec": {
   "display_name": "myenv",
   "language": "python",
   "name": "myenv"
  },
  "language_info": {
   "codemirror_mode": {
    "name": "ipython",
    "version": 3
   },
   "file_extension": ".py",
   "mimetype": "text/x-python",
   "name": "python",
   "nbconvert_exporter": "python",
   "pygments_lexer": "ipython3",
   "version": "3.9.12"
  }
 },
 "nbformat": 4,
 "nbformat_minor": 5
}

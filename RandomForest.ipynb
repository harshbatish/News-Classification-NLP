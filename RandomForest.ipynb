{
  "cells": [
    {
      "cell_type": "markdown",
      "metadata": {
        "id": "SfsxAwM3yfHJ"
      },
      "source": [
        "## Harsh Sharma \n",
        "## News Classification based on text"
      ],
      "id": "SfsxAwM3yfHJ"
    },
    {
      "cell_type": "markdown",
      "metadata": {
        "id": "r2WizfkRysyJ"
      },
      "source": [
        "---"
      ],
      "id": "r2WizfkRysyJ"
    },
    {
      "cell_type": "markdown",
      "metadata": {
        "id": "370f54a6"
      },
      "source": [
        "## Random Forest Model"
      ],
      "id": "370f54a6"
    },
    {
      "cell_type": "markdown",
      "metadata": {
        "id": "L_QnJUd5yQNe"
      },
      "source": [
        "---"
      ],
      "id": "L_QnJUd5yQNe"
    },
    {
      "cell_type": "markdown",
      "metadata": {
        "id": "dmPP0KZYz-Zv"
      },
      "source": [
        "#### Context to the problem:\n",
        "As we seen earlier that the problem we are dealing with here has more than 2 classes in the dependent variable. So models like logistic regression and SVM are expected to not work well on multiclass classification. However, it should be noted that multinomial logistic regression option is also available.\n",
        "\n",
        "\n",
        "So here we try to run a random forest model which works well for a multiclass problem. Also random forest model is basically the advanced version of decision trees.  \n",
        "\n",
        "\n",
        "In general decision trees is always overfitting the data, in those cases random forest classifier is great fit."
      ],
      "id": "dmPP0KZYz-Zv"
    },
    {
      "cell_type": "markdown",
      "metadata": {
        "id": "_-iNZRPzjKaa"
      },
      "source": [
        "---"
      ],
      "id": "_-iNZRPzjKaa"
    },
    {
      "cell_type": "code",
      "execution_count": null,
      "metadata": {
        "id": "5f577cbb"
      },
      "outputs": [],
      "source": [
        "# Importing everything we need \n",
        "# The usual packages\n",
        "import numpy as np \n",
        "import pandas as pd \n",
        "import matplotlib.pyplot as plt \n",
        "%matplotlib inline\n",
        "import seaborn as sns\n",
        "\n",
        "# Splitting data\n",
        "from sklearn.model_selection import train_test_split \n",
        "\n",
        "# Scalers\n",
        "from sklearn.preprocessing import StandardScaler, MinMaxScaler \n",
        "\n",
        "# Classifiers \n",
        "from sklearn.tree import DecisionTreeClassifier\n",
        "from sklearn.ensemble import RandomForestClassifier\n",
        "from sklearn.feature_extraction.text import TfidfVectorizer\n",
        "\n",
        "import time\n",
        "from sklearn.pipeline import Pipeline\n",
        "from sklearn.model_selection import cross_val_score\n",
        "from sklearn.model_selection import GridSearchCV"
      ],
      "id": "5f577cbb"
    },
    {
      "cell_type": "code",
      "execution_count": null,
      "metadata": {
        "colab": {
          "base_uri": "https://localhost:8080/"
        },
        "id": "mkbpKqOegLui",
        "outputId": "62827efd-4440-4e00-cb8b-827ebdb2bc11"
      },
      "outputs": [
        {
          "name": "stdout",
          "output_type": "stream",
          "text": [
            "Mounted at /content/drive/\n"
          ]
        }
      ],
      "source": [
        "# mounting google drive to retrieve data\n",
        "import os\n",
        "from google.colab import drive\n",
        "drive.mount('/content/drive/',force_remount=True)"
      ],
      "id": "mkbpKqOegLui"
    },
    {
      "cell_type": "code",
      "execution_count": null,
      "metadata": {
        "id": "Lx09HwcugLw5"
      },
      "outputs": [],
      "source": [
        "# reading the csv data file\n",
        "path = '/content/drive/MyDrive/news data/'\n",
        "main_df = pd.read_csv(path+'file_name.csv')"
      ],
      "id": "Lx09HwcugLw5"
    },
    {
      "cell_type": "code",
      "execution_count": null,
      "metadata": {
        "colab": {
          "base_uri": "https://localhost:8080/",
          "height": 206
        },
        "id": "YL5uUI5BgL1c",
        "outputId": "e70dada6-61c3-48a1-b051-2841d1afca4c"
      },
      "outputs": [
        {
          "data": {
            "text/html": [
              "\n",
              "  <div id=\"df-d945cb3c-232b-455f-87bc-268a6fae8d08\">\n",
              "    <div class=\"colab-df-container\">\n",
              "      <div>\n",
              "<style scoped>\n",
              "    .dataframe tbody tr th:only-of-type {\n",
              "        vertical-align: middle;\n",
              "    }\n",
              "\n",
              "    .dataframe tbody tr th {\n",
              "        vertical-align: top;\n",
              "    }\n",
              "\n",
              "    .dataframe thead th {\n",
              "        text-align: right;\n",
              "    }\n",
              "</style>\n",
              "<table border=\"1\" class=\"dataframe\">\n",
              "  <thead>\n",
              "    <tr style=\"text-align: right;\">\n",
              "      <th></th>\n",
              "      <th>Unnamed: 0</th>\n",
              "      <th>category</th>\n",
              "      <th>headline</th>\n",
              "    </tr>\n",
              "  </thead>\n",
              "  <tbody>\n",
              "    <tr>\n",
              "      <th>0</th>\n",
              "      <td>0</td>\n",
              "      <td>WORLD NEWS</td>\n",
              "      <td>Over  Million Americans Roll Up Sleeves For Om...</td>\n",
              "    </tr>\n",
              "    <tr>\n",
              "      <th>1</th>\n",
              "      <td>1</td>\n",
              "      <td>WORLD NEWS</td>\n",
              "      <td>American Airlines Flyer Charged  Banned For Li...</td>\n",
              "    </tr>\n",
              "    <tr>\n",
              "      <th>2</th>\n",
              "      <td>2</td>\n",
              "      <td>COMEDY</td>\n",
              "      <td>Of The Funniest Tweets About Cats And Dogs Th...</td>\n",
              "    </tr>\n",
              "    <tr>\n",
              "      <th>3</th>\n",
              "      <td>3</td>\n",
              "      <td>PARENTING</td>\n",
              "      <td>The Funniest Tweets From Parents This Week  Se...</td>\n",
              "    </tr>\n",
              "    <tr>\n",
              "      <th>4</th>\n",
              "      <td>4</td>\n",
              "      <td>WORLD NEWS</td>\n",
              "      <td>Woman Who Called Cops On Black Bird Watcher Lo...</td>\n",
              "    </tr>\n",
              "  </tbody>\n",
              "</table>\n",
              "</div>\n",
              "      <button class=\"colab-df-convert\" onclick=\"convertToInteractive('df-d945cb3c-232b-455f-87bc-268a6fae8d08')\"\n",
              "              title=\"Convert this dataframe to an interactive table.\"\n",
              "              style=\"display:none;\">\n",
              "        \n",
              "  <svg xmlns=\"http://www.w3.org/2000/svg\" height=\"24px\"viewBox=\"0 0 24 24\"\n",
              "       width=\"24px\">\n",
              "    <path d=\"M0 0h24v24H0V0z\" fill=\"none\"/>\n",
              "    <path d=\"M18.56 5.44l.94 2.06.94-2.06 2.06-.94-2.06-.94-.94-2.06-.94 2.06-2.06.94zm-11 1L8.5 8.5l.94-2.06 2.06-.94-2.06-.94L8.5 2.5l-.94 2.06-2.06.94zm10 10l.94 2.06.94-2.06 2.06-.94-2.06-.94-.94-2.06-.94 2.06-2.06.94z\"/><path d=\"M17.41 7.96l-1.37-1.37c-.4-.4-.92-.59-1.43-.59-.52 0-1.04.2-1.43.59L10.3 9.45l-7.72 7.72c-.78.78-.78 2.05 0 2.83L4 21.41c.39.39.9.59 1.41.59.51 0 1.02-.2 1.41-.59l7.78-7.78 2.81-2.81c.8-.78.8-2.07 0-2.86zM5.41 20L4 18.59l7.72-7.72 1.47 1.35L5.41 20z\"/>\n",
              "  </svg>\n",
              "      </button>\n",
              "      \n",
              "  <style>\n",
              "    .colab-df-container {\n",
              "      display:flex;\n",
              "      flex-wrap:wrap;\n",
              "      gap: 12px;\n",
              "    }\n",
              "\n",
              "    .colab-df-convert {\n",
              "      background-color: #E8F0FE;\n",
              "      border: none;\n",
              "      border-radius: 50%;\n",
              "      cursor: pointer;\n",
              "      display: none;\n",
              "      fill: #1967D2;\n",
              "      height: 32px;\n",
              "      padding: 0 0 0 0;\n",
              "      width: 32px;\n",
              "    }\n",
              "\n",
              "    .colab-df-convert:hover {\n",
              "      background-color: #E2EBFA;\n",
              "      box-shadow: 0px 1px 2px rgba(60, 64, 67, 0.3), 0px 1px 3px 1px rgba(60, 64, 67, 0.15);\n",
              "      fill: #174EA6;\n",
              "    }\n",
              "\n",
              "    [theme=dark] .colab-df-convert {\n",
              "      background-color: #3B4455;\n",
              "      fill: #D2E3FC;\n",
              "    }\n",
              "\n",
              "    [theme=dark] .colab-df-convert:hover {\n",
              "      background-color: #434B5C;\n",
              "      box-shadow: 0px 1px 3px 1px rgba(0, 0, 0, 0.15);\n",
              "      filter: drop-shadow(0px 1px 2px rgba(0, 0, 0, 0.3));\n",
              "      fill: #FFFFFF;\n",
              "    }\n",
              "  </style>\n",
              "\n",
              "      <script>\n",
              "        const buttonEl =\n",
              "          document.querySelector('#df-d945cb3c-232b-455f-87bc-268a6fae8d08 button.colab-df-convert');\n",
              "        buttonEl.style.display =\n",
              "          google.colab.kernel.accessAllowed ? 'block' : 'none';\n",
              "\n",
              "        async function convertToInteractive(key) {\n",
              "          const element = document.querySelector('#df-d945cb3c-232b-455f-87bc-268a6fae8d08');\n",
              "          const dataTable =\n",
              "            await google.colab.kernel.invokeFunction('convertToInteractive',\n",
              "                                                     [key], {});\n",
              "          if (!dataTable) return;\n",
              "\n",
              "          const docLinkHtml = 'Like what you see? Visit the ' +\n",
              "            '<a target=\"_blank\" href=https://colab.research.google.com/notebooks/data_table.ipynb>data table notebook</a>'\n",
              "            + ' to learn more about interactive tables.';\n",
              "          element.innerHTML = '';\n",
              "          dataTable['output_type'] = 'display_data';\n",
              "          await google.colab.output.renderOutput(dataTable, element);\n",
              "          const docLink = document.createElement('div');\n",
              "          docLink.innerHTML = docLinkHtml;\n",
              "          element.appendChild(docLink);\n",
              "        }\n",
              "      </script>\n",
              "    </div>\n",
              "  </div>\n",
              "  "
            ],
            "text/plain": [
              "   Unnamed: 0    category                                           headline\n",
              "0           0  WORLD NEWS  Over  Million Americans Roll Up Sleeves For Om...\n",
              "1           1  WORLD NEWS  American Airlines Flyer Charged  Banned For Li...\n",
              "2           2      COMEDY   Of The Funniest Tweets About Cats And Dogs Th...\n",
              "3           3   PARENTING  The Funniest Tweets From Parents This Week  Se...\n",
              "4           4  WORLD NEWS  Woman Who Called Cops On Black Bird Watcher Lo..."
            ]
          },
          "execution_count": 15,
          "metadata": {},
          "output_type": "execute_result"
        }
      ],
      "source": [
        "# peeking into the dataset\n",
        "main_df.head()"
      ],
      "id": "YL5uUI5BgL1c"
    },
    {
      "cell_type": "code",
      "execution_count": null,
      "metadata": {
        "colab": {
          "base_uri": "https://localhost:8080/"
        },
        "id": "Sg3EDLiFgL30",
        "outputId": "cdc24ad3-3533-490c-a0d2-82b18c139c3d"
      },
      "outputs": [
        {
          "data": {
            "text/plain": [
              "(209323, 3)"
            ]
          },
          "execution_count": 16,
          "metadata": {},
          "output_type": "execute_result"
        }
      ],
      "source": [
        "# checking shape\n",
        "main_df.shape"
      ],
      "id": "Sg3EDLiFgL30"
    },
    {
      "cell_type": "markdown",
      "metadata": {
        "id": "h60kN5AfAZXT"
      },
      "source": [
        "Let's check if we have any missing data in the dataset"
      ],
      "id": "h60kN5AfAZXT"
    },
    {
      "cell_type": "code",
      "execution_count": null,
      "metadata": {
        "colab": {
          "base_uri": "https://localhost:8080/"
        },
        "id": "tQ84R_YfgL5-",
        "outputId": "14f9c9e4-1c37-48ea-c9c2-e9bd03e4113b"
      },
      "outputs": [
        {
          "data": {
            "text/plain": [
              "Unnamed: 0     0\n",
              "category       0\n",
              "headline      29\n",
              "dtype: int64"
            ]
          },
          "execution_count": 17,
          "metadata": {},
          "output_type": "execute_result"
        }
      ],
      "source": [
        "# checking the missing values\n",
        "main_df.isna().sum() "
      ],
      "id": "tQ84R_YfgL5-"
    },
    {
      "cell_type": "markdown",
      "metadata": {
        "id": "yThcedgf6c0u"
      },
      "source": [
        "In the EDA file as we figured there some emoty strings in the headline column which were converted to NaN values while converting the dataframe to the csv. So here we drop those empty rows of the `headline` column which is one of our main problems."
      ],
      "id": "yThcedgf6c0u"
    },
    {
      "cell_type": "code",
      "execution_count": null,
      "metadata": {
        "id": "5j1TWKTX9ExE"
      },
      "outputs": [],
      "source": [
        "# dropping nan values\n",
        "main_df.dropna(inplace=True)"
      ],
      "id": "5j1TWKTX9ExE"
    },
    {
      "cell_type": "code",
      "execution_count": null,
      "metadata": {
        "colab": {
          "base_uri": "https://localhost:8080/"
        },
        "id": "iMQUTc4c9UYS",
        "outputId": "0221ae54-6529-449b-f87c-4c3685aa5d92"
      },
      "outputs": [
        {
          "data": {
            "text/plain": [
              "Unnamed: 0    0\n",
              "category      0\n",
              "headline      0\n",
              "dtype: int64"
            ]
          },
          "execution_count": 19,
          "metadata": {},
          "output_type": "execute_result"
        }
      ],
      "source": [
        "# sanity check\n",
        "main_df.isna().sum()"
      ],
      "id": "iMQUTc4c9UYS"
    },
    {
      "cell_type": "code",
      "execution_count": null,
      "metadata": {
        "colab": {
          "base_uri": "https://localhost:8080/"
        },
        "id": "bm1PKSOFgL8b",
        "outputId": "3cf5660e-ee81-463a-c96f-25d62036623d"
      },
      "outputs": [
        {
          "data": {
            "text/plain": [
              "0"
            ]
          },
          "execution_count": 20,
          "metadata": {},
          "output_type": "execute_result"
        }
      ],
      "source": [
        "# checking for duplicated data\n",
        "main_df.duplicated().sum()"
      ],
      "id": "bm1PKSOFgL8b"
    },
    {
      "cell_type": "code",
      "execution_count": null,
      "metadata": {
        "id": "_u5I5MRmgL_F"
      },
      "outputs": [],
      "source": [
        "def PlotBoundaries(model, X, Y, figsize=(8, 6)):\n",
        "    '''\n",
        "    Helper function that plots the decision boundaries of a model and data (X,Y)\n",
        "    code modified from: https://scikit-learn.org/stable/auto_examples/neighbors/plot_classification.html\n",
        "    '''\n",
        "\n",
        "    x_min, x_max = X[:, 0].min() - 1, X[:, 0].max() + 1\n",
        "    y_min, y_max = X[:, 1].min() - 1, X[:, 1].max() + 1\n",
        "    xx, yy = np.meshgrid(np.arange(x_min, x_max, 0.01),\n",
        "                         np.arange(y_min, y_max, 0.01))\n",
        "\n",
        "    Z = model.predict(np.c_[xx.ravel(), yy.ravel()])\n",
        "    Z = Z.reshape(xx.shape)\n",
        "\n",
        "    plt.figure(figsize=figsize)\n",
        "    plt.contourf(xx, yy, Z, alpha=0.4)\n",
        "\n",
        "    # Plot\n",
        "    plt.scatter(X[:, 0], X[:, 1], c=Y, s=20, edgecolor='k')\n",
        "    plt.show()"
      ],
      "id": "_u5I5MRmgL_F"
    },
    {
      "cell_type": "code",
      "execution_count": null,
      "metadata": {
        "id": "CW1r61oAgMBj"
      },
      "outputs": [],
      "source": [
        "def PlotEnsembleBoundaries(ensembles, X, Y, shape, figsize=(10, 7)):\n",
        "    '''\n",
        "    Helper function to plot the boundaries of ensemble methods.\n",
        "    code modified from: https://scikit-learn.org/stable/auto_examples/ensemble/plot_forest_iris.html\n",
        "    '''\n",
        "    fig, axes = plt.subplots(shape[0], shape[1], figsize=figsize)\n",
        "    for i, (ax, model) in enumerate(zip(axes.ravel(), ensembles)):\n",
        "        x_min, x_max = X[:, 0].min() - 1, X[:, 0].max() + 1\n",
        "        y_min, y_max = X[:, 1].min() - 1, X[:, 1].max() + 1\n",
        "        xx, yy = np.meshgrid(np.arange(x_min, x_max, 0.01),\n",
        "                             np.arange(y_min, y_max, 0.01))\n",
        "\n",
        "        Z = model.predict(np.c_[xx.ravel(), yy.ravel()])\n",
        "        Z = Z.reshape(xx.shape)\n",
        "\n",
        "        ax.contourf(xx, yy, Z, alpha=0.4)\n",
        "\n",
        "        # Plot\n",
        "        ax.scatter(X[:, 0], X[:, 1], c=Y, s=20, edgecolor='k')\n",
        "        ax.get_xaxis().set_visible(False)\n",
        "        ax.get_yaxis().set_visible(False)\n",
        "\n",
        "    plt.show()"
      ],
      "id": "CW1r61oAgMBj"
    },
    {
      "cell_type": "markdown",
      "metadata": {
        "id": "QwGPa5xtnyTs"
      },
      "source": [
        "In the dataset, let's update the headline column by making each word lowercase, so that no word is counted multiple times"
      ],
      "id": "QwGPa5xtnyTs"
    },
    {
      "cell_type": "code",
      "execution_count": null,
      "metadata": {
        "id": "Ps-UW2KA796L"
      },
      "outputs": [],
      "source": [
        "# making every word of small letters\n",
        "main_df['headline'] = main_df['headline'].str.lower()"
      ],
      "id": "Ps-UW2KA796L"
    },
    {
      "cell_type": "code",
      "execution_count": null,
      "metadata": {
        "id": "LA0tQxVtltvO"
      },
      "outputs": [],
      "source": [
        "# defining independent and dependent variables\n",
        "X = main_df[['headline']]\n",
        "y = main_df['category']"
      ],
      "id": "LA0tQxVtltvO"
    },
    {
      "cell_type": "markdown",
      "metadata": {
        "id": "m5Acd8sqoLLO"
      },
      "source": [
        "Since our target variable is mixture of 23 classes, let's convert it into numeric by doing label encoding."
      ],
      "id": "m5Acd8sqoLLO"
    },
    {
      "cell_type": "code",
      "execution_count": null,
      "metadata": {
        "id": "93l60XbCa861"
      },
      "outputs": [],
      "source": [
        "from sklearn.preprocessing import LabelEncoder\n",
        "\n",
        "# applying label encoding to the target variable\n",
        "encoder = LabelEncoder()\n",
        "y = encoder.fit_transform(y)"
      ],
      "id": "93l60XbCa861"
    },
    {
      "cell_type": "code",
      "execution_count": null,
      "metadata": {
        "colab": {
          "base_uri": "https://localhost:8080/"
        },
        "id": "ufowyjs4bKTQ",
        "outputId": "572277af-abaa-4835-9cbd-66074fb50137"
      },
      "outputs": [
        {
          "data": {
            "text/plain": [
              "array([22, 22,  1, ..., 18, 18, 18])"
            ]
          },
          "execution_count": 26,
          "metadata": {},
          "output_type": "execute_result"
        }
      ],
      "source": [
        "# sanity check\n",
        "y"
      ],
      "id": "ufowyjs4bKTQ"
    },
    {
      "cell_type": "code",
      "execution_count": null,
      "metadata": {
        "id": "q9zgmQASgMTA"
      },
      "outputs": [],
      "source": [
        "# splitting into train and test splits\n",
        "X_train, X_test, y_train, y_test = train_test_split(X, y, test_size=0.20, random_state=1, stratify=y)"
      ],
      "id": "q9zgmQASgMTA"
    },
    {
      "cell_type": "markdown",
      "metadata": {
        "id": "nqcVNlIxohg9"
      },
      "source": [
        "Tf-idf can also be done without a pipeline.."
      ],
      "id": "nqcVNlIxohg9"
    },
    {
      "cell_type": "code",
      "execution_count": null,
      "metadata": {
        "id": "9H1cNzOSay_Q"
      },
      "outputs": [],
      "source": [
        "# making a pipeline for the tf-idf vectorizer\n",
        "pipeline = Pipeline([\n",
        "              \n",
        "                ('tfidf', TfidfVectorizer( min_df =3, max_df=0.2, max_features=3000, \n",
        "                    strip_accents='unicode', analyzer='word',\n",
        "                    ngram_range=(1, 10),\n",
        "                    stop_words = 'english'))\n",
        "])"
      ],
      "id": "9H1cNzOSay_Q"
    },
    {
      "cell_type": "code",
      "execution_count": null,
      "metadata": {
        "colab": {
          "base_uri": "https://localhost:8080/"
        },
        "id": "PhJqL2yhazCp",
        "outputId": "67eedbac-f9e9-4bd0-8757-4110668a7503"
      },
      "outputs": [
        {
          "data": {
            "text/plain": [
              "Pipeline(steps=[('tfidf',\n",
              "                 TfidfVectorizer(max_df=0.2, max_features=3000, min_df=3,\n",
              "                                 ngram_range=(1, 10), stop_words='english',\n",
              "                                 strip_accents='unicode'))])"
            ]
          },
          "execution_count": 29,
          "metadata": {},
          "output_type": "execute_result"
        }
      ],
      "source": [
        "# fitting the pipeline to the headline column\n",
        "pipeline.fit(X_train['headline'])"
      ],
      "id": "PhJqL2yhazCp"
    },
    {
      "cell_type": "markdown",
      "source": [
        "Now let's tranform train and test sets according to our pipeline."
      ],
      "metadata": {
        "id": "CMtc8eD3VRCW"
      },
      "id": "CMtc8eD3VRCW"
    },
    {
      "cell_type": "code",
      "execution_count": null,
      "metadata": {
        "colab": {
          "base_uri": "https://localhost:8080/"
        },
        "id": "ZChu2qh1azGd",
        "outputId": "ed876ed3-75de-4d42-ea44-c5f58eb469d3"
      },
      "outputs": [
        {
          "name": "stdout",
          "output_type": "stream",
          "text": [
            "CPU times: user 5.28 s, sys: 17.7 ms, total: 5.3 s\n",
            "Wall time: 5.29 s\n"
          ]
        }
      ],
      "source": [
        "%%time\n",
        "train_vec = pipeline.transform(X_train['headline'])\n",
        "test_vec = pipeline.transform(X_test['headline'])"
      ],
      "id": "ZChu2qh1azGd"
    },
    {
      "cell_type": "code",
      "execution_count": null,
      "metadata": {
        "colab": {
          "base_uri": "https://localhost:8080/"
        },
        "id": "95RqzS_CazLZ",
        "outputId": "bb6fd31b-f08b-430c-a124-535952492d29"
      },
      "outputs": [
        {
          "data": {
            "text/plain": [
              "(167435, 3000)"
            ]
          },
          "execution_count": 31,
          "metadata": {},
          "output_type": "execute_result"
        }
      ],
      "source": [
        "# sanity check\n",
        "train_vec.shape"
      ],
      "id": "95RqzS_CazLZ"
    },
    {
      "cell_type": "code",
      "execution_count": null,
      "metadata": {
        "colab": {
          "base_uri": "https://localhost:8080/"
        },
        "id": "wvcvrQC8MHlk",
        "outputId": "996cede7-b632-4033-d1f8-88e81abbc8ad"
      },
      "outputs": [
        {
          "data": {
            "text/plain": [
              "<167435x3000 sparse matrix of type '<class 'numpy.float64'>'\n",
              "\twith 761198 stored elements in Compressed Sparse Row format>"
            ]
          },
          "execution_count": 32,
          "metadata": {},
          "output_type": "execute_result"
        }
      ],
      "source": [
        "# sanity check\n",
        "train_vec"
      ],
      "id": "wvcvrQC8MHlk"
    },
    {
      "cell_type": "markdown",
      "metadata": {
        "id": "G11_i_e2TtmH"
      },
      "source": [
        "Let's first try to run a simple decision tree classifier and then compare the performance with the random forest classifier."
      ],
      "id": "G11_i_e2TtmH"
    },
    {
      "cell_type": "code",
      "execution_count": null,
      "metadata": {
        "colab": {
          "base_uri": "https://localhost:8080/"
        },
        "id": "peBb0fLipsm4",
        "outputId": "de56df50-c865-4af8-d0f8-328b3503e561"
      },
      "outputs": [
        {
          "data": {
            "text/plain": [
              "DecisionTreeClassifier()"
            ]
          },
          "execution_count": 23,
          "metadata": {},
          "output_type": "execute_result"
        }
      ],
      "source": [
        "# fitting the DT\n",
        "DT_model_one = DecisionTreeClassifier()\n",
        "DT_model_one.fit(train_vec, y_train)"
      ],
      "id": "peBb0fLipsm4"
    },
    {
      "cell_type": "code",
      "execution_count": null,
      "metadata": {
        "colab": {
          "base_uri": "https://localhost:8080/"
        },
        "id": "aAFuzFxoqvVF",
        "outputId": "fb261b69-3454-4e0b-bcf2-86bcad01614d"
      },
      "outputs": [
        {
          "name": "stdout",
          "output_type": "stream",
          "text": [
            "[0.47466181 0.47806612 0.47776749 0.47603548 0.47803625]\n",
            "0.47691342909188644\n"
          ]
        }
      ],
      "source": [
        "# accuracies for the train set\n",
        "scores = cross_val_score(DT_model_one,train_vec, y_train, cv=5, scoring=\"accuracy\" )\n",
        "print(scores)\n",
        "print(np.mean(scores))"
      ],
      "id": "aAFuzFxoqvVF"
    },
    {
      "cell_type": "markdown",
      "metadata": {
        "id": "60xxpgmRi_mo"
      },
      "source": [
        "__Note:__ Here cross validation is done put there is no usage of pipeline, so there is a data leakage between remainder and validation sets. Here, I just wanted to compare the performance and pipeline won't affect much. So that's why pipepline is not used."
      ],
      "id": "60xxpgmRi_mo"
    },
    {
      "cell_type": "code",
      "execution_count": null,
      "metadata": {
        "colab": {
          "base_uri": "https://localhost:8080/"
        },
        "id": "228ACZZEsRD9",
        "outputId": "84830b66-bf11-4bf8-eb30-66e2986076aa"
      },
      "outputs": [
        {
          "name": "stdout",
          "output_type": "stream",
          "text": [
            "[0.4449355  0.44386049 0.44481605 0.44553273 0.45215625]\n",
            "0.4462602044016659\n"
          ]
        }
      ],
      "source": [
        "# accuracies for the test set\n",
        "scores = cross_val_score(DT_model_one,test_vec, y_test, cv=5, scoring=\"accuracy\" )\n",
        "print(scores)\n",
        "print(np.mean(scores))"
      ],
      "id": "228ACZZEsRD9"
    },
    {
      "cell_type": "code",
      "execution_count": null,
      "metadata": {
        "id": "DZ9gnac8jlJS"
      },
      "outputs": [],
      "source": [
        "X_remainder, X_validation, y_remainder, y_validation = train_test_split(train_vec, y_train, test_size=0.33, random_state=1, stratify=y_train)"
      ],
      "id": "DZ9gnac8jlJS"
    },
    {
      "cell_type": "code",
      "execution_count": null,
      "metadata": {
        "colab": {
          "base_uri": "https://localhost:8080/"
        },
        "id": "YY50pgvgdTMt",
        "outputId": "07a6d150-e7a5-44ea-941a-898d80cf0a6f"
      },
      "outputs": [
        {
          "name": "stdout",
          "output_type": "stream",
          "text": [
            "(112181, 3000)\n",
            "(112181,)\n",
            "(55254, 3000)\n",
            "(55254,)\n"
          ]
        }
      ],
      "source": [
        "print(X_remainder.shape)\n",
        "print(y_remainder.shape)\n",
        "print(X_validation.shape)\n",
        "print(y_validation.shape)"
      ],
      "id": "YY50pgvgdTMt"
    },
    {
      "cell_type": "markdown",
      "source": [
        "Now let's try to find the optimal value of max_depth so that we can improve the accuracy..."
      ],
      "metadata": {
        "id": "2mcx3ivaVhHX"
      },
      "id": "2mcx3ivaVhHX"
    },
    {
      "cell_type": "code",
      "execution_count": null,
      "metadata": {
        "colab": {
          "base_uri": "https://localhost:8080/"
        },
        "id": "89SJ_ZS3jlLE",
        "outputId": "c4558647-7c0f-49de-95a5-9bc05551a8e7"
      },
      "outputs": [
        {
          "name": "stdout",
          "output_type": "stream",
          "text": [
            "My best score is: 0.3098056249321316\n",
            "    Depth  Remainder Score  Validation Score\n",
            "47   48.0         0.358465          0.309806\n"
          ]
        }
      ],
      "source": [
        "# iterating over a range of hyperparameters\n",
        "scores = pd.DataFrame()\n",
        "\n",
        "depth_range = 50\n",
        "\n",
        "for max_depth in range(1, depth_range):\n",
        "    dt_model = DecisionTreeClassifier(max_depth=max_depth)\n",
        "    dt_model.fit(X_remainder, y_remainder)\n",
        "    \n",
        "    # Scoring\n",
        "    remainder_score = dt_model.score(X_remainder, y_remainder)\n",
        "    validation_score = dt_model.score(X_validation, y_validation)\n",
        "    \n",
        "\n",
        "    scores = scores.append({'Depth': max_depth, 'Remainder Score': remainder_score, 'Validation Score': validation_score}, ignore_index=True)\n",
        "    \n",
        "best_score = scores['Validation Score'].max()\n",
        "\n",
        "print(\"My best score is:\", best_score)\n",
        "print(scores[scores['Validation Score'] == best_score])"
      ],
      "id": "89SJ_ZS3jlLE"
    },
    {
      "cell_type": "code",
      "execution_count": null,
      "metadata": {
        "colab": {
          "base_uri": "https://localhost:8080/",
          "height": 350
        },
        "id": "NVdmEoZ5jlNZ",
        "outputId": "f8ffa19b-9093-4c24-ef46-0b83f3a59705"
      },
      "outputs": [
        {
          "data": {
            "image/png": "[encoded data removed]",
            "text/plain": [
              "<Figure size 720x360 with 1 Axes>"
            ]
          },
          "metadata": {},
          "output_type": "display_data"
        }
      ],
      "source": [
        "# comparison plot\n",
        "plt.figure(figsize=(10,5))\n",
        "plt.plot('Depth', 'Remainder Score', data=scores)\n",
        "plt.plot('Depth', 'Validation Score', data=scores)\n",
        "plt.title('Accuracies as Depth Changes')\n",
        "plt.xlabel('Depth')\n",
        "plt.xticks(range(1,depth_range, 2))\n",
        "plt.ylabel('Accuracy Score')\n",
        "plt.legend()\n",
        "plt.show()"
      ],
      "id": "NVdmEoZ5jlNZ"
    },
    {
      "cell_type": "code",
      "execution_count": null,
      "metadata": {
        "colab": {
          "base_uri": "https://localhost:8080/"
        },
        "id": "rqr9aYAoiNHZ",
        "outputId": "9a3beaa3-cf4b-4ff9-effd-e4e6df05c558"
      },
      "outputs": [
        {
          "name": "stdout",
          "output_type": "stream",
          "text": [
            "DT accuracy score on training set: 0.353\n",
            "DT accuracy score on test set: 0.317\n"
          ]
        }
      ],
      "source": [
        "# running a decision tree model\n",
        "DTmodel = DecisionTreeClassifier(max_depth=48)\n",
        "DTmodel.fit(train_vec, y_train)\n",
        "\n",
        "print(f\"DT accuracy score on training set: {DTmodel.score(train_vec, y_train):0.3f}\")\n",
        "print(f\"DT accuracy score on test set: {DTmodel.score(test_vec, y_test):0.3f}\")"
      ],
      "id": "rqr9aYAoiNHZ"
    },
    {
      "cell_type": "markdown",
      "source": [
        "Decision trees performs very poorly on the datatset."
      ],
      "metadata": {
        "id": "nyD0WiAfWb4n"
      },
      "id": "nyD0WiAfWb4n"
    },
    {
      "cell_type": "markdown",
      "metadata": {
        "id": "zo3WsCMdkC0G"
      },
      "source": [
        "Seems like trains and test accuracies will keep on increasing with the increase in the depth parameter. The only thing which matters over here is the the optimal depth you want to choose.\n",
        "\n",
        "May be you can use cross validation to check the optimal value\n",
        "But let's focus on random forest model and draw the comparison."
      ],
      "id": "zo3WsCMdkC0G"
    },
    {
      "cell_type": "markdown",
      "metadata": {
        "id": "GAnwVEzhlz6g"
      },
      "source": [
        "---"
      ],
      "id": "GAnwVEzhlz6g"
    },
    {
      "cell_type": "markdown",
      "metadata": {
        "id": "e1t64Q0olsff"
      },
      "source": [
        "---"
      ],
      "id": "e1t64Q0olsff"
    },
    {
      "cell_type": "markdown",
      "metadata": {
        "id": "NLyx4-Ahluck"
      },
      "source": [
        "### Random Forest model"
      ],
      "id": "NLyx4-Ahluck"
    },
    {
      "cell_type": "markdown",
      "metadata": {
        "id": "OzXIWqbdmtqG"
      },
      "source": [
        "Let's fit the vectorizer and classifier in a pipeline and set parameters for both tf-idf and random forest classifier to find the optimal value."
      ],
      "id": "OzXIWqbdmtqG"
    },
    {
      "cell_type": "code",
      "execution_count": null,
      "metadata": {
        "id": "0juuDgwSmCSQ"
      },
      "outputs": [],
      "source": [
        "# Randomforest pipeline setup\n",
        "rf_pipe = Pipeline([\n",
        " ('tvec', TfidfVectorizer()),\n",
        " ('rf', RandomForestClassifier())\n",
        "])\n",
        "\n",
        "\n",
        "# Fit\n",
        "rf_pipe.fit(X_train['headline'], y_train)\n",
        "\n",
        "\n",
        "# Setting up randomforest params\n",
        "rf_params = {\n",
        " 'tvec__max_features':[3000],\n",
        " 'tvec__min_df':[2, 5, 10],\n",
        " 'tvec__ngram_range': [(1, 2), (1, 3)],\n",
        " 'tvec__stop_words': ['english'],\n",
        " 'rf__max_depth': [800, 700],\n",
        " 'rf__min_samples_split': [100]\n",
        "}"
      ],
      "id": "0juuDgwSmCSQ"
    },
    {
      "cell_type": "markdown",
      "source": [
        "Now we have define our pipe, let's fit it into the girdsearch."
      ],
      "metadata": {
        "id": "e1y6UPMKWnjj"
      },
      "id": "e1y6UPMKWnjj"
    },
    {
      "cell_type": "code",
      "execution_count": null,
      "metadata": {
        "colab": {
          "background_save": true,
          "base_uri": "https://localhost:8080/"
        },
        "id": "Wfmsdp-vCRtL",
        "outputId": "995c9888-10c6-43b1-dfdb-bf0df224a296"
      },
      "outputs": [
        {
          "name": "stdout",
          "output_type": "stream",
          "text": [
            "Fitting 5 folds for each of 12 candidates, totalling 60 fits\n"
          ]
        }
      ],
      "source": [
        "# Setting up GridSearch for Randomforest\n",
        "rf_gs = GridSearchCV(rf_pipe, param_grid=rf_params, cv = 5, verbose = 1, n_jobs = -1)\n",
        "\n",
        "\n",
        "# Fitting Randomforest CV GS\n",
        "fittedgrid = rf_gs.fit(X_train['headline'], y_train)"
      ],
      "id": "Wfmsdp-vCRtL"
    },
    {
      "cell_type": "code",
      "execution_count": null,
      "metadata": {
        "colab": {
          "base_uri": "https://localhost:8080/"
        },
        "id": "Vzo6Ca9usNN4",
        "outputId": "c6eca3ec-0829-4b27-e0c2-95428848977a"
      },
      "outputs": [
        {
          "data": {
            "text/plain": [
              "{'rf__max_depth': 1000,\n",
              " 'rf__max_leaf_nodes': None,\n",
              " 'rf__min_samples_split': 100,\n",
              " 'tvec__max_features': 2000,\n",
              " 'tvec__ngram_range': (1, 2),\n",
              " 'tvec__stop_words': 'english'}"
            ]
          },
          "execution_count": 64,
          "metadata": {},
          "output_type": "execute_result"
        }
      ],
      "source": [
        "fittedgrid.best_params_"
      ],
      "id": "Vzo6Ca9usNN4"
    },
    {
      "cell_type": "code",
      "execution_count": null,
      "metadata": {
        "colab": {
          "base_uri": "https://localhost:8080/"
        },
        "id": "-3gGgDzKuPNG",
        "outputId": "c34cedb8-e5c5-41be-8195-881cbc10453b"
      },
      "outputs": [
        {
          "data": {
            "text/plain": [
              "0.6989339146534476"
            ]
          },
          "execution_count": 65,
          "metadata": {},
          "output_type": "execute_result"
        }
      ],
      "source": [
        "# accuracy of the train set\n",
        "rf_gs.score(X_train['headline'], y_train)"
      ],
      "id": "-3gGgDzKuPNG"
    },
    {
      "cell_type": "code",
      "execution_count": null,
      "metadata": {
        "colab": {
          "base_uri": "https://localhost:8080/"
        },
        "id": "5uSuAZkauPPU",
        "outputId": "21fdb4be-f47d-4eb3-adf8-e3883cf1799a"
      },
      "outputs": [
        {
          "data": {
            "text/plain": [
              "0.5318808380515541"
            ]
          },
          "execution_count": 66,
          "metadata": {},
          "output_type": "execute_result"
        }
      ],
      "source": [
        "# accuracy on the test set\n",
        "rf_gs.score(X_test['headline'], y_test)"
      ],
      "id": "5uSuAZkauPPU"
    },
    {
      "cell_type": "markdown",
      "source": [
        "Our random forest model is slightly overfitting on the above parameters as accuracy of train set is a little higher.\n",
        "\n",
        "\n",
        "\n",
        "Let's check the recall and precision score."
      ],
      "metadata": {
        "id": "hdqjwo3MW9GO"
      },
      "id": "hdqjwo3MW9GO"
    },
    {
      "cell_type": "code",
      "execution_count": null,
      "metadata": {
        "id": "jlVzAzGwuPm4"
      },
      "outputs": [],
      "source": [
        "# Get class predictions\n",
        "y_pred = rf_gs.predict(X_test['headline'])"
      ],
      "id": "jlVzAzGwuPm4"
    },
    {
      "cell_type": "code",
      "execution_count": null,
      "metadata": {
        "colab": {
          "base_uri": "https://localhost:8080/"
        },
        "id": "kDeVbDGimO-9",
        "outputId": "3d836d7b-cd4d-4a21-9bab-9519163bed5b"
      },
      "outputs": [
        {
          "data": {
            "text/plain": [
              "0.5318808380515541"
            ]
          },
          "execution_count": 91,
          "metadata": {},
          "output_type": "execute_result"
        }
      ],
      "source": [
        "# Precision \n",
        "from sklearn.metrics import precision_score\n",
        "\n",
        "# precision_score(true labels, predicted labels)\n",
        "precision_score(y_test, y_pred, average='macro')"
      ],
      "id": "kDeVbDGimO-9"
    },
    {
      "cell_type": "code",
      "execution_count": null,
      "metadata": {
        "colab": {
          "base_uri": "https://localhost:8080/"
        },
        "id": "5JbibHXNmPBP",
        "outputId": "519a469b-2324-45bb-e880-76b1077c0a23"
      },
      "outputs": [
        {
          "data": {
            "text/plain": [
              "0.5318808380515541"
            ]
          },
          "execution_count": 69,
          "metadata": {},
          "output_type": "execute_result"
        }
      ],
      "source": [
        "# Recall\n",
        "from sklearn.metrics import recall_score\n",
        "\n",
        "# recall_score(true labels, predicted labels)\n",
        "recall_score(y_test, y_pred, average='macro')"
      ],
      "id": "5JbibHXNmPBP"
    },
    {
      "cell_type": "markdown",
      "source": [
        "Let's draw the confusion matrix for this model, but it is going to be huge as we have 23 classes to classify."
      ],
      "metadata": {
        "id": "882tNsNEYFq0"
      },
      "id": "882tNsNEYFq0"
    },
    {
      "cell_type": "code",
      "execution_count": null,
      "metadata": {
        "id": "5_Uq2SciuKFz"
      },
      "outputs": [],
      "source": [
        "from sklearn.metrics import plot_confusion_matrix, confusion_matrix\n",
        "from sklearn.metrics import classification_report\n",
        "from sklearn.metrics import ConfusionMatrixDisplay"
      ],
      "id": "5_Uq2SciuKFz"
    },
    {
      "cell_type": "code",
      "execution_count": null,
      "metadata": {
        "colab": {
          "base_uri": "https://localhost:8080/",
          "height": 869
        },
        "id": "DkWLDAUOuKK4",
        "outputId": "b8f24494-e5b2-4f5a-8b87-6f02eae78ba5"
      },
      "outputs": [
        {
          "data": {
            "text/plain": [
              "<sklearn.metrics._plot.confusion_matrix.ConfusionMatrixDisplay at 0x7fd845800070>"
            ]
          },
          "execution_count": 78,
          "metadata": {},
          "output_type": "execute_result"
        },
        {
          "data": {
            "image/png": "[encoded data removed]",
            "text/plain": [
              "<Figure size 1080x1080 with 2 Axes>"
            ]
          },
          "metadata": {},
          "output_type": "display_data"
        }
      ],
      "source": [
        "# defining the confusion matrix\n",
        "cm = confusion_matrix(y_test, y_pred)\n",
        "cmp = ConfusionMatrixDisplay(cm)\n",
        "fig, ax = plt.subplots(figsize=(15,15))\n",
        "cmp.plot(ax=ax)"
      ],
      "id": "DkWLDAUOuKK4"
    },
    {
      "cell_type": "markdown",
      "source": [
        "This confusion matrix does not make any sense because we dont really know total negatives, false positives and false negatives. \n",
        "\n",
        "We have to calculate manually for each class.\n",
        "\n",
        "\n",
        "\n",
        "So let's have a look at the classification report."
      ],
      "metadata": {
        "id": "ZPAalR-6Y8aS"
      },
      "id": "ZPAalR-6Y8aS"
    },
    {
      "cell_type": "code",
      "execution_count": null,
      "metadata": {
        "colab": {
          "base_uri": "https://localhost:8080/"
        },
        "id": "lDmDWTt83T3H",
        "outputId": "ddccab80-8e8a-4d24-d0a2-201b5f443b14"
      },
      "outputs": [
        {
          "name": "stdout",
          "output_type": "stream",
          "text": [
            "              precision    recall  f1-score   support\n",
            "\n",
            "           0       0.49      0.24      0.32       784\n",
            "           1       0.63      0.33      0.44      1080\n",
            "           2       0.44      0.32      0.37       711\n",
            "           3       0.42      0.33      0.37       432\n",
            "           4       0.50      0.53      0.51      3472\n",
            "           5       0.46      0.25      0.32       813\n",
            "           6       0.60      0.55      0.58      1687\n",
            "           7       0.40      0.76      0.53      4924\n",
            "           8       0.58      0.47      0.52       864\n",
            "           9       0.75      0.61      0.67      1415\n",
            "          10       0.47      0.19      0.27       588\n",
            "          11       0.63      0.40      0.49      2411\n",
            "          12       0.47      0.30      0.37      1548\n",
            "          13       0.32      0.16      0.21      1812\n",
            "          14       0.54      0.64      0.59      2548\n",
            "          15       0.65      0.77      0.70      7116\n",
            "          16       0.56      0.26      0.36       515\n",
            "          17       0.42      0.26      0.32       860\n",
            "          18       0.51      0.38      0.44      1015\n",
            "          19       0.63      0.66      0.64      2388\n",
            "          20       0.54      0.49      0.52      1979\n",
            "          21       0.34      0.23      0.27       714\n",
            "          22       0.53      0.46      0.49      2183\n",
            "\n",
            "    accuracy                           0.53     41859\n",
            "   macro avg       0.52      0.42      0.45     41859\n",
            "weighted avg       0.54      0.53      0.52     41859\n",
            "\n"
          ]
        }
      ],
      "source": [
        "# classification report\n",
        "print(classification_report(y_test, y_pred))"
      ],
      "id": "lDmDWTt83T3H"
    },
    {
      "cell_type": "markdown",
      "metadata": {
        "id": "6z-yF-0T6mIb"
      },
      "source": [
        "Woow...."
      ],
      "id": "6z-yF-0T6mIb"
    },
    {
      "cell_type": "markdown",
      "source": [
        "0 'ARTS & CULTURE'\n",
        "\n",
        "1'COMEDY'\n",
        "\n",
        "2'CRIME'\n",
        "\n",
        "3 'EDUCATION' \n",
        "\n",
        "4 'ENTERTAINMENT'\n",
        "\n",
        "5 'ENVIRONMENT' \n",
        "\n",
        "6 'FOOD & DRINK' \n",
        "\n",
        "7 'HEALTHY LIVING'\n",
        "\n",
        "8 'HOME & LIVING'\n",
        "\n",
        "\n",
        "9 'MARRIAGE & DIVORCE' \n",
        "\n",
        "10'MEDIA'\n",
        "\n",
        "11 'MINORITIES' \n",
        "\n",
        "12'MONEY & BUSINESS' \n",
        "\n",
        "13 'OTHER NEWS'\n",
        "\n",
        "\n",
        "14 'PARENTING'\n",
        "\n",
        "15 'POLITICS'\n",
        "\n",
        "16 'RELIGION' \n",
        "\n",
        "\n",
        "17'SCIENCE & TECH' \n",
        "\n",
        "18 'SPORTS'\n",
        "\n",
        "19 'STYLE & BEAUTY'\n",
        "\n",
        "20 'TRAVEL'\n",
        "\n",
        "21 'WOMEN'\n",
        "\n",
        "22 'WORLD NEWS'"
      ],
      "metadata": {
        "id": "fqSreWSXbEIl"
      },
      "id": "fqSreWSXbEIl"
    },
    {
      "cell_type": "markdown",
      "source": [
        "__Interpretions from the above report__\n",
        "\n",
        "\n",
        "1. Marriage and Divorce have the most precision among all categories (75%)\n",
        "2. Healthy living and politics have almost same recall (75%)"
      ],
      "metadata": {
        "id": "p6eMfg7Ba0m7"
      },
      "id": "p6eMfg7Ba0m7"
    },
    {
      "cell_type": "markdown",
      "source": [
        "---"
      ],
      "metadata": {
        "id": "CJnf82Z4R2ga"
      },
      "id": "CJnf82Z4R2ga"
    },
    {
      "cell_type": "markdown",
      "source": [
        "__Summary:__\n",
        "\n",
        "Random forest model is the basic model in this project. I look forward to deploy random forest and neural network model and check the performance of the model.\n",
        "\n",
        "\n",
        "Also, to improve accuracy in this case, dimensionality reduction can be done and resampling (upsample/downsample) can be done as we have a imbalanced dataset. "
      ],
      "metadata": {
        "id": "QzSh1MC-RzKP"
      },
      "id": "QzSh1MC-RzKP"
    },
    {
      "cell_type": "markdown",
      "source": [
        "---"
      ],
      "metadata": {
        "id": "mD_fSxg9RxJI"
      },
      "id": "mD_fSxg9RxJI"
    },
    {
      "cell_type": "markdown",
      "metadata": {
        "id": "GIO1engfpALB"
      },
      "source": [
        "## Thank You!!"
      ],
      "id": "GIO1engfpALB"
    }
  ],
  "metadata": {
    "accelerator": "GPU",
    "colab": {
      "machine_shape": "hm",
      "provenance": []
    },
    "gpuClass": "standard",
    "kernelspec": {
      "display_name": "Python 3",
      "name": "python3"
    },
    "language_info": {
      "name": "python"
    }
  },
  "nbformat": 4,
  "nbformat_minor": 5
}
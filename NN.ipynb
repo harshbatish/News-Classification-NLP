{
  "cells": [
    {
      "cell_type": "markdown",
      "id": "fafcdbe8",
      "metadata": {
        "id": "fafcdbe8"
      },
      "source": [
        "## Harsh Sharma"
      ]
    },
    {
      "cell_type": "markdown",
      "id": "51c7a8a1",
      "metadata": {
        "id": "51c7a8a1"
      },
      "source": [
        "### Neural networks"
      ]
    },
    {
      "cell_type": "markdown",
      "id": "e348a143",
      "metadata": {
        "id": "e348a143"
      },
      "source": [
        "---"
      ]
    },
    {
      "cell_type": "markdown",
      "source": [
        "### Motive for this file:\n",
        "As we have trained various kind of models previously on our dataset, mainly random forest classifier and XGBoost Classifier, here we are going to do a more advanced and more complex model and check and compare the accuracies & performance with the previous models. \n",
        "\n",
        "\n",
        "So let's dig deeper into neural networks. Running a basic neural network amd then keep on adding some modifications to it and also do some changes to the data to achieve a desirable result."
      ],
      "metadata": {
        "id": "fFM-r7hfS_Rh"
      },
      "id": "fFM-r7hfS_Rh"
    },
    {
      "cell_type": "markdown",
      "source": [
        "---"
      ],
      "metadata": {
        "id": "yZO0sjV_S_Wv"
      },
      "id": "yZO0sjV_S_Wv"
    },
    {
      "cell_type": "markdown",
      "source": [
        "Following three blocks of code are for activating GPU RAM in google colab."
      ],
      "metadata": {
        "id": "AwZLtFBtS_tq"
      },
      "id": "AwZLtFBtS_tq"
    },
    {
      "cell_type": "code",
      "source": [
        "#!nvidia-smi\n",
        "!nvcc --version"
      ],
      "metadata": {
        "colab": {
          "base_uri": "https://localhost:8080/"
        },
        "id": "LPp-3YRWZxpU",
        "outputId": "4dcf38c7-8aa9-4017-dcbe-1c538f1fe970"
      },
      "id": "LPp-3YRWZxpU",
      "execution_count": 1,
      "outputs": [
        {
          "output_type": "stream",
          "name": "stdout",
          "text": [
            "nvcc: NVIDIA (R) Cuda compiler driver\n",
            "Copyright (c) 2005-2021 NVIDIA Corporation\n",
            "Built on Sun_Feb_14_21:12:58_PST_2021\n",
            "Cuda compilation tools, release 11.2, V11.2.152\n",
            "Build cuda_11.2.r11.2/compiler.29618528_0\n"
          ]
        }
      ]
    },
    {
      "cell_type": "code",
      "source": [
        "!cat /usr/local/lib/python3.6/dist-packages/external/local_config_cuda/cuda/cuda/cuda_config.h |\\\n",
        "grep TF_CUDA_VERSION"
      ],
      "metadata": {
        "colab": {
          "base_uri": "https://localhost:8080/"
        },
        "id": "Nb9Bt25oZ69o",
        "outputId": "56fe066a-bbbd-48b2-e98a-13311f526651"
      },
      "id": "Nb9Bt25oZ69o",
      "execution_count": 2,
      "outputs": [
        {
          "output_type": "stream",
          "name": "stdout",
          "text": [
            "cat: /usr/local/lib/python3.6/dist-packages/external/local_config_cuda/cuda/cuda/cuda_config.h: No such file or directory\n"
          ]
        }
      ]
    },
    {
      "cell_type": "code",
      "execution_count": 3,
      "id": "29be132c",
      "metadata": {
        "id": "29be132c"
      },
      "outputs": [],
      "source": [
        "# Importing everything we need \n",
        "# The usual packages\n",
        "import numpy as np \n",
        "import pandas as pd \n",
        "import matplotlib.pyplot as plt \n",
        "%matplotlib inline\n",
        "import seaborn as sns\n",
        "\n",
        "# Splitting data\n",
        "from sklearn.model_selection import train_test_split \n",
        "\n",
        "# Scalers\n",
        "from sklearn.preprocessing import StandardScaler, MinMaxScaler \n",
        "\n",
        "from sklearn.feature_extraction.text import TfidfVectorizer\n",
        "from keras.preprocessing.text import Tokenizer\n",
        "\n",
        "import time\n",
        "from sklearn.pipeline import Pipeline\n",
        "from sklearn.model_selection import cross_val_score\n",
        "from sklearn.model_selection import GridSearchCV\n",
        "\n",
        "import tensorflow as tf\n",
        "from tensorflow import keras\n",
        "from keras import models\n",
        "from keras import layers\n",
        "from keras.models import Sequential\n",
        "from keras.layers import Dense, Dropout, Embedding, BatchNormalization\n",
        "from keras.optimizers import Adam"
      ]
    },
    {
      "cell_type": "code",
      "source": [
        "tf.test.gpu_device_name()"
      ],
      "metadata": {
        "colab": {
          "base_uri": "https://localhost:8080/",
          "height": 35
        },
        "id": "PK51RFXCZ08v",
        "outputId": "ff88c610-ce9b-4b8e-8198-14083a5090d7"
      },
      "id": "PK51RFXCZ08v",
      "execution_count": 4,
      "outputs": [
        {
          "output_type": "execute_result",
          "data": {
            "text/plain": [
              "'/device:GPU:0'"
            ],
            "application/vnd.google.colaboratory.intrinsic+json": {
              "type": "string"
            }
          },
          "metadata": {},
          "execution_count": 4
        }
      ]
    },
    {
      "cell_type": "markdown",
      "source": [
        "Let's mount the google drive for importing files and data"
      ],
      "metadata": {
        "id": "XC-Ow1lGVt0g"
      },
      "id": "XC-Ow1lGVt0g"
    },
    {
      "cell_type": "code",
      "execution_count": 5,
      "id": "b0588693",
      "metadata": {
        "colab": {
          "base_uri": "https://localhost:8080/"
        },
        "id": "b0588693",
        "outputId": "8e5ab283-8be6-4bfc-b1f7-19032c1b2f57"
      },
      "outputs": [
        {
          "output_type": "stream",
          "name": "stdout",
          "text": [
            "Mounted at /content/drive/\n"
          ]
        }
      ],
      "source": [
        "import os\n",
        "from google.colab import drive\n",
        "drive.mount('/content/drive/',force_remount=True)"
      ]
    },
    {
      "cell_type": "code",
      "source": [
        "path = '/content/drive/MyDrive/news data/'\n",
        "main_df = pd.read_csv(path+'file_name.csv')"
      ],
      "metadata": {
        "id": "rBJqcv6gO5Sl"
      },
      "id": "rBJqcv6gO5Sl",
      "execution_count": 6,
      "outputs": []
    },
    {
      "cell_type": "code",
      "source": [
        "# peeking into the dataset\n",
        "main_df.head()"
      ],
      "metadata": {
        "colab": {
          "base_uri": "https://localhost:8080/",
          "height": 206
        },
        "id": "1id07FUeO5VN",
        "outputId": "dd16f2a1-a2b1-4ed8-8c65-66adc57322ab"
      },
      "id": "1id07FUeO5VN",
      "execution_count": 7,
      "outputs": [
        {
          "output_type": "execute_result",
          "data": {
            "text/plain": [
              "   Unnamed: 0    category                                           headline\n",
              "0           0  WORLD NEWS  Over  Million Americans Roll Up Sleeves For Om...\n",
              "1           1  WORLD NEWS  American Airlines Flyer Charged  Banned For Li...\n",
              "2           2      COMEDY   Of The Funniest Tweets About Cats And Dogs Th...\n",
              "3           3   PARENTING  The Funniest Tweets From Parents This Week  Se...\n",
              "4           4  WORLD NEWS  Woman Who Called Cops On Black Bird Watcher Lo..."
            ],
            "text/html": [
              "\n",
              "  <div id=\"df-a1f34878-ec02-4780-b873-eebca893acdc\">\n",
              "    <div class=\"colab-df-container\">\n",
              "      <div>\n",
              "<style scoped>\n",
              "    .dataframe tbody tr th:only-of-type {\n",
              "        vertical-align: middle;\n",
              "    }\n",
              "\n",
              "    .dataframe tbody tr th {\n",
              "        vertical-align: top;\n",
              "    }\n",
              "\n",
              "    .dataframe thead th {\n",
              "        text-align: right;\n",
              "    }\n",
              "</style>\n",
              "<table border=\"1\" class=\"dataframe\">\n",
              "  <thead>\n",
              "    <tr style=\"text-align: right;\">\n",
              "      <th></th>\n",
              "      <th>Unnamed: 0</th>\n",
              "      <th>category</th>\n",
              "      <th>headline</th>\n",
              "    </tr>\n",
              "  </thead>\n",
              "  <tbody>\n",
              "    <tr>\n",
              "      <th>0</th>\n",
              "      <td>0</td>\n",
              "      <td>WORLD NEWS</td>\n",
              "      <td>Over  Million Americans Roll Up Sleeves For Om...</td>\n",
              "    </tr>\n",
              "    <tr>\n",
              "      <th>1</th>\n",
              "      <td>1</td>\n",
              "      <td>WORLD NEWS</td>\n",
              "      <td>American Airlines Flyer Charged  Banned For Li...</td>\n",
              "    </tr>\n",
              "    <tr>\n",
              "      <th>2</th>\n",
              "      <td>2</td>\n",
              "      <td>COMEDY</td>\n",
              "      <td>Of The Funniest Tweets About Cats And Dogs Th...</td>\n",
              "    </tr>\n",
              "    <tr>\n",
              "      <th>3</th>\n",
              "      <td>3</td>\n",
              "      <td>PARENTING</td>\n",
              "      <td>The Funniest Tweets From Parents This Week  Se...</td>\n",
              "    </tr>\n",
              "    <tr>\n",
              "      <th>4</th>\n",
              "      <td>4</td>\n",
              "      <td>WORLD NEWS</td>\n",
              "      <td>Woman Who Called Cops On Black Bird Watcher Lo...</td>\n",
              "    </tr>\n",
              "  </tbody>\n",
              "</table>\n",
              "</div>\n",
              "      <button class=\"colab-df-convert\" onclick=\"convertToInteractive('df-a1f34878-ec02-4780-b873-eebca893acdc')\"\n",
              "              title=\"Convert this dataframe to an interactive table.\"\n",
              "              style=\"display:none;\">\n",
              "        \n",
              "  <svg xmlns=\"http://www.w3.org/2000/svg\" height=\"24px\"viewBox=\"0 0 24 24\"\n",
              "       width=\"24px\">\n",
              "    <path d=\"M0 0h24v24H0V0z\" fill=\"none\"/>\n",
              "    <path d=\"M18.56 5.44l.94 2.06.94-2.06 2.06-.94-2.06-.94-.94-2.06-.94 2.06-2.06.94zm-11 1L8.5 8.5l.94-2.06 2.06-.94-2.06-.94L8.5 2.5l-.94 2.06-2.06.94zm10 10l.94 2.06.94-2.06 2.06-.94-2.06-.94-.94-2.06-.94 2.06-2.06.94z\"/><path d=\"M17.41 7.96l-1.37-1.37c-.4-.4-.92-.59-1.43-.59-.52 0-1.04.2-1.43.59L10.3 9.45l-7.72 7.72c-.78.78-.78 2.05 0 2.83L4 21.41c.39.39.9.59 1.41.59.51 0 1.02-.2 1.41-.59l7.78-7.78 2.81-2.81c.8-.78.8-2.07 0-2.86zM5.41 20L4 18.59l7.72-7.72 1.47 1.35L5.41 20z\"/>\n",
              "  </svg>\n",
              "      </button>\n",
              "      \n",
              "  <style>\n",
              "    .colab-df-container {\n",
              "      display:flex;\n",
              "      flex-wrap:wrap;\n",
              "      gap: 12px;\n",
              "    }\n",
              "\n",
              "    .colab-df-convert {\n",
              "      background-color: #E8F0FE;\n",
              "      border: none;\n",
              "      border-radius: 50%;\n",
              "      cursor: pointer;\n",
              "      display: none;\n",
              "      fill: #1967D2;\n",
              "      height: 32px;\n",
              "      padding: 0 0 0 0;\n",
              "      width: 32px;\n",
              "    }\n",
              "\n",
              "    .colab-df-convert:hover {\n",
              "      background-color: #E2EBFA;\n",
              "      box-shadow: 0px 1px 2px rgba(60, 64, 67, 0.3), 0px 1px 3px 1px rgba(60, 64, 67, 0.15);\n",
              "      fill: #174EA6;\n",
              "    }\n",
              "\n",
              "    [theme=dark] .colab-df-convert {\n",
              "      background-color: #3B4455;\n",
              "      fill: #D2E3FC;\n",
              "    }\n",
              "\n",
              "    [theme=dark] .colab-df-convert:hover {\n",
              "      background-color: #434B5C;\n",
              "      box-shadow: 0px 1px 3px 1px rgba(0, 0, 0, 0.15);\n",
              "      filter: drop-shadow(0px 1px 2px rgba(0, 0, 0, 0.3));\n",
              "      fill: #FFFFFF;\n",
              "    }\n",
              "  </style>\n",
              "\n",
              "      <script>\n",
              "        const buttonEl =\n",
              "          document.querySelector('#df-a1f34878-ec02-4780-b873-eebca893acdc button.colab-df-convert');\n",
              "        buttonEl.style.display =\n",
              "          google.colab.kernel.accessAllowed ? 'block' : 'none';\n",
              "\n",
              "        async function convertToInteractive(key) {\n",
              "          const element = document.querySelector('#df-a1f34878-ec02-4780-b873-eebca893acdc');\n",
              "          const dataTable =\n",
              "            await google.colab.kernel.invokeFunction('convertToInteractive',\n",
              "                                                     [key], {});\n",
              "          if (!dataTable) return;\n",
              "\n",
              "          const docLinkHtml = 'Like what you see? Visit the ' +\n",
              "            '<a target=\"_blank\" href=https://colab.research.google.com/notebooks/data_table.ipynb>data table notebook</a>'\n",
              "            + ' to learn more about interactive tables.';\n",
              "          element.innerHTML = '';\n",
              "          dataTable['output_type'] = 'display_data';\n",
              "          await google.colab.output.renderOutput(dataTable, element);\n",
              "          const docLink = document.createElement('div');\n",
              "          docLink.innerHTML = docLinkHtml;\n",
              "          element.appendChild(docLink);\n",
              "        }\n",
              "      </script>\n",
              "    </div>\n",
              "  </div>\n",
              "  "
            ]
          },
          "metadata": {},
          "execution_count": 7
        }
      ]
    },
    {
      "cell_type": "markdown",
      "source": [
        "While converting the dataframe to csv index has to be false, otherwise it adds one extra column as seen from above"
      ],
      "metadata": {
        "id": "_nrYJ_-SV5GY"
      },
      "id": "_nrYJ_-SV5GY"
    },
    {
      "cell_type": "code",
      "source": [
        "# checking shape\n",
        "main_df.shape"
      ],
      "metadata": {
        "colab": {
          "base_uri": "https://localhost:8080/"
        },
        "id": "BYFfGGV7O5YD",
        "outputId": "ea0a8f82-a51b-4662-8dd8-52989610d177"
      },
      "id": "BYFfGGV7O5YD",
      "execution_count": 8,
      "outputs": [
        {
          "output_type": "execute_result",
          "data": {
            "text/plain": [
              "(209323, 3)"
            ]
          },
          "metadata": {},
          "execution_count": 8
        }
      ]
    },
    {
      "cell_type": "code",
      "source": [
        "# checking the missing values\n",
        "main_df.isna().sum() "
      ],
      "metadata": {
        "colab": {
          "base_uri": "https://localhost:8080/"
        },
        "id": "sgf-vxFzO5aV",
        "outputId": "f383648d-27af-4e56-ccf6-e6c2e090e9ab"
      },
      "id": "sgf-vxFzO5aV",
      "execution_count": 9,
      "outputs": [
        {
          "output_type": "execute_result",
          "data": {
            "text/plain": [
              "Unnamed: 0     0\n",
              "category       0\n",
              "headline      29\n",
              "dtype: int64"
            ]
          },
          "metadata": {},
          "execution_count": 9
        }
      ]
    },
    {
      "cell_type": "markdown",
      "source": [
        "Some of the cells in the headline columns were empty strings, which are dropped below. These are just 29 compared to 250k in our dataset"
      ],
      "metadata": {
        "id": "Lb2BF9OnWH-p"
      },
      "id": "Lb2BF9OnWH-p"
    },
    {
      "cell_type": "code",
      "source": [
        "# dropping nan values\n",
        "main_df.dropna(inplace=True)"
      ],
      "metadata": {
        "id": "AkmzVHXOO5c4"
      },
      "id": "AkmzVHXOO5c4",
      "execution_count": 10,
      "outputs": []
    },
    {
      "cell_type": "code",
      "source": [
        "# sanity check\n",
        "main_df.isna().sum()"
      ],
      "metadata": {
        "colab": {
          "base_uri": "https://localhost:8080/"
        },
        "id": "C0fDAhaVO5fe",
        "outputId": "7415d6fa-9fba-4278-c538-ecf048708a6f"
      },
      "id": "C0fDAhaVO5fe",
      "execution_count": 11,
      "outputs": [
        {
          "output_type": "execute_result",
          "data": {
            "text/plain": [
              "Unnamed: 0    0\n",
              "category      0\n",
              "headline      0\n",
              "dtype: int64"
            ]
          },
          "metadata": {},
          "execution_count": 11
        }
      ]
    },
    {
      "cell_type": "code",
      "source": [
        "def PlotBoundaries(model, X, Y, figsize=(8, 6)):\n",
        "    '''\n",
        "    Helper function that plots the decision boundaries of a model and data (X,Y)\n",
        "    code modified from: https://scikit-learn.org/stable/auto_examples/neighbors/plot_classification.html\n",
        "    '''\n",
        "\n",
        "    x_min, x_max = X[:, 0].min() - 1, X[:, 0].max() + 1\n",
        "    y_min, y_max = X[:, 1].min() - 1, X[:, 1].max() + 1\n",
        "    xx, yy = np.meshgrid(np.arange(x_min, x_max, 0.01),\n",
        "                         np.arange(y_min, y_max, 0.01))\n",
        "\n",
        "    Z = model.predict(np.c_[xx.ravel(), yy.ravel()])\n",
        "    Z = Z.reshape(xx.shape)\n",
        "\n",
        "    plt.figure(figsize=figsize)\n",
        "    plt.contourf(xx, yy, Z, alpha=0.4)\n",
        "\n",
        "    # Plot\n",
        "    plt.scatter(X[:, 0], X[:, 1], c=Y, s=20, edgecolor='k')\n",
        "    plt.show()"
      ],
      "metadata": {
        "id": "Xn6PbrnqO5h3"
      },
      "id": "Xn6PbrnqO5h3",
      "execution_count": 12,
      "outputs": []
    },
    {
      "cell_type": "code",
      "source": [
        "def PlotEnsembleBoundaries(ensembles, X, Y, shape, figsize=(10, 7)):\n",
        "    '''\n",
        "    Helper function to plot the boundaries of ensemble methods.\n",
        "    code modified from: https://scikit-learn.org/stable/auto_examples/ensemble/plot_forest_iris.html\n",
        "    '''\n",
        "    fig, axes = plt.subplots(shape[0], shape[1], figsize=figsize)\n",
        "    for i, (ax, model) in enumerate(zip(axes.ravel(), ensembles)):\n",
        "        x_min, x_max = X[:, 0].min() - 1, X[:, 0].max() + 1\n",
        "        y_min, y_max = X[:, 1].min() - 1, X[:, 1].max() + 1\n",
        "        xx, yy = np.meshgrid(np.arange(x_min, x_max, 0.01),\n",
        "                             np.arange(y_min, y_max, 0.01))\n",
        "\n",
        "        Z = model.predict(np.c_[xx.ravel(), yy.ravel()])\n",
        "        Z = Z.reshape(xx.shape)\n",
        "\n",
        "        ax.contourf(xx, yy, Z, alpha=0.4)\n",
        "\n",
        "        # Plot\n",
        "        ax.scatter(X[:, 0], X[:, 1], c=Y, s=20, edgecolor='k')\n",
        "        ax.get_xaxis().set_visible(False)\n",
        "        ax.get_yaxis().set_visible(False)\n",
        "\n",
        "    plt.show()"
      ],
      "metadata": {
        "id": "KNsKzW3VO5mI"
      },
      "id": "KNsKzW3VO5mI",
      "execution_count": 13,
      "outputs": []
    },
    {
      "cell_type": "markdown",
      "source": [
        "Let's do some preprocessing before fitting the models"
      ],
      "metadata": {
        "id": "xccEKLjBWeRA"
      },
      "id": "xccEKLjBWeRA"
    },
    {
      "cell_type": "code",
      "source": [
        "# making every word of small letters\n",
        "main_df['headline'] = main_df['headline'].str.lower()"
      ],
      "metadata": {
        "id": "WdWCoHpDO5nq"
      },
      "id": "WdWCoHpDO5nq",
      "execution_count": 14,
      "outputs": []
    },
    {
      "cell_type": "code",
      "source": [
        "# defining independent and dependent variables\n",
        "X = main_df[['headline']]\n",
        "y = main_df['category']"
      ],
      "metadata": {
        "id": "0qc6BH53O5q7"
      },
      "id": "0qc6BH53O5q7",
      "execution_count": 15,
      "outputs": []
    },
    {
      "cell_type": "code",
      "source": [
        "from sklearn.preprocessing import LabelEncoder\n",
        "\n",
        "# applying label encoding to the target variable\n",
        "encoder = LabelEncoder()\n",
        "y = encoder.fit_transform(y)"
      ],
      "metadata": {
        "id": "d6yDFRCIO5tC"
      },
      "id": "d6yDFRCIO5tC",
      "execution_count": 16,
      "outputs": []
    },
    {
      "cell_type": "markdown",
      "source": [
        "As our 'category' column has 23 classes let's change these numbers before we start our modelling so that we don't have any categorical columns present in the dataset."
      ],
      "metadata": {
        "id": "8MMABS-yWofX"
      },
      "id": "8MMABS-yWofX"
    },
    {
      "cell_type": "markdown",
      "source": [
        "Let's split the data into train and test sets..."
      ],
      "metadata": {
        "id": "Pc4V74FxXE_E"
      },
      "id": "Pc4V74FxXE_E"
    },
    {
      "cell_type": "code",
      "source": [
        "# splitting into train and test splits\n",
        "X_train, X_test, y_train, y_test = train_test_split(X, y, test_size=0.20, random_state=1, stratify=y)"
      ],
      "metadata": {
        "id": "W0rODWx-O5vb"
      },
      "id": "W0rODWx-O5vb",
      "execution_count": 17,
      "outputs": []
    },
    {
      "cell_type": "code",
      "source": [
        "# random seeds for reproducibility\n",
        "np.random.seed(123)\n",
        "tf.random.set_seed(123)"
      ],
      "metadata": {
        "id": "rOTbOjYjO5zC"
      },
      "id": "rOTbOjYjO5zC",
      "execution_count": 18,
      "outputs": []
    },
    {
      "cell_type": "code",
      "source": [
        "# the python string package has a helpful punctuation list\n",
        "import string\n",
        "print(string.punctuation)\n",
        "\n",
        "import nltk\n",
        "stemmer = nltk.stem.PorterStemmer()"
      ],
      "metadata": {
        "colab": {
          "base_uri": "https://localhost:8080/"
        },
        "id": "UKELMpILYBHT",
        "outputId": "5c0d14ee-dc74-4fc3-e265-06471d932ddd"
      },
      "id": "UKELMpILYBHT",
      "execution_count": 19,
      "outputs": [
        {
          "output_type": "stream",
          "name": "stdout",
          "text": [
            "!\"#$%&'()*+,-./:;<=>?@[\\]^_`{|}~\n"
          ]
        }
      ]
    },
    {
      "cell_type": "markdown",
      "source": [
        "Let's create and initiate our custom tokeniser and fit it into our train set and then transforming train and test set both."
      ],
      "metadata": {
        "id": "JBBbjpInaCoP"
      },
      "id": "JBBbjpInaCoP"
    },
    {
      "cell_type": "code",
      "source": [
        "\n",
        "# import the nltk stopwords\n",
        "nltk.download('stopwords')\n",
        "from nltk.corpus import stopwords \n",
        "\n",
        "ENGLISH_STOP_WORDS = stopwords.words('english')\n",
        "\n",
        "def my_tokenizer(sentence):\n",
        "    # remove punctuation and set to lower case\n",
        "    for punctuation_mark in string.punctuation:\n",
        "        sentence = sentence.replace(punctuation_mark,'').lower()\n",
        "\n",
        "    # split sentence into words\n",
        "    listofwords = sentence.split(' ')\n",
        "    listofstemmed_words = []\n",
        "    \n",
        "    # remove stopwords and any tokens that are just empty strings\n",
        "    for word in listofwords:\n",
        "        if (not word in ENGLISH_STOP_WORDS) and (word!=''):\n",
        "            # Stem words\n",
        "            stemmed_word = stemmer.stem(word)\n",
        "            listofstemmed_words.append(stemmed_word)\n",
        "\n",
        "    return listofstemmed_words"
      ],
      "metadata": {
        "colab": {
          "base_uri": "https://localhost:8080/"
        },
        "id": "AunaazH2XSV_",
        "outputId": "c90b0ced-4391-404a-d3a2-e423322042a4"
      },
      "id": "AunaazH2XSV_",
      "execution_count": 20,
      "outputs": [
        {
          "output_type": "stream",
          "name": "stderr",
          "text": [
            "[nltk_data] Downloading package stopwords to /root/nltk_data...\n",
            "[nltk_data]   Unzipping corpora/stopwords.zip.\n"
          ]
        }
      ]
    },
    {
      "cell_type": "markdown",
      "source": [
        "Let's fit the above function to the dataset "
      ],
      "metadata": {
        "id": "xzwTjgEqaTqd"
      },
      "id": "xzwTjgEqaTqd"
    },
    {
      "cell_type": "code",
      "source": [
        "# let's do it for our dataset\n",
        "bagofwords = TfidfVectorizer(min_df=3, max_df=0.2, max_features=3000, strip_accents='unicode', analyzer='word', ngram_range=(1, 10),\n",
        "                             stop_words='english', \n",
        "                             tokenizer=my_tokenizer)\n",
        "bagofwords.fit(X_train['headline'])\n",
        "\n",
        "train_vec = bagofwords.transform(X_train['headline'])\n",
        "test_vec = bagofwords.transform(X_test['headline'])\n",
        "\n",
        "train_vec.shape"
      ],
      "metadata": {
        "colab": {
          "base_uri": "https://localhost:8080/"
        },
        "id": "khRcPLzmXSZB",
        "outputId": "f8fb637c-2937-45f4-f156-be3dd0352172"
      },
      "id": "khRcPLzmXSZB",
      "execution_count": 21,
      "outputs": [
        {
          "output_type": "stream",
          "name": "stderr",
          "text": [
            "/usr/local/lib/python3.8/dist-packages/sklearn/feature_extraction/text.py:516: UserWarning: The parameter 'token_pattern' will not be used since 'tokenizer' is not None'\n",
            "  warnings.warn(\n",
            "/usr/local/lib/python3.8/dist-packages/sklearn/feature_extraction/text.py:396: UserWarning: Your stop_words may be inconsistent with your preprocessing. Tokenizing the stop words generated tokens ['afterward', 'alon', 'alreadi', 'alway', 'anoth', 'anyon', 'anyth', 'anywher', 'becam', 'becom', 'besid', 'cri', 'describ', 'els', 'elsewher', 'empti', 'everi', 'everyon', 'everyth', 'everywher', 'fifti', 'formerli', 'forti', 'henc', 'hereaft', 'herebi', 'howev', 'hundr', 'inde', 'latterli', 'mani', 'meanwhil', 'moreov', 'mostli', 'nobodi', 'noon', 'noth', 'nowher', 'otherwis', 'perhap', 'pleas', 'seriou', 'sever', 'sinc', 'sincer', 'sixti', 'someon', 'someth', 'sometim', 'somewher', 'thenc', 'thereaft', 'therebi', 'therefor', 'thu', 'togeth', 'twelv', 'twenti', 'whatev', 'whenc', 'whenev', 'wherea', 'whereaft', 'wherebi', 'wherev'] not in stop_words.\n",
            "  warnings.warn(\n"
          ]
        },
        {
          "output_type": "execute_result",
          "data": {
            "text/plain": [
              "(167435, 3000)"
            ]
          },
          "metadata": {},
          "execution_count": 21
        }
      ]
    },
    {
      "cell_type": "markdown",
      "source": [
        "All set let's start the modelling"
      ],
      "metadata": {
        "id": "xhneEkZ4aYj7"
      },
      "id": "xhneEkZ4aYj7"
    },
    {
      "cell_type": "markdown",
      "source": [
        "### Basic neural network model"
      ],
      "metadata": {
        "id": "u5G1Y-xzacWw"
      },
      "id": "u5G1Y-xzacWw"
    },
    {
      "cell_type": "code",
      "source": [
        "# Create a new sequential model\n",
        "model = keras.Sequential()\n",
        "\n",
        "# Declare the hidden layers\n",
        "#model.add(tf.keras.layers.InputLayer(input_shape=(1,)))\n",
        "\n",
        "model.add(layers.Dense(1024, activation=\"relu\"))\n",
        "model.add(layers.Dense(512, activation=\"relu\"))\n",
        "model.add(layers.Dense(128, activation=\"relu\"))\n",
        "model.add(layers.Dense(64, activation=\"relu\"))\n",
        "\n",
        "# Declare the output layer\n",
        "model.add(layers.Dense(23, activation=\"softmax\"))\n",
        "\n",
        "# Compile the model\n",
        "model.compile(\n",
        "    # Optimizer\n",
        "    optimizer=keras.optimizers.Adam(),  \n",
        "    # Loss function to minimize\n",
        "    loss=keras.losses.SparseCategoricalCrossentropy(),\n",
        "    # Metric used to evaluate model\n",
        "    metrics=[keras.metrics.SparseCategoricalAccuracy()]\n",
        ")"
      ],
      "metadata": {
        "id": "D1uozUsMTvHP"
      },
      "id": "D1uozUsMTvHP",
      "execution_count": null,
      "outputs": []
    },
    {
      "cell_type": "markdown",
      "source": [
        "let's sort the indices before fitting the above model."
      ],
      "metadata": {
        "id": "VMQwaIo6ajNL"
      },
      "id": "VMQwaIo6ajNL"
    },
    {
      "cell_type": "code",
      "source": [
        "train_vec.sort_indices()\n",
        "test_vec.sort_indices()"
      ],
      "metadata": {
        "id": "ObmlcWTaVI1z"
      },
      "id": "ObmlcWTaVI1z",
      "execution_count": null,
      "outputs": []
    },
    {
      "cell_type": "code",
      "source": [
        "# Fit the model\n",
        "history = model.fit(train_vec, y_train, epochs=25, verbose=5)"
      ],
      "metadata": {
        "colab": {
          "base_uri": "https://localhost:8080/"
        },
        "id": "di0YnOzETvJl",
        "outputId": "0e08e645-47d9-40a9-e130-e98ac0e76674"
      },
      "id": "di0YnOzETvJl",
      "execution_count": null,
      "outputs": [
        {
          "output_type": "stream",
          "name": "stdout",
          "text": [
            "Epoch 1/25\n",
            "Epoch 2/25\n",
            "Epoch 3/25\n",
            "Epoch 4/25\n",
            "Epoch 5/25\n",
            "Epoch 6/25\n",
            "Epoch 7/25\n",
            "Epoch 8/25\n",
            "Epoch 9/25\n",
            "Epoch 10/25\n",
            "Epoch 11/25\n",
            "Epoch 12/25\n",
            "Epoch 13/25\n",
            "Epoch 14/25\n",
            "Epoch 15/25\n",
            "Epoch 16/25\n",
            "Epoch 17/25\n",
            "Epoch 18/25\n",
            "Epoch 19/25\n",
            "Epoch 20/25\n",
            "Epoch 21/25\n",
            "Epoch 22/25\n",
            "Epoch 23/25\n",
            "Epoch 24/25\n",
            "Epoch 25/25\n"
          ]
        }
      ]
    },
    {
      "cell_type": "code",
      "source": [
        "# Evaluate the model using the test data and generate predictions\n",
        "train_accuracy = history.history[\"sparse_categorical_accuracy\"][-1]\n",
        "result = model.evaluate(test_vec, y_test, verbose=0)\n",
        "\n",
        "print(f\"Train Accuracy: {train_accuracy:.4f}\")\n",
        "print(f\"Test Accuracy: {result[1]:.4f}\")\n",
        "\n",
        "predictions = model.predict(test_vec)\n"
      ],
      "metadata": {
        "colab": {
          "base_uri": "https://localhost:8080/"
        },
        "id": "433Y7Wh6TvML",
        "outputId": "dc7fb080-0930-4337-97e0-5ded34c53958"
      },
      "id": "433Y7Wh6TvML",
      "execution_count": null,
      "outputs": [
        {
          "output_type": "stream",
          "name": "stdout",
          "text": [
            "Train Accuracy: 0.9430\n",
            "Test Accuracy: 0.5324\n",
            "1309/1309 [==============================] - 3s 2ms/step\n"
          ]
        }
      ]
    },
    {
      "cell_type": "markdown",
      "source": [
        "Wow, this is the highest accuracy ever achieved on the training data, but sadly we have a lot lot of overfitting."
      ],
      "metadata": {
        "id": "-hamMwPqYhbP"
      },
      "id": "-hamMwPqYhbP"
    },
    {
      "cell_type": "markdown",
      "source": [
        "We can fix the overfitting of the model using dropout layers for after each layer we have for the neural networks AND L2 regularisation can also be done to put more weights on the features which are less important.\n",
        "\n",
        "Let's do it"
      ],
      "metadata": {
        "id": "r08czCA4ZUgW"
      },
      "id": "r08czCA4ZUgW"
    },
    {
      "cell_type": "markdown",
      "source": [
        "### Neural network with regualrization on the hidden layers"
      ],
      "metadata": {
        "id": "0pkgnwToas2M"
      },
      "id": "0pkgnwToas2M"
    },
    {
      "cell_type": "code",
      "source": [
        "# Create a new sequential model\n",
        "model = keras.Sequential()\n",
        "\n",
        "# Create a regularizer with a factor of 0.005 and apply it to all hidden layers\n",
        "regularizer = keras.regularizers.l2(0.00005)\n",
        "\n",
        "# Declare the hidden layers\n",
        "model.add(layers.Dense(1024, activation=\"relu\", kernel_regularizer=regularizer))\n",
        "model.add(layers.Dense(512, activation=\"relu\", kernel_regularizer=regularizer))\n",
        "model.add(layers.Dense(256, activation=\"relu\", kernel_regularizer=regularizer))\n",
        "model.add(layers.Dense(32, activation=\"relu\", kernel_regularizer=regularizer))\n",
        "\n",
        "# Declare the output layer\n",
        "model.add(layers.Dense(23, activation=\"softmax\"))\n",
        "\n",
        "model.compile(\n",
        "    optimizer=keras.optimizers.Adam(),  \n",
        "    loss=keras.losses.SparseCategoricalCrossentropy(),\n",
        "    metrics=[keras.metrics.SparseCategoricalAccuracy()]\n",
        ")"
      ],
      "metadata": {
        "id": "PK7o6OnnTvQ5"
      },
      "id": "PK7o6OnnTvQ5",
      "execution_count": null,
      "outputs": []
    },
    {
      "cell_type": "code",
      "source": [
        "# check\n",
        "train_vec.shape, y_train.shape"
      ],
      "metadata": {
        "colab": {
          "base_uri": "https://localhost:8080/"
        },
        "id": "DVqo7ugAn4C9",
        "outputId": "23576b42-f1b9-4fd6-db56-73efef63eee4"
      },
      "id": "DVqo7ugAn4C9",
      "execution_count": null,
      "outputs": [
        {
          "output_type": "execute_result",
          "data": {
            "text/plain": [
              "((167435, 3000), (167435,))"
            ]
          },
          "metadata": {},
          "execution_count": 39
        }
      ]
    },
    {
      "cell_type": "code",
      "source": [
        "# Fit the model\n",
        "history = model.fit(train_vec, y_train, epochs=25, verbose=1)"
      ],
      "metadata": {
        "id": "5bWvPprwTvTO",
        "colab": {
          "base_uri": "https://localhost:8080/"
        },
        "outputId": "81d2e6ef-efdf-4c60-d5d6-fd648ecbe89a"
      },
      "id": "5bWvPprwTvTO",
      "execution_count": null,
      "outputs": [
        {
          "output_type": "stream",
          "name": "stdout",
          "text": [
            "Epoch 1/25\n"
          ]
        },
        {
          "output_type": "stream",
          "name": "stderr",
          "text": [
            "/usr/local/lib/python3.8/dist-packages/tensorflow/python/framework/indexed_slices.py:444: UserWarning: Converting sparse IndexedSlices(IndexedSlices(indices=Tensor(\"gradient_tape/sequential_4/dense_20/embedding_lookup_sparse/Reshape_1:0\", shape=(None,), dtype=int32), values=Tensor(\"gradient_tape/sequential_4/dense_20/embedding_lookup_sparse/Reshape:0\", shape=(None, 1024), dtype=float32), dense_shape=Tensor(\"gradient_tape/sequential_4/dense_20/embedding_lookup_sparse/Cast:0\", shape=(2,), dtype=int32))) to a dense Tensor of unknown shape. This may consume a large amount of memory.\n",
            "  warnings.warn(\n"
          ]
        },
        {
          "output_type": "stream",
          "name": "stdout",
          "text": [
            "5233/5233 [==============================] - 23s 4ms/step - loss: 1.9172 - sparse_categorical_accuracy: 0.5231\n",
            "Epoch 2/25\n",
            "5233/5233 [==============================] - 23s 4ms/step - loss: 1.7053 - sparse_categorical_accuracy: 0.5833\n",
            "Epoch 3/25\n",
            "5233/5233 [==============================] - 23s 4ms/step - loss: 1.6127 - sparse_categorical_accuracy: 0.6064\n",
            "Epoch 4/25\n",
            "5233/5233 [==============================] - 23s 4ms/step - loss: 1.5361 - sparse_categorical_accuracy: 0.6300\n",
            "Epoch 5/25\n",
            "5233/5233 [==============================] - 23s 4ms/step - loss: 1.4571 - sparse_categorical_accuracy: 0.6592\n",
            "Epoch 6/25\n",
            "5233/5233 [==============================] - 23s 4ms/step - loss: 1.3678 - sparse_categorical_accuracy: 0.6937\n",
            "Epoch 7/25\n",
            "5233/5233 [==============================] - 23s 4ms/step - loss: 1.2777 - sparse_categorical_accuracy: 0.7285\n",
            "Epoch 8/25\n",
            "5233/5233 [==============================] - 23s 4ms/step - loss: 1.2071 - sparse_categorical_accuracy: 0.7557\n",
            "Epoch 9/25\n",
            "5233/5233 [==============================] - 23s 4ms/step - loss: 1.1528 - sparse_categorical_accuracy: 0.7768\n",
            "Epoch 10/25\n",
            "5233/5233 [==============================] - 23s 4ms/step - loss: 1.1140 - sparse_categorical_accuracy: 0.7919\n",
            "Epoch 11/25\n",
            "5233/5233 [==============================] - 23s 4ms/step - loss: 1.0893 - sparse_categorical_accuracy: 0.8010\n",
            "Epoch 12/25\n",
            "5233/5233 [==============================] - 23s 4ms/step - loss: 1.0677 - sparse_categorical_accuracy: 0.8096\n",
            "Epoch 13/25\n",
            "5233/5233 [==============================] - 23s 4ms/step - loss: 1.0491 - sparse_categorical_accuracy: 0.8161\n",
            "Epoch 14/25\n",
            "5233/5233 [==============================] - 23s 4ms/step - loss: 1.0376 - sparse_categorical_accuracy: 0.8202\n",
            "Epoch 15/25\n",
            "5233/5233 [==============================] - 23s 4ms/step - loss: 1.0269 - sparse_categorical_accuracy: 0.8231\n",
            "Epoch 16/25\n",
            "5233/5233 [==============================] - 23s 4ms/step - loss: 1.0141 - sparse_categorical_accuracy: 0.8281\n",
            "Epoch 17/25\n",
            "5233/5233 [==============================] - 23s 4ms/step - loss: 1.0093 - sparse_categorical_accuracy: 0.8287\n",
            "Epoch 18/25\n",
            "5233/5233 [==============================] - 23s 4ms/step - loss: 1.0004 - sparse_categorical_accuracy: 0.8309\n",
            "Epoch 19/25\n",
            "5233/5233 [==============================] - 23s 4ms/step - loss: 0.9893 - sparse_categorical_accuracy: 0.8342\n",
            "Epoch 20/25\n",
            "5233/5233 [==============================] - 23s 4ms/step - loss: 0.9841 - sparse_categorical_accuracy: 0.8361\n",
            "Epoch 21/25\n",
            "5233/5233 [==============================] - 23s 4ms/step - loss: 0.9770 - sparse_categorical_accuracy: 0.8365\n",
            "Epoch 22/25\n",
            "5233/5233 [==============================] - 23s 4ms/step - loss: 0.9708 - sparse_categorical_accuracy: 0.8376\n",
            "Epoch 23/25\n",
            "5233/5233 [==============================] - 23s 4ms/step - loss: 0.9664 - sparse_categorical_accuracy: 0.8376\n",
            "Epoch 24/25\n",
            "5233/5233 [==============================] - 23s 4ms/step - loss: 0.9608 - sparse_categorical_accuracy: 0.8395\n",
            "Epoch 25/25\n",
            "5233/5233 [==============================] - 22s 4ms/step - loss: 0.9576 - sparse_categorical_accuracy: 0.8391\n"
          ]
        }
      ]
    },
    {
      "cell_type": "code",
      "source": [
        "# Evaluate the model using the test data and generate predictions\n",
        "train_accuracy = history.history[\"sparse_categorical_accuracy\"][-1]\n",
        "result = model.evaluate(test_vec, y_test, verbose=0)\n",
        "\n",
        "print(f\"Train Accuracy: {train_accuracy:.4f}\")\n",
        "print(f\"Test Accuracy: {result[1]:.4f}\")"
      ],
      "metadata": {
        "id": "Pga2C6lLTvVx",
        "colab": {
          "base_uri": "https://localhost:8080/"
        },
        "outputId": "acf9a4ad-fd07-4e50-c70d-3804c83ed7c7"
      },
      "id": "Pga2C6lLTvVx",
      "execution_count": null,
      "outputs": [
        {
          "output_type": "stream",
          "name": "stdout",
          "text": [
            "Train Accuracy: 0.8391\n",
            "Test Accuracy: 0.5181\n"
          ]
        }
      ]
    },
    {
      "cell_type": "markdown",
      "source": [
        "That's poor performance"
      ],
      "metadata": {
        "id": "YPqPH4_Ao87O"
      },
      "id": "YPqPH4_Ao87O"
    },
    {
      "cell_type": "markdown",
      "source": [
        "### Adding droput layers along with regularization"
      ],
      "metadata": {
        "id": "8990ZTURa8sC"
      },
      "id": "8990ZTURa8sC"
    },
    {
      "cell_type": "code",
      "source": [
        "# Create a new sequential model\n",
        "model = keras.Sequential()\n",
        "\n",
        "# Create a regularizer with a factor of 0.005 and apply it to all hidden layers\n",
        "regularizer = keras.regularizers.l2(0.00005)\n",
        "\n",
        "# Declare the hidden layers\n",
        "model.add(layers.Dense(1024, activation=\"relu\", kernel_regularizer=regularizer))\n",
        "model.add(layers.Dropout(0.6))  \n",
        "model.add(layers.Dense(512, activation=\"relu\", kernel_regularizer=regularizer))\n",
        "model.add(layers.Dropout(0.4)) \n",
        "model.add(layers.Dense(256, activation=\"relu\", kernel_regularizer=regularizer))\n",
        "model.add(layers.Dropout(0.4)) \n",
        "model.add(layers.Dense(32, activation=\"relu\", kernel_regularizer=regularizer))\n",
        "model.add(layers.Dropout(0.2)) \n",
        "\n",
        "# Declare the output layer\n",
        "model.add(layers.Dense(23, activation=\"softmax\"))\n",
        "\n",
        "model.compile(\n",
        "    optimizer=keras.optimizers.Adam(),  \n",
        "    loss=keras.losses.SparseCategoricalCrossentropy(),\n",
        "    metrics=[keras.metrics.SparseCategoricalAccuracy()]\n",
        ")"
      ],
      "metadata": {
        "id": "aRBNEXOUTvYK"
      },
      "id": "aRBNEXOUTvYK",
      "execution_count": null,
      "outputs": []
    },
    {
      "cell_type": "code",
      "source": [
        "# Fit the model\n",
        "history = model.fit(train_vec, y_train, epochs=25, verbose=1)"
      ],
      "metadata": {
        "id": "mlg9DDV8Tvam",
        "colab": {
          "base_uri": "https://localhost:8080/"
        },
        "outputId": "cfdb4d83-ab73-4c1c-cf0b-5f111dfb6a96"
      },
      "id": "mlg9DDV8Tvam",
      "execution_count": null,
      "outputs": [
        {
          "output_type": "stream",
          "name": "stdout",
          "text": [
            "Epoch 1/25\n"
          ]
        },
        {
          "output_type": "stream",
          "name": "stderr",
          "text": [
            "/usr/local/lib/python3.8/dist-packages/tensorflow/python/framework/indexed_slices.py:444: UserWarning: Converting sparse IndexedSlices(IndexedSlices(indices=Tensor(\"gradient_tape/sequential_5/dense_25/embedding_lookup_sparse/Reshape_1:0\", shape=(None,), dtype=int32), values=Tensor(\"gradient_tape/sequential_5/dense_25/embedding_lookup_sparse/Reshape:0\", shape=(None, 1024), dtype=float32), dense_shape=Tensor(\"gradient_tape/sequential_5/dense_25/embedding_lookup_sparse/Cast:0\", shape=(2,), dtype=int32))) to a dense Tensor of unknown shape. This may consume a large amount of memory.\n",
            "  warnings.warn(\n"
          ]
        },
        {
          "output_type": "stream",
          "name": "stdout",
          "text": [
            "5233/5233 [==============================] - 25s 4ms/step - loss: 2.2296 - sparse_categorical_accuracy: 0.4606\n",
            "Epoch 2/25\n",
            "5233/5233 [==============================] - 25s 5ms/step - loss: 2.1110 - sparse_categorical_accuracy: 0.5390\n",
            "Epoch 3/25\n",
            "5233/5233 [==============================] - 24s 4ms/step - loss: 2.0926 - sparse_categorical_accuracy: 0.5533\n",
            "Epoch 4/25\n",
            "5233/5233 [==============================] - 24s 5ms/step - loss: 2.0760 - sparse_categorical_accuracy: 0.5636\n",
            "Epoch 5/25\n",
            "5233/5233 [==============================] - 24s 4ms/step - loss: 2.0674 - sparse_categorical_accuracy: 0.5685\n",
            "Epoch 6/25\n",
            "5233/5233 [==============================] - 24s 4ms/step - loss: 2.0523 - sparse_categorical_accuracy: 0.5733\n",
            "Epoch 7/25\n",
            "5233/5233 [==============================] - 24s 4ms/step - loss: 2.0400 - sparse_categorical_accuracy: 0.5776\n",
            "Epoch 8/25\n",
            "5233/5233 [==============================] - 24s 5ms/step - loss: 2.0311 - sparse_categorical_accuracy: 0.5792\n",
            "Epoch 9/25\n",
            "5233/5233 [==============================] - 24s 4ms/step - loss: 2.0259 - sparse_categorical_accuracy: 0.5802\n",
            "Epoch 10/25\n",
            "5233/5233 [==============================] - 24s 4ms/step - loss: 2.0157 - sparse_categorical_accuracy: 0.5835\n",
            "Epoch 11/25\n",
            "5233/5233 [==============================] - 24s 4ms/step - loss: 2.0100 - sparse_categorical_accuracy: 0.5836\n",
            "Epoch 12/25\n",
            "5233/5233 [==============================] - 24s 4ms/step - loss: 2.0055 - sparse_categorical_accuracy: 0.5835\n",
            "Epoch 13/25\n",
            "5233/5233 [==============================] - 24s 4ms/step - loss: 1.9920 - sparse_categorical_accuracy: 0.5864\n",
            "Epoch 14/25\n",
            "5233/5233 [==============================] - 24s 4ms/step - loss: 1.9899 - sparse_categorical_accuracy: 0.5843\n",
            "Epoch 15/25\n",
            "5233/5233 [==============================] - 24s 4ms/step - loss: 1.9841 - sparse_categorical_accuracy: 0.5877\n",
            "Epoch 16/25\n",
            "5233/5233 [==============================] - 24s 4ms/step - loss: 1.9782 - sparse_categorical_accuracy: 0.5873\n",
            "Epoch 17/25\n",
            "5233/5233 [==============================] - 24s 4ms/step - loss: 1.9777 - sparse_categorical_accuracy: 0.5864\n",
            "Epoch 18/25\n",
            "5233/5233 [==============================] - 24s 5ms/step - loss: 1.9682 - sparse_categorical_accuracy: 0.5876\n",
            "Epoch 19/25\n",
            "5233/5233 [==============================] - 24s 4ms/step - loss: 1.9675 - sparse_categorical_accuracy: 0.5883\n",
            "Epoch 20/25\n",
            "5233/5233 [==============================] - 24s 4ms/step - loss: 1.9652 - sparse_categorical_accuracy: 0.5884\n",
            "Epoch 21/25\n",
            "5233/5233 [==============================] - 25s 5ms/step - loss: 1.9597 - sparse_categorical_accuracy: 0.5901\n",
            "Epoch 22/25\n",
            "5233/5233 [==============================] - 24s 4ms/step - loss: 1.9598 - sparse_categorical_accuracy: 0.5877\n",
            "Epoch 23/25\n",
            "5233/5233 [==============================] - 24s 4ms/step - loss: 1.9556 - sparse_categorical_accuracy: 0.5884\n",
            "Epoch 24/25\n",
            "5233/5233 [==============================] - 24s 5ms/step - loss: 1.9554 - sparse_categorical_accuracy: 0.5885\n",
            "Epoch 25/25\n",
            "5233/5233 [==============================] - 24s 4ms/step - loss: 1.9545 - sparse_categorical_accuracy: 0.5879\n"
          ]
        }
      ]
    },
    {
      "cell_type": "code",
      "source": [
        "# Evaluate the model using the test data and generate predictions\n",
        "train_accuracy = history.history[\"sparse_categorical_accuracy\"][-1]\n",
        "result = model.evaluate(test_vec, y_test, verbose=0)\n",
        "\n",
        "print(f\"Train Accuracy: {train_accuracy:.4f}\")\n",
        "print(f\"Test Accuracy: {result[1]:.4f}\")"
      ],
      "metadata": {
        "id": "Cu0i9puxTvcy",
        "colab": {
          "base_uri": "https://localhost:8080/"
        },
        "outputId": "c59ba763-314d-42a9-b344-b682cedd6732"
      },
      "id": "Cu0i9puxTvcy",
      "execution_count": null,
      "outputs": [
        {
          "output_type": "stream",
          "name": "stdout",
          "text": [
            "Train Accuracy: 0.5879\n",
            "Test Accuracy: 0.5847\n"
          ]
        }
      ]
    },
    {
      "cell_type": "markdown",
      "source": [
        "Ok so it fitted the overfitting of the model but had overall accuracy decreased"
      ],
      "metadata": {
        "id": "wjuSlKAHVJwC"
      },
      "id": "wjuSlKAHVJwC"
    },
    {
      "cell_type": "markdown",
      "source": [
        "### Doing batch normalisation on the hidden layers of the neural network"
      ],
      "metadata": {
        "id": "TxYTZr6ubM3Y"
      },
      "id": "TxYTZr6ubM3Y"
    },
    {
      "cell_type": "code",
      "source": [
        "# Create a new sequential model\n",
        "model = keras.Sequential()\n",
        "\n",
        "# Create a regularizer with a factor of 0.005 and apply it to all hidden layers\n",
        "regularizer = keras.regularizers.l2(0.00005)\n",
        "\n",
        "# Declare the hidden layers\n",
        "model.add(layers.Dense(1024, activation=\"relu\", kernel_regularizer=regularizer))\n",
        "model.add(layers.Dropout(0.2))\n",
        "model.add(layers.BatchNormalization())\n",
        "\n",
        "model.add(layers.Dense(512, activation=\"relu\", kernel_regularizer=regularizer))\n",
        "model.add(layers.Dropout(0.4))\n",
        "model.add(layers.BatchNormalization())\n",
        "\n",
        "model.add(layers.Dense(256, activation=\"relu\", kernel_regularizer=regularizer))\n",
        "model.add(layers.Dropout(0.4))\n",
        "model.add(layers.BatchNormalization())\n",
        "\n",
        "model.add(layers.Dense(32, activation=\"relu\", kernel_regularizer=regularizer)) \n",
        "model.add(layers.BatchNormalization())\n",
        "\n",
        "# Declare the output layer\n",
        "model.add(layers.Dense(23, activation=\"softmax\"))\n",
        "\n",
        "model.compile(\n",
        "    optimizer=keras.optimizers.Adam(),  \n",
        "    loss=keras.losses.SparseCategoricalCrossentropy(),\n",
        "    metrics=[keras.metrics.SparseCategoricalAccuracy()]\n",
        ")"
      ],
      "metadata": {
        "id": "yE48QCepTvfW"
      },
      "id": "yE48QCepTvfW",
      "execution_count": null,
      "outputs": []
    },
    {
      "cell_type": "code",
      "source": [
        "# Fit the model\n",
        "history = model.fit(train_vec, y_train, epochs=10, verbose=1)"
      ],
      "metadata": {
        "id": "jcRBe_7_TviF",
        "colab": {
          "base_uri": "https://localhost:8080/"
        },
        "outputId": "2d62be12-a8fe-40ac-e453-7b7233da316e"
      },
      "id": "jcRBe_7_TviF",
      "execution_count": null,
      "outputs": [
        {
          "output_type": "stream",
          "name": "stdout",
          "text": [
            "Epoch 1/10\n"
          ]
        },
        {
          "output_type": "stream",
          "name": "stderr",
          "text": [
            "/usr/local/lib/python3.8/dist-packages/tensorflow/python/framework/indexed_slices.py:444: UserWarning: Converting sparse IndexedSlices(IndexedSlices(indices=Tensor(\"gradient_tape/sequential_9/dense_45/embedding_lookup_sparse/Reshape_1:0\", shape=(None,), dtype=int32), values=Tensor(\"gradient_tape/sequential_9/dense_45/embedding_lookup_sparse/Reshape:0\", shape=(None, 1024), dtype=float32), dense_shape=Tensor(\"gradient_tape/sequential_9/dense_45/embedding_lookup_sparse/Cast:0\", shape=(2,), dtype=int32))) to a dense Tensor of unknown shape. This may consume a large amount of memory.\n",
            "  warnings.warn(\n"
          ]
        },
        {
          "output_type": "stream",
          "name": "stdout",
          "text": [
            "5233/5233 [==============================] - 34s 6ms/step - loss: 2.0548 - sparse_categorical_accuracy: 0.4982\n",
            "Epoch 2/10\n",
            "5233/5233 [==============================] - 33s 6ms/step - loss: 1.9757 - sparse_categorical_accuracy: 0.5576\n",
            "Epoch 3/10\n",
            "5233/5233 [==============================] - 32s 6ms/step - loss: 1.9710 - sparse_categorical_accuracy: 0.5720\n",
            "Epoch 4/10\n",
            "5233/5233 [==============================] - 33s 6ms/step - loss: 1.9321 - sparse_categorical_accuracy: 0.5874\n",
            "Epoch 5/10\n",
            "5233/5233 [==============================] - 33s 6ms/step - loss: 1.8825 - sparse_categorical_accuracy: 0.6003\n",
            "Epoch 6/10\n",
            "5233/5233 [==============================] - 33s 6ms/step - loss: 1.8385 - sparse_categorical_accuracy: 0.6142\n",
            "Epoch 7/10\n",
            "5233/5233 [==============================] - 32s 6ms/step - loss: 1.8067 - sparse_categorical_accuracy: 0.6257\n",
            "Epoch 8/10\n",
            "5233/5233 [==============================] - 33s 6ms/step - loss: 1.7743 - sparse_categorical_accuracy: 0.6355\n",
            "Epoch 9/10\n",
            "5233/5233 [==============================] - 32s 6ms/step - loss: 1.7440 - sparse_categorical_accuracy: 0.6451\n",
            "Epoch 10/10\n",
            "5233/5233 [==============================] - 33s 6ms/step - loss: 1.7264 - sparse_categorical_accuracy: 0.6520\n"
          ]
        }
      ]
    },
    {
      "cell_type": "code",
      "source": [
        "# Evaluate the model using the test data and generate predictions\n",
        "train_accuracy = history.history[\"sparse_categorical_accuracy\"][-1]\n",
        "result = model.evaluate(test_vec, y_test, verbose=0)\n",
        "\n",
        "print(f\"Train Accuracy: {train_accuracy:.4f}\")\n",
        "print(f\"Test Accuracy: {result[1]:.4f}\")"
      ],
      "metadata": {
        "id": "_76gqch4TvmC",
        "colab": {
          "base_uri": "https://localhost:8080/"
        },
        "outputId": "323ce701-dd3f-4282-9430-d6932b236346"
      },
      "id": "_76gqch4TvmC",
      "execution_count": null,
      "outputs": [
        {
          "output_type": "stream",
          "name": "stdout",
          "text": [
            "Train Accuracy: 0.6520\n",
            "Test Accuracy: 0.5764\n"
          ]
        }
      ]
    },
    {
      "cell_type": "markdown",
      "source": [
        "### Dimensionality reduction and checking the performance"
      ],
      "metadata": {
        "id": "91hI5s0abXQX"
      },
      "id": "91hI5s0abXQX"
    },
    {
      "cell_type": "code",
      "source": [
        "from sklearn.preprocessing import StandardScaler\n",
        "\n",
        "scaler = StandardScaler(with_mean=False)\n",
        "scaler.fit(train_vec)"
      ],
      "metadata": {
        "id": "Sq_cfJ4UTvnq",
        "colab": {
          "base_uri": "https://localhost:8080/"
        },
        "outputId": "5a3964bd-64f6-49c1-ecd1-4e63228bd8b2"
      },
      "id": "Sq_cfJ4UTvnq",
      "execution_count": 22,
      "outputs": [
        {
          "output_type": "execute_result",
          "data": {
            "text/plain": [
              "StandardScaler(with_mean=False)"
            ]
          },
          "metadata": {},
          "execution_count": 22
        }
      ]
    },
    {
      "cell_type": "code",
      "source": [
        "# Fit the scaler and transform both data subsets\n",
        "X_train = scaler.transform(train_vec)\n",
        "X_test = scaler.transform(test_vec)"
      ],
      "metadata": {
        "id": "wiaJUUEgTvpT"
      },
      "id": "wiaJUUEgTvpT",
      "execution_count": 23,
      "outputs": []
    },
    {
      "cell_type": "code",
      "source": [
        "from sklearn.decomposition import TruncatedSVD"
      ],
      "metadata": {
        "id": "lyLK4vbzTvru"
      },
      "id": "lyLK4vbzTvru",
      "execution_count": 24,
      "outputs": []
    },
    {
      "cell_type": "markdown",
      "source": [
        "PCA only works on the arrays or dataframes for dimensionality reduction. __TruncatedSVD__ is used for the feature reduction in case of sparse matrices as in our case."
      ],
      "metadata": {
        "id": "EVnpMhSGbrB9"
      },
      "id": "EVnpMhSGbrB9"
    },
    {
      "cell_type": "code",
      "source": [
        "clf = TruncatedSVD(2999) # by default the number of estimators is 2\n",
        "X_train_d = clf.fit_transform(train_vec)"
      ],
      "metadata": {
        "id": "Q8TgcpFATvvD"
      },
      "id": "Q8TgcpFATvvD",
      "execution_count": 25,
      "outputs": []
    },
    {
      "cell_type": "code",
      "source": [
        "# doing SVD on the test set\n",
        "X_test_d = clf.transform(test_vec)"
      ],
      "metadata": {
        "id": "ynsyLKFEEliT"
      },
      "id": "ynsyLKFEEliT",
      "execution_count": 26,
      "outputs": []
    },
    {
      "cell_type": "markdown",
      "source": [
        "Now let's see what is the proportional variance explained by the features by using the following attribute."
      ],
      "metadata": {
        "id": "lAum-8UvcRPI"
      },
      "id": "lAum-8UvcRPI"
    },
    {
      "cell_type": "code",
      "execution_count": 27,
      "id": "4aaa0bca",
      "metadata": {
        "id": "4aaa0bca",
        "colab": {
          "base_uri": "https://localhost:8080/"
        },
        "outputId": "48441ec0-3fa1-43ff-dfdb-7b4eae67a9af"
      },
      "outputs": [
        {
          "output_type": "execute_result",
          "data": {
            "text/plain": [
              "array([4.70968164e-03, 3.82728669e-03, 3.53816441e-03, ...,\n",
              "       8.02426278e-34, 1.04642097e-33, 1.04963363e-33])"
            ]
          },
          "metadata": {},
          "execution_count": 27
        }
      ],
      "source": [
        "# variance explained by the features\n",
        "clf.explained_variance_ratio_"
      ]
    },
    {
      "cell_type": "code",
      "source": [
        "# check\n",
        "X_train_d.shape, X_test_d.shape, train_vec.shape, test_vec.shape"
      ],
      "metadata": {
        "colab": {
          "base_uri": "https://localhost:8080/"
        },
        "id": "_LL9FLD4iNBY",
        "outputId": "72aff657-a29e-4be3-bc7c-5640e7ae614f"
      },
      "id": "_LL9FLD4iNBY",
      "execution_count": 28,
      "outputs": [
        {
          "output_type": "execute_result",
          "data": {
            "text/plain": [
              "((167435, 2999), (41859, 2999), (167435, 3000), (41859, 3000))"
            ]
          },
          "metadata": {},
          "execution_count": 28
        }
      ]
    },
    {
      "cell_type": "code",
      "source": [
        "# Pull out the explained variance ratio\n",
        "expl_var = clf.explained_variance_ratio_\n",
        "\n",
        "# Calculate the cumulative sum of this array using the \n",
        "cumulative_sum = np.cumsum(expl_var)\n",
        "\n",
        "cumulative_sum"
      ],
      "metadata": {
        "colab": {
          "base_uri": "https://localhost:8080/"
        },
        "id": "X8wurAWWiND9",
        "outputId": "1de5d78a-3485-494e-e6ff-14fd4f0a6a5e"
      },
      "id": "X8wurAWWiND9",
      "execution_count": 29,
      "outputs": [
        {
          "output_type": "execute_result",
          "data": {
            "text/plain": [
              "array([0.00470968, 0.00853697, 0.01207513, ..., 1.        , 1.        ,\n",
              "       1.        ])"
            ]
          },
          "metadata": {},
          "execution_count": 29
        }
      ]
    },
    {
      "cell_type": "code",
      "source": [
        "# Plot out the cumulative sum graph\n",
        "plt.figure(figsize=(8,5))\n",
        "plt.plot(range(1,3000), cumulative_sum, marker='.')\n",
        "plt.axhline(0.9, c='r', linestyle='--') #keeping 90% threshhold of the explained variance\n",
        "plt.xlabel('Number of PCs')\n",
        "plt.ylabel('Cumulative Sum of Explained Variance')\n",
        "plt.title('Cumulative Sum vs Number of PCs')\n",
        "plt.xticks(range(1,2744,250))\n",
        "plt.show()"
      ],
      "metadata": {
        "colab": {
          "base_uri": "https://localhost:8080/",
          "height": 350
        },
        "id": "VWRwY-3_iNGI",
        "outputId": "526b7ee1-f540-42ef-a7b6-e48d962e7083"
      },
      "id": "VWRwY-3_iNGI",
      "execution_count": 30,
      "outputs": [
        {
          "output_type": "display_data",
          "data": {
            "text/plain": [
              "<Figure size 576x360 with 1 Axes>"
            ],
            "image/png": "[encoded data removed]"
          },
          "metadata": {
            "needs_background": "light"
          }
        }
      ]
    },
    {
      "cell_type": "code",
      "source": [
        "# function for calling the maximum PCs at the 90% threshhold\n",
        "np.argmax(cumulative_sum >= 0.90)"
      ],
      "metadata": {
        "colab": {
          "base_uri": "https://localhost:8080/"
        },
        "id": "l8goUBFyiNIr",
        "outputId": "db24244b-0245-48f4-e156-f75e628b8975"
      },
      "id": "l8goUBFyiNIr",
      "execution_count": 31,
      "outputs": [
        {
          "output_type": "execute_result",
          "data": {
            "text/plain": [
              "2035"
            ]
          },
          "metadata": {},
          "execution_count": 31
        }
      ]
    },
    {
      "cell_type": "markdown",
      "source": [
        "So we are going to select 2035 features out of 3000 features and check the accuracy of the model."
      ],
      "metadata": {
        "id": "ajWB17F5dBd4"
      },
      "id": "ajWB17F5dBd4"
    },
    {
      "cell_type": "code",
      "source": [
        "# Instantiate and fit\n",
        "clf2 = TruncatedSVD(n_components = np.argmax(cumulative_sum >= 0.90))\n",
        "clf2.fit(train_vec)\n",
        "\n",
        "# Transform train and test\n",
        "X_train_TV = clf2.transform(train_vec)\n",
        "X_test_TV = clf2.transform(test_vec)"
      ],
      "metadata": {
        "id": "xiXjJmqqiNMK"
      },
      "id": "xiXjJmqqiNMK",
      "execution_count": 32,
      "outputs": []
    },
    {
      "cell_type": "code",
      "source": [
        "# check\n",
        "X_train_TV.shape, X_test_TV.shape, y_train.shape"
      ],
      "metadata": {
        "colab": {
          "base_uri": "https://localhost:8080/"
        },
        "id": "od6y59ETrXZf",
        "outputId": "4448427b-8745-450e-cb67-f0146af8fb32"
      },
      "id": "od6y59ETrXZf",
      "execution_count": 33,
      "outputs": [
        {
          "output_type": "execute_result",
          "data": {
            "text/plain": [
              "((167435, 2035), (41859, 2035), (167435,))"
            ]
          },
          "metadata": {},
          "execution_count": 33
        }
      ]
    },
    {
      "cell_type": "code",
      "source": [
        "X_train_TV"
      ],
      "metadata": {
        "colab": {
          "base_uri": "https://localhost:8080/"
        },
        "id": "6OJNuZVThbPn",
        "outputId": "1ff981c0-0d38-4d11-b477-e0cd077e6c3c"
      },
      "id": "6OJNuZVThbPn",
      "execution_count": 34,
      "outputs": [
        {
          "output_type": "execute_result",
          "data": {
            "text/plain": [
              "array([[ 0.0245056 ,  0.02350219, -0.01079472, ..., -0.00831995,\n",
              "         0.00458984,  0.0190522 ],\n",
              "       [ 0.01371547,  0.01488538, -0.01629741, ...,  0.00231904,\n",
              "         0.0014877 , -0.00654063],\n",
              "       [ 0.02058291,  0.03832184, -0.0073863 , ..., -0.01252788,\n",
              "         0.00528721,  0.01358537],\n",
              "       ...,\n",
              "       [ 0.02417437,  0.03016344, -0.02889045, ..., -0.00232929,\n",
              "        -0.0073996 , -0.00992508],\n",
              "       [ 0.07339916,  0.19126977,  0.11394014, ...,  0.01573745,\n",
              "        -0.00524853,  0.02475953],\n",
              "       [ 0.        ,  0.        ,  0.        , ...,  0.        ,\n",
              "         0.        ,  0.        ]])"
            ]
          },
          "metadata": {},
          "execution_count": 34
        }
      ]
    },
    {
      "cell_type": "code",
      "source": [
        "# from scipy import sparse\n",
        "# sA = sparse.csr_matrix(X_train_TV)   # Here's the initialization of the sparse matrix.\n",
        "# #sB = sparse.csr_matrix(B)"
      ],
      "metadata": {
        "id": "qSrHisH7j3B_"
      },
      "id": "qSrHisH7j3B_",
      "execution_count": null,
      "outputs": []
    },
    {
      "cell_type": "markdown",
      "source": [
        "Let's define our model amd then check the accuarcy"
      ],
      "metadata": {
        "id": "iZIGlEl8g2i5"
      },
      "id": "iZIGlEl8g2i5"
    },
    {
      "cell_type": "code",
      "source": [
        "# Create a new sequential model\n",
        "model = keras.Sequential()\n",
        "\n",
        "# Create a regularizer with a factor of 0.005 and apply it to all hidden layers\n",
        "regularizer = keras.regularizers.l2(0.00005)\n",
        "\n",
        "# Declare the hidden layers\n",
        "model.add(layers.Dense(1024, activation=\"relu\", kernel_regularizer=regularizer))\n",
        "model.add(layers.Dropout(0.2))\n",
        "model.add(layers.BatchNormalization())\n",
        "\n",
        "model.add(layers.Dense(512, activation=\"relu\", kernel_regularizer=regularizer))\n",
        "model.add(layers.Dropout(0.4))\n",
        "model.add(layers.BatchNormalization())\n",
        "\n",
        "model.add(layers.Dense(256, activation=\"relu\", kernel_regularizer=regularizer))\n",
        "model.add(layers.Dropout(0.4))\n",
        "model.add(layers.BatchNormalization())\n",
        "\n",
        "model.add(layers.Dense(32, activation=\"relu\", kernel_regularizer=regularizer)) \n",
        "model.add(layers.BatchNormalization())\n",
        "\n",
        "# Declare the output layer\n",
        "model.add(layers.Dense(23, activation=\"softmax\"))\n",
        "\n",
        "model.compile(\n",
        "    optimizer=keras.optimizers.Adam(),  \n",
        "    loss=keras.losses.SparseCategoricalCrossentropy(),\n",
        "    metrics=[keras.metrics.SparseCategoricalAccuracy()]\n",
        ")"
      ],
      "metadata": {
        "id": "keXoV03Tg0Nm"
      },
      "id": "keXoV03Tg0Nm",
      "execution_count": 35,
      "outputs": []
    },
    {
      "cell_type": "code",
      "execution_count": 36,
      "id": "4aba8518",
      "metadata": {
        "id": "4aba8518",
        "colab": {
          "base_uri": "https://localhost:8080/"
        },
        "outputId": "bf840b2b-8e01-4577-c1bf-f2286ba000ae"
      },
      "outputs": [
        {
          "output_type": "stream",
          "name": "stdout",
          "text": [
            "Epoch 1/25\n",
            "5233/5233 [==============================] - 30s 5ms/step - loss: 2.0678 - sparse_categorical_accuracy: 0.4980\n",
            "Epoch 2/25\n",
            "5233/5233 [==============================] - 26s 5ms/step - loss: 1.9586 - sparse_categorical_accuracy: 0.5623\n",
            "Epoch 3/25\n",
            "5233/5233 [==============================] - 26s 5ms/step - loss: 1.9656 - sparse_categorical_accuracy: 0.5803\n",
            "Epoch 4/25\n",
            "5233/5233 [==============================] - 25s 5ms/step - loss: 1.9480 - sparse_categorical_accuracy: 0.5931\n",
            "Epoch 5/25\n",
            "5233/5233 [==============================] - 26s 5ms/step - loss: 1.9247 - sparse_categorical_accuracy: 0.6048\n",
            "Epoch 6/25\n",
            "5233/5233 [==============================] - 26s 5ms/step - loss: 1.9029 - sparse_categorical_accuracy: 0.6139\n",
            "Epoch 7/25\n",
            "5233/5233 [==============================] - 25s 5ms/step - loss: 1.8844 - sparse_categorical_accuracy: 0.6230\n",
            "Epoch 8/25\n",
            "5233/5233 [==============================] - 25s 5ms/step - loss: 1.8724 - sparse_categorical_accuracy: 0.6293\n",
            "Epoch 9/25\n",
            "5233/5233 [==============================] - 25s 5ms/step - loss: 1.8600 - sparse_categorical_accuracy: 0.6347\n",
            "Epoch 10/25\n",
            "5233/5233 [==============================] - 25s 5ms/step - loss: 1.8466 - sparse_categorical_accuracy: 0.6408\n",
            "Epoch 11/25\n",
            "5233/5233 [==============================] - 25s 5ms/step - loss: 1.8441 - sparse_categorical_accuracy: 0.6425\n",
            "Epoch 12/25\n",
            "5233/5233 [==============================] - 25s 5ms/step - loss: 1.8350 - sparse_categorical_accuracy: 0.6483\n",
            "Epoch 13/25\n",
            "5233/5233 [==============================] - 25s 5ms/step - loss: 1.8262 - sparse_categorical_accuracy: 0.6514\n",
            "Epoch 14/25\n",
            "5233/5233 [==============================] - 25s 5ms/step - loss: 1.8234 - sparse_categorical_accuracy: 0.6526\n",
            "Epoch 15/25\n",
            "5233/5233 [==============================] - 26s 5ms/step - loss: 1.8155 - sparse_categorical_accuracy: 0.6550\n",
            "Epoch 16/25\n",
            "5233/5233 [==============================] - 25s 5ms/step - loss: 1.8111 - sparse_categorical_accuracy: 0.6569\n",
            "Epoch 17/25\n",
            "5233/5233 [==============================] - 25s 5ms/step - loss: 1.8072 - sparse_categorical_accuracy: 0.6605\n",
            "Epoch 18/25\n",
            "5233/5233 [==============================] - 26s 5ms/step - loss: 1.8014 - sparse_categorical_accuracy: 0.6606\n",
            "Epoch 19/25\n",
            "5233/5233 [==============================] - 25s 5ms/step - loss: 1.8014 - sparse_categorical_accuracy: 0.6611\n",
            "Epoch 20/25\n",
            "5233/5233 [==============================] - 25s 5ms/step - loss: 1.7996 - sparse_categorical_accuracy: 0.6629\n",
            "Epoch 21/25\n",
            "5233/5233 [==============================] - 26s 5ms/step - loss: 1.7947 - sparse_categorical_accuracy: 0.6630\n",
            "Epoch 22/25\n",
            "5233/5233 [==============================] - 26s 5ms/step - loss: 1.7951 - sparse_categorical_accuracy: 0.6642\n",
            "Epoch 23/25\n",
            "5233/5233 [==============================] - 25s 5ms/step - loss: 1.7897 - sparse_categorical_accuracy: 0.6649\n",
            "Epoch 24/25\n",
            "5233/5233 [==============================] - 25s 5ms/step - loss: 1.7872 - sparse_categorical_accuracy: 0.6655\n",
            "Epoch 25/25\n",
            "5233/5233 [==============================] - 25s 5ms/step - loss: 1.7845 - sparse_categorical_accuracy: 0.6654\n"
          ]
        }
      ],
      "source": [
        "# Fit the model\n",
        "history = model.fit(X_train_TV, y_train, epochs=25, verbose=1)"
      ]
    },
    {
      "cell_type": "code",
      "source": [
        "# Evaluate the model using the test data and generate predictions\n",
        "train_accuracy = history.history[\"sparse_categorical_accuracy\"][-1]\n",
        "result = model.evaluate(X_test_TV, y_test, verbose=0)\n",
        "\n",
        "print(f\"Train Accuracy: {train_accuracy:.4f}\")\n",
        "print(f\"Test Accuracy: {result[1]:.4f}\")"
      ],
      "metadata": {
        "colab": {
          "base_uri": "https://localhost:8080/"
        },
        "id": "X337k8soqIgb",
        "outputId": "5e035cd5-f567-47c4-db8b-b3b46317c028"
      },
      "id": "X337k8soqIgb",
      "execution_count": 37,
      "outputs": [
        {
          "output_type": "stream",
          "name": "stdout",
          "text": [
            "Train Accuracy: 0.6654\n",
            "Test Accuracy: 0.5777\n"
          ]
        }
      ]
    },
    {
      "cell_type": "markdown",
      "source": [
        "Fixed some of the overfitting, but the accuracy is still low\n",
        "\n",
        "We increased the accuracy to 57.77%, earlier it was 57.64%"
      ],
      "metadata": {
        "id": "AkJdAePstIV4"
      },
      "id": "AkJdAePstIV4"
    },
    {
      "cell_type": "markdown",
      "source": [
        "### Adding short_description column"
      ],
      "metadata": {
        "id": "v8sbfLVLAciJ"
      },
      "id": "v8sbfLVLAciJ"
    },
    {
      "cell_type": "code",
      "source": [
        "path = '/content/drive/MyDrive/news data/'\n",
        "final_df = pd.read_csv(path+'finaldata.csv')"
      ],
      "metadata": {
        "id": "KWesj3d8sscP"
      },
      "id": "KWesj3d8sscP",
      "execution_count": 29,
      "outputs": []
    },
    {
      "cell_type": "code",
      "source": [
        "# peeking into the dataset\n",
        "final_df.head()"
      ],
      "metadata": {
        "id": "3PDyn_y8sset",
        "colab": {
          "base_uri": "https://localhost:8080/",
          "height": 206
        },
        "outputId": "506b00b6-8f69-4938-c771-40cf26cafce8"
      },
      "id": "3PDyn_y8sset",
      "execution_count": 30,
      "outputs": [
        {
          "output_type": "execute_result",
          "data": {
            "text/plain": [
              "     category                                           headline  \\\n",
              "0  WORLD NEWS  Over  Million Americans Roll Up Sleeves For Om...   \n",
              "1  WORLD NEWS  American Airlines Flyer Charged  Banned For Li...   \n",
              "2      COMEDY   Of The Funniest Tweets About Cats And Dogs Th...   \n",
              "3   PARENTING  The Funniest Tweets From Parents This Week  Se...   \n",
              "4  WORLD NEWS  Woman Who Called Cops On Black Bird Watcher Lo...   \n",
              "\n",
              "                                         description  \n",
              "0  Health experts said it is too early to predict...  \n",
              "1  He was subdued by passengers and crew when he ...  \n",
              "2   Until you have a dog you don t understand wha...  \n",
              "3   Accidentally put grown up toothpaste on my to...  \n",
              "4  Amy Cooper accused investment firm Franklin Te...  "
            ],
            "text/html": [
              "\n",
              "  <div id=\"df-bd2fb945-e812-486f-bbb1-07046b52893f\">\n",
              "    <div class=\"colab-df-container\">\n",
              "      <div>\n",
              "<style scoped>\n",
              "    .dataframe tbody tr th:only-of-type {\n",
              "        vertical-align: middle;\n",
              "    }\n",
              "\n",
              "    .dataframe tbody tr th {\n",
              "        vertical-align: top;\n",
              "    }\n",
              "\n",
              "    .dataframe thead th {\n",
              "        text-align: right;\n",
              "    }\n",
              "</style>\n",
              "<table border=\"1\" class=\"dataframe\">\n",
              "  <thead>\n",
              "    <tr style=\"text-align: right;\">\n",
              "      <th></th>\n",
              "      <th>category</th>\n",
              "      <th>headline</th>\n",
              "      <th>description</th>\n",
              "    </tr>\n",
              "  </thead>\n",
              "  <tbody>\n",
              "    <tr>\n",
              "      <th>0</th>\n",
              "      <td>WORLD NEWS</td>\n",
              "      <td>Over  Million Americans Roll Up Sleeves For Om...</td>\n",
              "      <td>Health experts said it is too early to predict...</td>\n",
              "    </tr>\n",
              "    <tr>\n",
              "      <th>1</th>\n",
              "      <td>WORLD NEWS</td>\n",
              "      <td>American Airlines Flyer Charged  Banned For Li...</td>\n",
              "      <td>He was subdued by passengers and crew when he ...</td>\n",
              "    </tr>\n",
              "    <tr>\n",
              "      <th>2</th>\n",
              "      <td>COMEDY</td>\n",
              "      <td>Of The Funniest Tweets About Cats And Dogs Th...</td>\n",
              "      <td>Until you have a dog you don t understand wha...</td>\n",
              "    </tr>\n",
              "    <tr>\n",
              "      <th>3</th>\n",
              "      <td>PARENTING</td>\n",
              "      <td>The Funniest Tweets From Parents This Week  Se...</td>\n",
              "      <td>Accidentally put grown up toothpaste on my to...</td>\n",
              "    </tr>\n",
              "    <tr>\n",
              "      <th>4</th>\n",
              "      <td>WORLD NEWS</td>\n",
              "      <td>Woman Who Called Cops On Black Bird Watcher Lo...</td>\n",
              "      <td>Amy Cooper accused investment firm Franklin Te...</td>\n",
              "    </tr>\n",
              "  </tbody>\n",
              "</table>\n",
              "</div>\n",
              "      <button class=\"colab-df-convert\" onclick=\"convertToInteractive('df-bd2fb945-e812-486f-bbb1-07046b52893f')\"\n",
              "              title=\"Convert this dataframe to an interactive table.\"\n",
              "              style=\"display:none;\">\n",
              "        \n",
              "  <svg xmlns=\"http://www.w3.org/2000/svg\" height=\"24px\"viewBox=\"0 0 24 24\"\n",
              "       width=\"24px\">\n",
              "    <path d=\"M0 0h24v24H0V0z\" fill=\"none\"/>\n",
              "    <path d=\"M18.56 5.44l.94 2.06.94-2.06 2.06-.94-2.06-.94-.94-2.06-.94 2.06-2.06.94zm-11 1L8.5 8.5l.94-2.06 2.06-.94-2.06-.94L8.5 2.5l-.94 2.06-2.06.94zm10 10l.94 2.06.94-2.06 2.06-.94-2.06-.94-.94-2.06-.94 2.06-2.06.94z\"/><path d=\"M17.41 7.96l-1.37-1.37c-.4-.4-.92-.59-1.43-.59-.52 0-1.04.2-1.43.59L10.3 9.45l-7.72 7.72c-.78.78-.78 2.05 0 2.83L4 21.41c.39.39.9.59 1.41.59.51 0 1.02-.2 1.41-.59l7.78-7.78 2.81-2.81c.8-.78.8-2.07 0-2.86zM5.41 20L4 18.59l7.72-7.72 1.47 1.35L5.41 20z\"/>\n",
              "  </svg>\n",
              "      </button>\n",
              "      \n",
              "  <style>\n",
              "    .colab-df-container {\n",
              "      display:flex;\n",
              "      flex-wrap:wrap;\n",
              "      gap: 12px;\n",
              "    }\n",
              "\n",
              "    .colab-df-convert {\n",
              "      background-color: #E8F0FE;\n",
              "      border: none;\n",
              "      border-radius: 50%;\n",
              "      cursor: pointer;\n",
              "      display: none;\n",
              "      fill: #1967D2;\n",
              "      height: 32px;\n",
              "      padding: 0 0 0 0;\n",
              "      width: 32px;\n",
              "    }\n",
              "\n",
              "    .colab-df-convert:hover {\n",
              "      background-color: #E2EBFA;\n",
              "      box-shadow: 0px 1px 2px rgba(60, 64, 67, 0.3), 0px 1px 3px 1px rgba(60, 64, 67, 0.15);\n",
              "      fill: #174EA6;\n",
              "    }\n",
              "\n",
              "    [theme=dark] .colab-df-convert {\n",
              "      background-color: #3B4455;\n",
              "      fill: #D2E3FC;\n",
              "    }\n",
              "\n",
              "    [theme=dark] .colab-df-convert:hover {\n",
              "      background-color: #434B5C;\n",
              "      box-shadow: 0px 1px 3px 1px rgba(0, 0, 0, 0.15);\n",
              "      filter: drop-shadow(0px 1px 2px rgba(0, 0, 0, 0.3));\n",
              "      fill: #FFFFFF;\n",
              "    }\n",
              "  </style>\n",
              "\n",
              "      <script>\n",
              "        const buttonEl =\n",
              "          document.querySelector('#df-bd2fb945-e812-486f-bbb1-07046b52893f button.colab-df-convert');\n",
              "        buttonEl.style.display =\n",
              "          google.colab.kernel.accessAllowed ? 'block' : 'none';\n",
              "\n",
              "        async function convertToInteractive(key) {\n",
              "          const element = document.querySelector('#df-bd2fb945-e812-486f-bbb1-07046b52893f');\n",
              "          const dataTable =\n",
              "            await google.colab.kernel.invokeFunction('convertToInteractive',\n",
              "                                                     [key], {});\n",
              "          if (!dataTable) return;\n",
              "\n",
              "          const docLinkHtml = 'Like what you see? Visit the ' +\n",
              "            '<a target=\"_blank\" href=https://colab.research.google.com/notebooks/data_table.ipynb>data table notebook</a>'\n",
              "            + ' to learn more about interactive tables.';\n",
              "          element.innerHTML = '';\n",
              "          dataTable['output_type'] = 'display_data';\n",
              "          await google.colab.output.renderOutput(dataTable, element);\n",
              "          const docLink = document.createElement('div');\n",
              "          docLink.innerHTML = docLinkHtml;\n",
              "          element.appendChild(docLink);\n",
              "        }\n",
              "      </script>\n",
              "    </div>\n",
              "  </div>\n",
              "  "
            ]
          },
          "metadata": {},
          "execution_count": 30
        }
      ]
    },
    {
      "cell_type": "code",
      "source": [
        "# checking shape\n",
        "final_df.shape"
      ],
      "metadata": {
        "id": "jz2R1v8LsshA",
        "colab": {
          "base_uri": "https://localhost:8080/"
        },
        "outputId": "7d0b187f-77ca-4e90-bd88-7c6d4d6edca3"
      },
      "id": "jz2R1v8LsshA",
      "execution_count": 31,
      "outputs": [
        {
          "output_type": "execute_result",
          "data": {
            "text/plain": [
              "(209323, 3)"
            ]
          },
          "metadata": {},
          "execution_count": 31
        }
      ]
    },
    {
      "cell_type": "markdown",
      "source": [
        "Let's combine the text of the headline column and short description column and then check the performance of the model."
      ],
      "metadata": {
        "id": "WklXGdK1rjgB"
      },
      "id": "WklXGdK1rjgB"
    },
    {
      "cell_type": "code",
      "source": [
        "final_df['text'] = final_df['headline'] + \" \" + final_df['description']"
      ],
      "metadata": {
        "id": "4z1FJdGOssjn"
      },
      "id": "4z1FJdGOssjn",
      "execution_count": 32,
      "outputs": []
    },
    {
      "cell_type": "code",
      "source": [
        "# combining 2 columns\n",
        "final_df.head()"
      ],
      "metadata": {
        "id": "T0d_Zv-6ssmM",
        "colab": {
          "base_uri": "https://localhost:8080/",
          "height": 206
        },
        "outputId": "2b03865d-dbfb-4504-8d6f-eb4f49a5062b"
      },
      "id": "T0d_Zv-6ssmM",
      "execution_count": 33,
      "outputs": [
        {
          "output_type": "execute_result",
          "data": {
            "text/plain": [
              "     category                                           headline  \\\n",
              "0  WORLD NEWS  Over  Million Americans Roll Up Sleeves For Om...   \n",
              "1  WORLD NEWS  American Airlines Flyer Charged  Banned For Li...   \n",
              "2      COMEDY   Of The Funniest Tweets About Cats And Dogs Th...   \n",
              "3   PARENTING  The Funniest Tweets From Parents This Week  Se...   \n",
              "4  WORLD NEWS  Woman Who Called Cops On Black Bird Watcher Lo...   \n",
              "\n",
              "                                         description  \\\n",
              "0  Health experts said it is too early to predict...   \n",
              "1  He was subdued by passengers and crew when he ...   \n",
              "2   Until you have a dog you don t understand wha...   \n",
              "3   Accidentally put grown up toothpaste on my to...   \n",
              "4  Amy Cooper accused investment firm Franklin Te...   \n",
              "\n",
              "                                                text  \n",
              "0  Over  Million Americans Roll Up Sleeves For Om...  \n",
              "1  American Airlines Flyer Charged  Banned For Li...  \n",
              "2   Of The Funniest Tweets About Cats And Dogs Th...  \n",
              "3  The Funniest Tweets From Parents This Week  Se...  \n",
              "4  Woman Who Called Cops On Black Bird Watcher Lo...  "
            ],
            "text/html": [
              "\n",
              "  <div id=\"df-060699be-9d02-4ab6-bded-232068cfe7ea\">\n",
              "    <div class=\"colab-df-container\">\n",
              "      <div>\n",
              "<style scoped>\n",
              "    .dataframe tbody tr th:only-of-type {\n",
              "        vertical-align: middle;\n",
              "    }\n",
              "\n",
              "    .dataframe tbody tr th {\n",
              "        vertical-align: top;\n",
              "    }\n",
              "\n",
              "    .dataframe thead th {\n",
              "        text-align: right;\n",
              "    }\n",
              "</style>\n",
              "<table border=\"1\" class=\"dataframe\">\n",
              "  <thead>\n",
              "    <tr style=\"text-align: right;\">\n",
              "      <th></th>\n",
              "      <th>category</th>\n",
              "      <th>headline</th>\n",
              "      <th>description</th>\n",
              "      <th>text</th>\n",
              "    </tr>\n",
              "  </thead>\n",
              "  <tbody>\n",
              "    <tr>\n",
              "      <th>0</th>\n",
              "      <td>WORLD NEWS</td>\n",
              "      <td>Over  Million Americans Roll Up Sleeves For Om...</td>\n",
              "      <td>Health experts said it is too early to predict...</td>\n",
              "      <td>Over  Million Americans Roll Up Sleeves For Om...</td>\n",
              "    </tr>\n",
              "    <tr>\n",
              "      <th>1</th>\n",
              "      <td>WORLD NEWS</td>\n",
              "      <td>American Airlines Flyer Charged  Banned For Li...</td>\n",
              "      <td>He was subdued by passengers and crew when he ...</td>\n",
              "      <td>American Airlines Flyer Charged  Banned For Li...</td>\n",
              "    </tr>\n",
              "    <tr>\n",
              "      <th>2</th>\n",
              "      <td>COMEDY</td>\n",
              "      <td>Of The Funniest Tweets About Cats And Dogs Th...</td>\n",
              "      <td>Until you have a dog you don t understand wha...</td>\n",
              "      <td>Of The Funniest Tweets About Cats And Dogs Th...</td>\n",
              "    </tr>\n",
              "    <tr>\n",
              "      <th>3</th>\n",
              "      <td>PARENTING</td>\n",
              "      <td>The Funniest Tweets From Parents This Week  Se...</td>\n",
              "      <td>Accidentally put grown up toothpaste on my to...</td>\n",
              "      <td>The Funniest Tweets From Parents This Week  Se...</td>\n",
              "    </tr>\n",
              "    <tr>\n",
              "      <th>4</th>\n",
              "      <td>WORLD NEWS</td>\n",
              "      <td>Woman Who Called Cops On Black Bird Watcher Lo...</td>\n",
              "      <td>Amy Cooper accused investment firm Franklin Te...</td>\n",
              "      <td>Woman Who Called Cops On Black Bird Watcher Lo...</td>\n",
              "    </tr>\n",
              "  </tbody>\n",
              "</table>\n",
              "</div>\n",
              "      <button class=\"colab-df-convert\" onclick=\"convertToInteractive('df-060699be-9d02-4ab6-bded-232068cfe7ea')\"\n",
              "              title=\"Convert this dataframe to an interactive table.\"\n",
              "              style=\"display:none;\">\n",
              "        \n",
              "  <svg xmlns=\"http://www.w3.org/2000/svg\" height=\"24px\"viewBox=\"0 0 24 24\"\n",
              "       width=\"24px\">\n",
              "    <path d=\"M0 0h24v24H0V0z\" fill=\"none\"/>\n",
              "    <path d=\"M18.56 5.44l.94 2.06.94-2.06 2.06-.94-2.06-.94-.94-2.06-.94 2.06-2.06.94zm-11 1L8.5 8.5l.94-2.06 2.06-.94-2.06-.94L8.5 2.5l-.94 2.06-2.06.94zm10 10l.94 2.06.94-2.06 2.06-.94-2.06-.94-.94-2.06-.94 2.06-2.06.94z\"/><path d=\"M17.41 7.96l-1.37-1.37c-.4-.4-.92-.59-1.43-.59-.52 0-1.04.2-1.43.59L10.3 9.45l-7.72 7.72c-.78.78-.78 2.05 0 2.83L4 21.41c.39.39.9.59 1.41.59.51 0 1.02-.2 1.41-.59l7.78-7.78 2.81-2.81c.8-.78.8-2.07 0-2.86zM5.41 20L4 18.59l7.72-7.72 1.47 1.35L5.41 20z\"/>\n",
              "  </svg>\n",
              "      </button>\n",
              "      \n",
              "  <style>\n",
              "    .colab-df-container {\n",
              "      display:flex;\n",
              "      flex-wrap:wrap;\n",
              "      gap: 12px;\n",
              "    }\n",
              "\n",
              "    .colab-df-convert {\n",
              "      background-color: #E8F0FE;\n",
              "      border: none;\n",
              "      border-radius: 50%;\n",
              "      cursor: pointer;\n",
              "      display: none;\n",
              "      fill: #1967D2;\n",
              "      height: 32px;\n",
              "      padding: 0 0 0 0;\n",
              "      width: 32px;\n",
              "    }\n",
              "\n",
              "    .colab-df-convert:hover {\n",
              "      background-color: #E2EBFA;\n",
              "      box-shadow: 0px 1px 2px rgba(60, 64, 67, 0.3), 0px 1px 3px 1px rgba(60, 64, 67, 0.15);\n",
              "      fill: #174EA6;\n",
              "    }\n",
              "\n",
              "    [theme=dark] .colab-df-convert {\n",
              "      background-color: #3B4455;\n",
              "      fill: #D2E3FC;\n",
              "    }\n",
              "\n",
              "    [theme=dark] .colab-df-convert:hover {\n",
              "      background-color: #434B5C;\n",
              "      box-shadow: 0px 1px 3px 1px rgba(0, 0, 0, 0.15);\n",
              "      filter: drop-shadow(0px 1px 2px rgba(0, 0, 0, 0.3));\n",
              "      fill: #FFFFFF;\n",
              "    }\n",
              "  </style>\n",
              "\n",
              "      <script>\n",
              "        const buttonEl =\n",
              "          document.querySelector('#df-060699be-9d02-4ab6-bded-232068cfe7ea button.colab-df-convert');\n",
              "        buttonEl.style.display =\n",
              "          google.colab.kernel.accessAllowed ? 'block' : 'none';\n",
              "\n",
              "        async function convertToInteractive(key) {\n",
              "          const element = document.querySelector('#df-060699be-9d02-4ab6-bded-232068cfe7ea');\n",
              "          const dataTable =\n",
              "            await google.colab.kernel.invokeFunction('convertToInteractive',\n",
              "                                                     [key], {});\n",
              "          if (!dataTable) return;\n",
              "\n",
              "          const docLinkHtml = 'Like what you see? Visit the ' +\n",
              "            '<a target=\"_blank\" href=https://colab.research.google.com/notebooks/data_table.ipynb>data table notebook</a>'\n",
              "            + ' to learn more about interactive tables.';\n",
              "          element.innerHTML = '';\n",
              "          dataTable['output_type'] = 'display_data';\n",
              "          await google.colab.output.renderOutput(dataTable, element);\n",
              "          const docLink = document.createElement('div');\n",
              "          docLink.innerHTML = docLinkHtml;\n",
              "          element.appendChild(docLink);\n",
              "        }\n",
              "      </script>\n",
              "    </div>\n",
              "  </div>\n",
              "  "
            ]
          },
          "metadata": {},
          "execution_count": 33
        }
      ]
    },
    {
      "cell_type": "code",
      "source": [
        "# dropping unwanted columns\n",
        "final_df.drop(columns=['headline', 'description'], inplace=True)"
      ],
      "metadata": {
        "id": "rx0OLa0vssox"
      },
      "id": "rx0OLa0vssox",
      "execution_count": 34,
      "outputs": []
    },
    {
      "cell_type": "code",
      "source": [
        "# check\n",
        "final_df.info()"
      ],
      "metadata": {
        "id": "9s_-k0Exssre",
        "colab": {
          "base_uri": "https://localhost:8080/"
        },
        "outputId": "1572b64a-d278-449f-a436-c5275b4a1686"
      },
      "id": "9s_-k0Exssre",
      "execution_count": 35,
      "outputs": [
        {
          "output_type": "stream",
          "name": "stdout",
          "text": [
            "<class 'pandas.core.frame.DataFrame'>\n",
            "RangeIndex: 209323 entries, 0 to 209322\n",
            "Data columns (total 2 columns):\n",
            " #   Column    Non-Null Count   Dtype \n",
            "---  ------    --------------   ----- \n",
            " 0   category  209323 non-null  object\n",
            " 1   text      209278 non-null  object\n",
            "dtypes: object(2)\n",
            "memory usage: 3.2+ MB\n"
          ]
        }
      ]
    },
    {
      "cell_type": "code",
      "source": [
        "# checking null values\n",
        "final_df.isna().sum()"
      ],
      "metadata": {
        "id": "LB1ognoHssuK",
        "colab": {
          "base_uri": "https://localhost:8080/"
        },
        "outputId": "04de8085-f413-4f30-936f-db9aab2d0180"
      },
      "id": "LB1ognoHssuK",
      "execution_count": 14,
      "outputs": [
        {
          "output_type": "execute_result",
          "data": {
            "text/plain": [
              "category     0\n",
              "text        45\n",
              "dtype: int64"
            ]
          },
          "metadata": {},
          "execution_count": 14
        }
      ]
    },
    {
      "cell_type": "markdown",
      "source": [
        "These can be empty strings present in the dataframe which when converted to csv file resulted in null values.\n",
        "\n",
        "\n",
        "So let's drop them..."
      ],
      "metadata": {
        "id": "xOJKBycmsAs4"
      },
      "id": "xOJKBycmsAs4"
    },
    {
      "cell_type": "code",
      "source": [
        "# dropping null values \n",
        "final_df.dropna(inplace=True)"
      ],
      "metadata": {
        "id": "k9eVxQZ1ssw1"
      },
      "id": "k9eVxQZ1ssw1",
      "execution_count": 36,
      "outputs": []
    },
    {
      "cell_type": "code",
      "source": [
        "final_df.info()"
      ],
      "metadata": {
        "id": "-V0t56dSss2x",
        "colab": {
          "base_uri": "https://localhost:8080/"
        },
        "outputId": "9373d166-edcc-449a-dc00-27a276ca2cd9"
      },
      "id": "-V0t56dSss2x",
      "execution_count": 37,
      "outputs": [
        {
          "output_type": "stream",
          "name": "stdout",
          "text": [
            "<class 'pandas.core.frame.DataFrame'>\n",
            "Int64Index: 209278 entries, 0 to 209322\n",
            "Data columns (total 2 columns):\n",
            " #   Column    Non-Null Count   Dtype \n",
            "---  ------    --------------   ----- \n",
            " 0   category  209278 non-null  object\n",
            " 1   text      209278 non-null  object\n",
            "dtypes: object(2)\n",
            "memory usage: 4.8+ MB\n"
          ]
        }
      ]
    },
    {
      "cell_type": "markdown",
      "source": [
        "As we can see from the dataset that words in the text column do not have all letters lower cased. Let's make each word in lowercase format so that no word is counted multiple times."
      ],
      "metadata": {
        "id": "CFQn9voXsX1M"
      },
      "id": "CFQn9voXsX1M"
    },
    {
      "cell_type": "code",
      "source": [
        "# making every word of small letters\n",
        "final_df['text'] = final_df['text'].str.lower()"
      ],
      "metadata": {
        "id": "CGGx7eCzss6-"
      },
      "id": "CGGx7eCzss6-",
      "execution_count": 38,
      "outputs": []
    },
    {
      "cell_type": "code",
      "source": [
        "# defining independent and dependent variables\n",
        "X = final_df[['text']]\n",
        "y = final_df['category']"
      ],
      "metadata": {
        "id": "CjFOQ3iXCzHs"
      },
      "id": "CjFOQ3iXCzHs",
      "execution_count": 39,
      "outputs": []
    },
    {
      "cell_type": "markdown",
      "source": [
        "Since our dependent variable has 23 classes, let's change that to numerics using one-hot encoding."
      ],
      "metadata": {
        "id": "oWWvtNtds9Lz"
      },
      "id": "oWWvtNtds9Lz"
    },
    {
      "cell_type": "code",
      "source": [
        "from sklearn.preprocessing import LabelEncoder\n",
        "# applying label encoding to the target variable\n",
        "encoder = LabelEncoder()\n",
        "y = encoder.fit_transform(y)"
      ],
      "metadata": {
        "id": "5iIwrX6cCzJ3"
      },
      "id": "5iIwrX6cCzJ3",
      "execution_count": 41,
      "outputs": []
    },
    {
      "cell_type": "code",
      "source": [
        "# splitting into train and test splits\n",
        "X_train, X_test, y_train, y_test = train_test_split(X, y, test_size=0.20, random_state=1, stratify=y)"
      ],
      "metadata": {
        "id": "mm44cBY9CzL6"
      },
      "id": "mm44cBY9CzL6",
      "execution_count": 42,
      "outputs": []
    },
    {
      "cell_type": "code",
      "source": [
        "# let's do it for our dataset\n",
        "bagofwords = TfidfVectorizer(min_df=3, max_df=0.2, max_features=4000, strip_accents='unicode', analyzer='word', ngram_range=(1, 10),\n",
        "                             stop_words='english', \n",
        "                             tokenizer=my_tokenizer)\n",
        "bagofwords.fit(X_train['text'])\n",
        "\n",
        "train_vec2 = bagofwords.transform(X_train['text'])\n",
        "test_vec2 = bagofwords.transform(X_test['text'])\n",
        "\n",
        "train_vec2.shape"
      ],
      "metadata": {
        "colab": {
          "base_uri": "https://localhost:8080/"
        },
        "id": "rECTJ0xRCzNy",
        "outputId": "45c63c46-a5bd-4740-8e4e-5593098df318"
      },
      "id": "rECTJ0xRCzNy",
      "execution_count": 43,
      "outputs": [
        {
          "output_type": "stream",
          "name": "stderr",
          "text": [
            "/usr/local/lib/python3.8/dist-packages/sklearn/feature_extraction/text.py:516: UserWarning: The parameter 'token_pattern' will not be used since 'tokenizer' is not None'\n",
            "  warnings.warn(\n",
            "/usr/local/lib/python3.8/dist-packages/sklearn/feature_extraction/text.py:396: UserWarning: Your stop_words may be inconsistent with your preprocessing. Tokenizing the stop words generated tokens ['afterward', 'alon', 'alreadi', 'alway', 'anoth', 'anyon', 'anyth', 'anywher', 'becam', 'becom', 'besid', 'cri', 'describ', 'els', 'elsewher', 'empti', 'everi', 'everyon', 'everyth', 'everywher', 'fifti', 'formerli', 'forti', 'henc', 'hereaft', 'herebi', 'howev', 'hundr', 'inde', 'latterli', 'mani', 'meanwhil', 'moreov', 'mostli', 'nobodi', 'noon', 'noth', 'nowher', 'otherwis', 'perhap', 'pleas', 'seriou', 'sever', 'sinc', 'sincer', 'sixti', 'someon', 'someth', 'sometim', 'somewher', 'thenc', 'thereaft', 'therebi', 'therefor', 'thu', 'togeth', 'twelv', 'twenti', 'whatev', 'whenc', 'whenev', 'wherea', 'whereaft', 'wherebi', 'wherev'] not in stop_words.\n",
            "  warnings.warn(\n"
          ]
        },
        {
          "output_type": "execute_result",
          "data": {
            "text/plain": [
              "(167422, 4000)"
            ]
          },
          "metadata": {},
          "execution_count": 43
        }
      ]
    },
    {
      "cell_type": "code",
      "source": [
        "# Create a new sequential model\n",
        "model = keras.Sequential()\n",
        "\n",
        "# Create a regularizer with a factor of 0.005 and apply it to all hidden layers\n",
        "regularizer = keras.regularizers.l2(0.00005)\n",
        "\n",
        "# Declare the hidden layers\n",
        "model.add(layers.Dense(1024, activation=\"relu\", kernel_regularizer=regularizer))\n",
        "model.add(layers.Dropout(0.2))\n",
        "model.add(layers.BatchNormalization())\n",
        "\n",
        "model.add(layers.Dense(512, activation=\"relu\", kernel_regularizer=regularizer))\n",
        "model.add(layers.Dropout(0.4))\n",
        "model.add(layers.BatchNormalization())\n",
        "\n",
        "model.add(layers.Dense(256, activation=\"relu\", kernel_regularizer=regularizer))\n",
        "model.add(layers.Dropout(0.4))\n",
        "model.add(layers.BatchNormalization())\n",
        "\n",
        "model.add(layers.Dense(32, activation=\"relu\", kernel_regularizer=regularizer)) \n",
        "model.add(layers.BatchNormalization())\n",
        "\n",
        "# Declare the output layer\n",
        "model.add(layers.Dense(23, activation=\"softmax\"))\n",
        "\n",
        "model.compile(\n",
        "    optimizer=keras.optimizers.Adam(),  \n",
        "    loss=keras.losses.SparseCategoricalCrossentropy(),\n",
        "    metrics=[keras.metrics.SparseCategoricalAccuracy()]\n",
        ")"
      ],
      "metadata": {
        "id": "V5gnTJTQGoUO"
      },
      "id": "V5gnTJTQGoUO",
      "execution_count": 27,
      "outputs": []
    },
    {
      "cell_type": "code",
      "source": [
        "train_vec2.sort_indices()\n",
        "test_vec2.sort_indices()"
      ],
      "metadata": {
        "id": "LD7YQeEPHP_s"
      },
      "id": "LD7YQeEPHP_s",
      "execution_count": 29,
      "outputs": []
    },
    {
      "cell_type": "code",
      "source": [
        "# Fit the model\n",
        "history = model.fit(train_vec2, y_train, epochs=25, verbose=1)"
      ],
      "metadata": {
        "colab": {
          "base_uri": "https://localhost:8080/"
        },
        "id": "JJ9HqS2eGob2",
        "outputId": "c04da7dd-f51f-4471-d908-901e51b4ae1b"
      },
      "id": "JJ9HqS2eGob2",
      "execution_count": 30,
      "outputs": [
        {
          "output_type": "stream",
          "name": "stdout",
          "text": [
            "Epoch 1/25\n"
          ]
        },
        {
          "output_type": "stream",
          "name": "stderr",
          "text": [
            "/usr/local/lib/python3.8/dist-packages/tensorflow/python/framework/indexed_slices.py:444: UserWarning: Converting sparse IndexedSlices(IndexedSlices(indices=Tensor(\"gradient_tape/sequential/dense/embedding_lookup_sparse/Reshape_1:0\", shape=(None,), dtype=int32), values=Tensor(\"gradient_tape/sequential/dense/embedding_lookup_sparse/Reshape:0\", shape=(None, 1024), dtype=float32), dense_shape=Tensor(\"gradient_tape/sequential/dense/embedding_lookup_sparse/Cast:0\", shape=(2,), dtype=int32))) to a dense Tensor of unknown shape. This may consume a large amount of memory.\n",
            "  warnings.warn(\n"
          ]
        },
        {
          "output_type": "stream",
          "name": "stdout",
          "text": [
            "5232/5232 [==============================] - 40s 7ms/step - loss: 1.8595 - sparse_categorical_accuracy: 0.5533\n",
            "Epoch 2/25\n",
            "5232/5232 [==============================] - 37s 7ms/step - loss: 1.8032 - sparse_categorical_accuracy: 0.6189\n",
            "Epoch 3/25\n",
            "5232/5232 [==============================] - 36s 7ms/step - loss: 1.8087 - sparse_categorical_accuracy: 0.6403\n",
            "Epoch 4/25\n",
            "5232/5232 [==============================] - 36s 7ms/step - loss: 1.7636 - sparse_categorical_accuracy: 0.6638\n",
            "Epoch 5/25\n",
            "5232/5232 [==============================] - 36s 7ms/step - loss: 1.7148 - sparse_categorical_accuracy: 0.6848\n",
            "Epoch 6/25\n",
            "5232/5232 [==============================] - 37s 7ms/step - loss: 1.6588 - sparse_categorical_accuracy: 0.7080\n",
            "Epoch 7/25\n",
            "5232/5232 [==============================] - 36s 7ms/step - loss: 1.6168 - sparse_categorical_accuracy: 0.7223\n",
            "Epoch 8/25\n",
            "5232/5232 [==============================] - 36s 7ms/step - loss: 1.5752 - sparse_categorical_accuracy: 0.7384\n",
            "Epoch 9/25\n",
            "5232/5232 [==============================] - 36s 7ms/step - loss: 1.5486 - sparse_categorical_accuracy: 0.7475\n",
            "Epoch 10/25\n",
            "5232/5232 [==============================] - 36s 7ms/step - loss: 1.5259 - sparse_categorical_accuracy: 0.7549\n",
            "Epoch 11/25\n",
            "5232/5232 [==============================] - 36s 7ms/step - loss: 1.5009 - sparse_categorical_accuracy: 0.7622\n",
            "Epoch 12/25\n",
            "5232/5232 [==============================] - 36s 7ms/step - loss: 1.4790 - sparse_categorical_accuracy: 0.7679\n",
            "Epoch 13/25\n",
            "5232/5232 [==============================] - 36s 7ms/step - loss: 1.4657 - sparse_categorical_accuracy: 0.7714\n",
            "Epoch 14/25\n",
            "5232/5232 [==============================] - 35s 7ms/step - loss: 1.4506 - sparse_categorical_accuracy: 0.7742\n",
            "Epoch 15/25\n",
            "5232/5232 [==============================] - 36s 7ms/step - loss: 1.4393 - sparse_categorical_accuracy: 0.7762\n",
            "Epoch 16/25\n",
            "5232/5232 [==============================] - 35s 7ms/step - loss: 1.4229 - sparse_categorical_accuracy: 0.7802\n",
            "Epoch 17/25\n",
            "5232/5232 [==============================] - 36s 7ms/step - loss: 1.4177 - sparse_categorical_accuracy: 0.7800\n",
            "Epoch 18/25\n",
            "5232/5232 [==============================] - 35s 7ms/step - loss: 1.4076 - sparse_categorical_accuracy: 0.7841\n",
            "Epoch 19/25\n",
            "5232/5232 [==============================] - 36s 7ms/step - loss: 1.4014 - sparse_categorical_accuracy: 0.7822\n",
            "Epoch 20/25\n",
            "5232/5232 [==============================] - 35s 7ms/step - loss: 1.3907 - sparse_categorical_accuracy: 0.7852\n",
            "Epoch 21/25\n",
            "5232/5232 [==============================] - 36s 7ms/step - loss: 1.3857 - sparse_categorical_accuracy: 0.7848\n",
            "Epoch 22/25\n",
            "5232/5232 [==============================] - 36s 7ms/step - loss: 1.3750 - sparse_categorical_accuracy: 0.7868\n",
            "Epoch 23/25\n",
            "5232/5232 [==============================] - 35s 7ms/step - loss: 1.3668 - sparse_categorical_accuracy: 0.7874\n",
            "Epoch 24/25\n",
            "5232/5232 [==============================] - 35s 7ms/step - loss: 1.3603 - sparse_categorical_accuracy: 0.7886\n",
            "Epoch 25/25\n",
            "5232/5232 [==============================] - 35s 7ms/step - loss: 1.3554 - sparse_categorical_accuracy: 0.7879\n"
          ]
        }
      ]
    },
    {
      "cell_type": "code",
      "source": [
        "# Evaluate the model using the test data and generate predictions\n",
        "train_accuracy = history.history[\"sparse_categorical_accuracy\"][-1]\n",
        "result = model.evaluate(test_vec2, y_test, verbose=0)\n",
        "\n",
        "print(f\"Train Accuracy: {train_accuracy:.4f}\")\n",
        "print(f\"Test Accuracy: {result[1]:.4f}\")"
      ],
      "metadata": {
        "colab": {
          "base_uri": "https://localhost:8080/"
        },
        "id": "LRdsXY-9Goen",
        "outputId": "d9c55290-1ce3-441e-e81d-2beaf15b0ac2"
      },
      "id": "LRdsXY-9Goen",
      "execution_count": 32,
      "outputs": [
        {
          "output_type": "stream",
          "name": "stdout",
          "text": [
            "Train Accuracy: 0.7879\n",
            "Test Accuracy: 0.6005\n"
          ]
        }
      ]
    },
    {
      "cell_type": "markdown",
      "source": [
        "Overall accuarcy improved here but overfitting can be seen here. So let's manage it."
      ],
      "metadata": {
        "id": "wmulyfP7LNgJ"
      },
      "id": "wmulyfP7LNgJ"
    },
    {
      "cell_type": "markdown",
      "source": [
        "Try making a new model, with less layers and nodes."
      ],
      "metadata": {
        "id": "TLQd2ab-MF-o"
      },
      "id": "TLQd2ab-MF-o"
    },
    {
      "cell_type": "code",
      "source": [
        "# Create a new sequential model\n",
        "model = keras.Sequential()\n",
        "\n",
        "# Create a regularizer with a factor of 0.005 and apply it to all hidden layers\n",
        "regularizer = keras.regularizers.l2(0.00005)\n",
        "\n",
        "# Declare the hidden layers\n",
        "model.add(layers.Dense(512, activation=\"relu\", kernel_regularizer=regularizer))\n",
        "model.add(layers.Dropout(0.2))\n",
        "model.add(layers.BatchNormalization())\n",
        "\n",
        "model.add(layers.Dense(512, activation=\"relu\", kernel_regularizer=regularizer))\n",
        "model.add(layers.Dropout(0.4))\n",
        "model.add(layers.BatchNormalization())\n",
        "\n",
        "model.add(layers.Dense(256, activation=\"relu\", kernel_regularizer=regularizer))\n",
        "model.add(layers.Dropout(0.4))\n",
        "model.add(layers.BatchNormalization())\n",
        "\n",
        "model.add(layers.Dense(32, activation=\"relu\", kernel_regularizer=regularizer))\n",
        "model.add(layers.Dropout(0.4)) \n",
        "model.add(layers.BatchNormalization())\n",
        "\n",
        "# Declare the output layer\n",
        "model.add(layers.Dense(23, activation=\"softmax\"))\n",
        "\n",
        "model.compile(\n",
        "    optimizer=keras.optimizers.Adam(),  \n",
        "    loss=keras.losses.SparseCategoricalCrossentropy(),\n",
        "    metrics=[keras.metrics.SparseCategoricalAccuracy()]\n",
        ")"
      ],
      "metadata": {
        "id": "7-68ub-wGoiW"
      },
      "id": "7-68ub-wGoiW",
      "execution_count": 33,
      "outputs": []
    },
    {
      "cell_type": "code",
      "source": [
        "# Fit the model\n",
        "history = model.fit(train_vec2, y_train, epochs=10, batch_size = 100, verbose=1)"
      ],
      "metadata": {
        "colab": {
          "base_uri": "https://localhost:8080/"
        },
        "id": "2UjkH2uzGosL",
        "outputId": "c23be28b-792c-4560-b6e1-404978b2acdb"
      },
      "id": "2UjkH2uzGosL",
      "execution_count": 36,
      "outputs": [
        {
          "output_type": "stream",
          "name": "stdout",
          "text": [
            "Epoch 1/10\n",
            "1675/1675 [==============================] - 11s 6ms/step - loss: 1.7481 - sparse_categorical_accuracy: 0.5783\n",
            "Epoch 2/10\n",
            "1675/1675 [==============================] - 11s 6ms/step - loss: 1.6612 - sparse_categorical_accuracy: 0.6119\n",
            "Epoch 3/10\n",
            "1675/1675 [==============================] - 11s 6ms/step - loss: 1.6154 - sparse_categorical_accuracy: 0.6434\n",
            "Epoch 4/10\n",
            "1675/1675 [==============================] - 11s 6ms/step - loss: 1.5563 - sparse_categorical_accuracy: 0.6761\n",
            "Epoch 5/10\n",
            "1675/1675 [==============================] - 11s 6ms/step - loss: 1.4966 - sparse_categorical_accuracy: 0.7076\n",
            "Epoch 6/10\n",
            "1675/1675 [==============================] - 11s 6ms/step - loss: 1.4428 - sparse_categorical_accuracy: 0.7338\n",
            "Epoch 7/10\n",
            "1675/1675 [==============================] - 12s 7ms/step - loss: 1.4007 - sparse_categorical_accuracy: 0.7547\n",
            "Epoch 8/10\n",
            "1675/1675 [==============================] - 11s 6ms/step - loss: 1.3658 - sparse_categorical_accuracy: 0.7727\n",
            "Epoch 9/10\n",
            "1675/1675 [==============================] - 11s 6ms/step - loss: 1.3400 - sparse_categorical_accuracy: 0.7859\n",
            "Epoch 10/10\n",
            "1675/1675 [==============================] - 11s 6ms/step - loss: 1.3159 - sparse_categorical_accuracy: 0.7980\n"
          ]
        }
      ]
    },
    {
      "cell_type": "code",
      "source": [
        "# Evaluate the model using the test data and generate predictions\n",
        "train_accuracy = history.history[\"sparse_categorical_accuracy\"][-1]\n",
        "result = model.evaluate(test_vec2, y_test, verbose=0)\n",
        "\n",
        "print(f\"Train Accuracy: {train_accuracy:.4f}\")\n",
        "print(f\"Test Accuracy: {result[1]:.4f}\")"
      ],
      "metadata": {
        "colab": {
          "base_uri": "https://localhost:8080/"
        },
        "id": "d3ARIE3ICzUv",
        "outputId": "1c08b625-e109-4d59-c8bd-ad46a7f76836"
      },
      "id": "d3ARIE3ICzUv",
      "execution_count": 37,
      "outputs": [
        {
          "output_type": "stream",
          "name": "stdout",
          "text": [
            "Train Accuracy: 0.7980\n",
            "Test Accuracy: 0.6065\n"
          ]
        }
      ]
    },
    {
      "cell_type": "markdown",
      "source": [
        "Didn't affect much of the overfitting."
      ],
      "metadata": {
        "id": "7xV1H1APMjGD"
      },
      "id": "7xV1H1APMjGD"
    },
    {
      "cell_type": "markdown",
      "source": [
        "Let's try one more model."
      ],
      "metadata": {
        "id": "vFJgkguIMqmi"
      },
      "id": "vFJgkguIMqmi"
    },
    {
      "cell_type": "code",
      "source": [
        "# Create a new sequential model\n",
        "model = keras.Sequential()\n",
        "\n",
        "# Create a regularizer with a factor of 0.005 and apply it to all hidden layers\n",
        "regularizer = keras.regularizers.l2(0.0005)\n",
        "\n",
        "# Declare the hidden layers\n",
        "model.add(layers.Dense(512, activation=\"relu\", kernel_regularizer=regularizer))\n",
        "model.add(layers.Dropout(0.2))\n",
        "model.add(layers.BatchNormalization())\n",
        "\n",
        "model.add(layers.Dense(512, activation=\"relu\", kernel_regularizer=regularizer))\n",
        "model.add(layers.Dropout(0.2))\n",
        "#model.add(layers.BatchNormalization())\n",
        "\n",
        "model.add(layers.Dense(256, activation=\"relu\", kernel_regularizer=regularizer))\n",
        "model.add(layers.Dropout(0.4))\n",
        "model.add(layers.BatchNormalization())\n",
        "\n",
        "# model.add(layers.Dense(64, activation=\"relu\", kernel_regularizer=regularizer))\n",
        "# model.add(layers.Dropout(0.4))\n",
        "# model.add(layers.BatchNormalization())\n",
        "\n",
        "\n",
        "model.add(layers.Dense(32, activation=\"relu\", kernel_regularizer=regularizer))\n",
        "#model.add(layers.Dropout(0.2)) \n",
        "model.add(layers.BatchNormalization())\n",
        "\n",
        "# Declare the output layer\n",
        "model.add(layers.Dense(23, activation=\"softmax\"))\n",
        "\n",
        "model.compile(\n",
        "    optimizer=keras.optimizers.Adam(),  \n",
        "    loss=keras.losses.SparseCategoricalCrossentropy(),\n",
        "    metrics=[keras.metrics.SparseCategoricalAccuracy()]\n",
        ")"
      ],
      "metadata": {
        "id": "p7-LQ0hbukyY"
      },
      "id": "p7-LQ0hbukyY",
      "execution_count": 97,
      "outputs": []
    },
    {
      "cell_type": "code",
      "source": [
        "train_vec2.sort_indices()\n",
        "test_vec2.sort_indices()"
      ],
      "metadata": {
        "id": "0uQEOwS8u528"
      },
      "id": "0uQEOwS8u528",
      "execution_count": 98,
      "outputs": []
    },
    {
      "cell_type": "markdown",
      "source": [
        "To find the optimal value of epochs let's split the train_vec2 into 2 various sets to prevent data leakage."
      ],
      "metadata": {
        "id": "by8mep6g0HXi"
      },
      "id": "by8mep6g0HXi"
    },
    {
      "cell_type": "code",
      "source": [
        "# splitting into train and test splits\n",
        "X_remainder, X_validation, y_remainder, y_validation = train_test_split(train_vec2, y_train, test_size=0.20, random_state=1, stratify=y_train)"
      ],
      "metadata": {
        "id": "Hd2UKXGVyary"
      },
      "id": "Hd2UKXGVyary",
      "execution_count": 99,
      "outputs": []
    },
    {
      "cell_type": "code",
      "source": [
        "# Fit the model\n",
        "history = model.fit(train_vec2, y_train, epochs=25, batch_size = 100, verbose=1, validation_data=(X_validation, y_validation))"
      ],
      "metadata": {
        "colab": {
          "base_uri": "https://localhost:8080/"
        },
        "id": "_B0Uj2XKuk0y",
        "outputId": "ff254fab-ba4f-41c4-e692-3292e075eba1"
      },
      "id": "_B0Uj2XKuk0y",
      "execution_count": 100,
      "outputs": [
        {
          "output_type": "stream",
          "name": "stdout",
          "text": [
            "Epoch 1/25\n"
          ]
        },
        {
          "output_type": "stream",
          "name": "stderr",
          "text": [
            "/usr/local/lib/python3.8/dist-packages/tensorflow/python/framework/indexed_slices.py:444: UserWarning: Converting sparse IndexedSlices(IndexedSlices(indices=Tensor(\"gradient_tape/sequential_7/dense_35/embedding_lookup_sparse/Reshape_1:0\", shape=(None,), dtype=int32), values=Tensor(\"gradient_tape/sequential_7/dense_35/embedding_lookup_sparse/Reshape:0\", shape=(None, 512), dtype=float32), dense_shape=Tensor(\"gradient_tape/sequential_7/dense_35/embedding_lookup_sparse/Cast:0\", shape=(2,), dtype=int32))) to a dense Tensor of unknown shape. This may consume a large amount of memory.\n",
            "  warnings.warn(\n"
          ]
        },
        {
          "output_type": "stream",
          "name": "stdout",
          "text": [
            "1675/1675 [==============================] - 14s 7ms/step - loss: 2.2864 - sparse_categorical_accuracy: 0.5560 - val_loss: 1.7126 - val_sparse_categorical_accuracy: 0.6715\n",
            "Epoch 2/25\n",
            "1675/1675 [==============================] - 11s 6ms/step - loss: 1.8896 - sparse_categorical_accuracy: 0.6206 - val_loss: 1.6401 - val_sparse_categorical_accuracy: 0.6834\n",
            "Epoch 3/25\n",
            "1675/1675 [==============================] - 12s 7ms/step - loss: 1.8784 - sparse_categorical_accuracy: 0.6299 - val_loss: 1.6137 - val_sparse_categorical_accuracy: 0.6977\n",
            "Epoch 4/25\n",
            "1675/1675 [==============================] - 11s 6ms/step - loss: 1.8738 - sparse_categorical_accuracy: 0.6387 - val_loss: 1.5988 - val_sparse_categorical_accuracy: 0.7087\n",
            "Epoch 5/25\n",
            "1675/1675 [==============================] - 11s 6ms/step - loss: 1.8558 - sparse_categorical_accuracy: 0.6470 - val_loss: 1.5488 - val_sparse_categorical_accuracy: 0.7276\n",
            "Epoch 6/25\n",
            "1675/1675 [==============================] - 11s 6ms/step - loss: 1.8272 - sparse_categorical_accuracy: 0.6542 - val_loss: 1.5281 - val_sparse_categorical_accuracy: 0.7339\n",
            "Epoch 7/25\n",
            "1675/1675 [==============================] - 11s 6ms/step - loss: 1.8059 - sparse_categorical_accuracy: 0.6641 - val_loss: 1.4919 - val_sparse_categorical_accuracy: 0.7411\n",
            "Epoch 8/25\n",
            "1675/1675 [==============================] - 13s 7ms/step - loss: 1.7854 - sparse_categorical_accuracy: 0.6700 - val_loss: 1.4867 - val_sparse_categorical_accuracy: 0.7461\n",
            "Epoch 9/25\n",
            "1675/1675 [==============================] - 11s 7ms/step - loss: 1.7721 - sparse_categorical_accuracy: 0.6757 - val_loss: 1.4496 - val_sparse_categorical_accuracy: 0.7641\n",
            "Epoch 10/25\n",
            "1675/1675 [==============================] - 11s 6ms/step - loss: 1.7598 - sparse_categorical_accuracy: 0.6807 - val_loss: 1.4340 - val_sparse_categorical_accuracy: 0.7704\n",
            "Epoch 11/25\n",
            "1675/1675 [==============================] - 11s 6ms/step - loss: 1.7473 - sparse_categorical_accuracy: 0.6857 - val_loss: 1.4374 - val_sparse_categorical_accuracy: 0.7781\n",
            "Epoch 12/25\n",
            "1675/1675 [==============================] - 11s 6ms/step - loss: 1.7379 - sparse_categorical_accuracy: 0.6897 - val_loss: 1.4214 - val_sparse_categorical_accuracy: 0.7764\n",
            "Epoch 13/25\n",
            "1675/1675 [==============================] - 11s 6ms/step - loss: 1.7278 - sparse_categorical_accuracy: 0.6954 - val_loss: 1.4033 - val_sparse_categorical_accuracy: 0.7842\n",
            "Epoch 14/25\n",
            "1675/1675 [==============================] - 11s 6ms/step - loss: 1.7249 - sparse_categorical_accuracy: 0.6952 - val_loss: 1.3841 - val_sparse_categorical_accuracy: 0.7913\n",
            "Epoch 15/25\n",
            "1675/1675 [==============================] - 11s 6ms/step - loss: 1.7132 - sparse_categorical_accuracy: 0.6992 - val_loss: 1.3909 - val_sparse_categorical_accuracy: 0.7931\n",
            "Epoch 16/25\n",
            "1675/1675 [==============================] - 11s 6ms/step - loss: 1.7114 - sparse_categorical_accuracy: 0.7008 - val_loss: 1.3744 - val_sparse_categorical_accuracy: 0.7996\n",
            "Epoch 17/25\n",
            "1675/1675 [==============================] - 11s 7ms/step - loss: 1.7031 - sparse_categorical_accuracy: 0.7030 - val_loss: 1.3745 - val_sparse_categorical_accuracy: 0.7971\n",
            "Epoch 18/25\n",
            "1675/1675 [==============================] - 12s 7ms/step - loss: 1.6977 - sparse_categorical_accuracy: 0.7063 - val_loss: 1.3694 - val_sparse_categorical_accuracy: 0.8018\n",
            "Epoch 19/25\n",
            "1675/1675 [==============================] - 11s 6ms/step - loss: 1.6917 - sparse_categorical_accuracy: 0.7085 - val_loss: 1.3564 - val_sparse_categorical_accuracy: 0.8084\n",
            "Epoch 20/25\n",
            "1675/1675 [==============================] - 11s 6ms/step - loss: 1.6855 - sparse_categorical_accuracy: 0.7102 - val_loss: 1.3572 - val_sparse_categorical_accuracy: 0.8062\n",
            "Epoch 21/25\n",
            "1675/1675 [==============================] - 11s 6ms/step - loss: 1.6837 - sparse_categorical_accuracy: 0.7110 - val_loss: 1.3591 - val_sparse_categorical_accuracy: 0.8033\n",
            "Epoch 22/25\n",
            "1675/1675 [==============================] - 11s 6ms/step - loss: 1.6817 - sparse_categorical_accuracy: 0.7107 - val_loss: 1.3513 - val_sparse_categorical_accuracy: 0.8090\n",
            "Epoch 23/25\n",
            "1675/1675 [==============================] - 11s 6ms/step - loss: 1.6745 - sparse_categorical_accuracy: 0.7135 - val_loss: 1.3255 - val_sparse_categorical_accuracy: 0.8161\n",
            "Epoch 24/25\n",
            "1675/1675 [==============================] - 12s 7ms/step - loss: 1.6775 - sparse_categorical_accuracy: 0.7127 - val_loss: 1.3410 - val_sparse_categorical_accuracy: 0.8122\n",
            "Epoch 25/25\n",
            "1675/1675 [==============================] - 11s 6ms/step - loss: 1.6671 - sparse_categorical_accuracy: 0.7164 - val_loss: 1.3388 - val_sparse_categorical_accuracy: 0.8109\n"
          ]
        }
      ]
    },
    {
      "cell_type": "code",
      "source": [
        "# Evaluate the model using the test data and generate predictions\n",
        "train_accuracy = history.history[\"sparse_categorical_accuracy\"][-1]\n",
        "result = model.evaluate(test_vec2, y_test, verbose=0)\n",
        "\n",
        "print(f\"Train Accuracy: {train_accuracy:.4f}\")\n",
        "print(f\"Test Accuracy: {result[1]:.4f}\")\n"
      ],
      "metadata": {
        "colab": {
          "base_uri": "https://localhost:8080/"
        },
        "id": "nCOp1f8hyanY",
        "outputId": "354e0e80-a40b-434c-e3b8-a9e5742d676c"
      },
      "id": "nCOp1f8hyanY",
      "execution_count": 101,
      "outputs": [
        {
          "output_type": "stream",
          "name": "stdout",
          "text": [
            "Train Accuracy: 0.7164\n",
            "Test Accuracy: 0.6240\n"
          ]
        }
      ]
    },
    {
      "cell_type": "markdown",
      "source": [
        "Yess, we increased the accuracy by a significant amount."
      ],
      "metadata": {
        "id": "DgiU2CZZ5pEe"
      },
      "id": "DgiU2CZZ5pEe"
    },
    {
      "cell_type": "markdown",
      "source": [
        "Let's plot the train and validation accuracies and losses versus the number of epochs, so that we can decide the optimal value of epoch."
      ],
      "metadata": {
        "id": "710xL70xMyie"
      },
      "id": "710xL70xMyie"
    },
    {
      "cell_type": "code",
      "source": [
        "# plotting epoch vs accuracy & loss\n",
        "epochs = range(1, 26)\n",
        "\n",
        "plt.figure(figsize=(15, 7))\n",
        "plt.subplot(1, 2, 1)\n",
        "plt.plot(epochs, history.history[\"sparse_categorical_accuracy\"], label=\"training\", marker=\"o\")\n",
        "plt.plot(epochs, history.history[\"val_sparse_categorical_accuracy\"], label=\"validation\", marker=\"o\")\n",
        "plt.xlabel(\"Epochs\")\n",
        "plt.xticks(epochs)\n",
        "plt.ylabel(\"Accuracy\")\n",
        "plt.legend()\n",
        "\n",
        "plt.subplot(1, 2, 2)\n",
        "plt.plot(epochs, history.history[\"loss\"], label=\"training\", marker=\"o\")\n",
        "plt.plot(epochs, history.history[\"val_loss\"], label=\"validation\", marker=\"o\")\n",
        "plt.xlabel(\"Epochs\")\n",
        "plt.xticks(epochs)\n",
        "plt.ylabel(\"Loss\")\n",
        "plt.legend()\n",
        "plt.show()"
      ],
      "metadata": {
        "colab": {
          "base_uri": "https://localhost:8080/",
          "height": 442
        },
        "id": "zejvsRpLyD4i",
        "outputId": "22490fdd-031f-49f4-932f-53273c7b7dd4"
      },
      "id": "zejvsRpLyD4i",
      "execution_count": 102,
      "outputs": [
        {
          "output_type": "display_data",
          "data": {
            "text/plain": [
              "<Figure size 1080x504 with 2 Axes>"
            ],
            "image/png": "[encoded data removed]"
          },
          "metadata": {
            "needs_background": "light"
          }
        }
      ]
    },
    {
      "cell_type": "markdown",
      "source": [
        "Not much inference can be drawn from the above graphs. However, gap between training and validation keeps on increaseing with the increase in number of epochs. Same is in case with the loss."
      ],
      "metadata": {
        "id": "7ABndweE5H2Z"
      },
      "id": "7ABndweE5H2Z"
    },
    {
      "cell_type": "markdown",
      "source": [
        "Since this is our best performing model in terms of accuracy, let's see the recall and precision."
      ],
      "metadata": {
        "id": "R993ploINKH1"
      },
      "id": "R993ploINKH1"
    },
    {
      "cell_type": "code",
      "source": [
        "y_pred = np.argmax(model.predict(test_vec2), axis=-1)"
      ],
      "metadata": {
        "colab": {
          "base_uri": "https://localhost:8080/"
        },
        "id": "dLy16tTYCeQz",
        "outputId": "e9c0cef3-5aad-4494-bb9d-cdd4d9aa5c1e"
      },
      "id": "dLy16tTYCeQz",
      "execution_count": 104,
      "outputs": [
        {
          "output_type": "stream",
          "name": "stdout",
          "text": [
            "1308/1308 [==============================] - 5s 4ms/step\n"
          ]
        }
      ]
    },
    {
      "cell_type": "code",
      "source": [
        "# Precision \n",
        "from sklearn.metrics import precision_score\n",
        "\n",
        "# precision_score(true labels, predicted labels)\n",
        "precision_score(y_test, y_pred, average='macro')"
      ],
      "metadata": {
        "colab": {
          "base_uri": "https://localhost:8080/"
        },
        "id": "FS0YEQL2yECE",
        "outputId": "d0a3a6ff-3497-4c2f-f8a2-4d4a12c577a1"
      },
      "id": "FS0YEQL2yECE",
      "execution_count": 105,
      "outputs": [
        {
          "output_type": "execute_result",
          "data": {
            "text/plain": [
              "0.5675968131620097"
            ]
          },
          "metadata": {},
          "execution_count": 105
        }
      ]
    },
    {
      "cell_type": "code",
      "source": [
        "# Recall\n",
        "from sklearn.metrics import recall_score\n",
        "\n",
        "# recall_score(true labels, predicted labels)\n",
        "recall_score(y_test, y_pred, average='macro')"
      ],
      "metadata": {
        "colab": {
          "base_uri": "https://localhost:8080/"
        },
        "id": "Aw8GL_zzyEHL",
        "outputId": "2d736a54-4019-4fec-a7b2-b7ad9c6b48e6"
      },
      "id": "Aw8GL_zzyEHL",
      "execution_count": 106,
      "outputs": [
        {
          "output_type": "execute_result",
          "data": {
            "text/plain": [
              "0.5435421819608279"
            ]
          },
          "metadata": {},
          "execution_count": 106
        }
      ]
    },
    {
      "cell_type": "code",
      "source": [
        "from sklearn.metrics import plot_confusion_matrix, confusion_matrix\n",
        "from sklearn.metrics import classification_report\n",
        "from sklearn.metrics import ConfusionMatrixDisplay"
      ],
      "metadata": {
        "id": "v69hiqvbyEOE"
      },
      "id": "v69hiqvbyEOE",
      "execution_count": 107,
      "outputs": []
    },
    {
      "cell_type": "code",
      "source": [
        "cm = confusion_matrix(y_test, y_pred)\n",
        "cmp = ConfusionMatrixDisplay(cm)\n",
        "fig, ax = plt.subplots(figsize=(15,15))\n",
        "cmp.plot(ax=ax)"
      ],
      "metadata": {
        "colab": {
          "base_uri": "https://localhost:8080/",
          "height": 869
        },
        "id": "v4DLQc3eDxDc",
        "outputId": "71badf4f-1923-4220-edec-3d2adb52c71b"
      },
      "id": "v4DLQc3eDxDc",
      "execution_count": 108,
      "outputs": [
        {
          "output_type": "execute_result",
          "data": {
            "text/plain": [
              "<sklearn.metrics._plot.confusion_matrix.ConfusionMatrixDisplay at 0x7fbb8da4b190>"
            ]
          },
          "metadata": {},
          "execution_count": 108
        },
        {
          "output_type": "display_data",
          "data": {
            "text/plain": [
              "<Figure size 1080x1080 with 2 Axes>"
            ],
            "image/png": "[encoded data removed]"
          },
          "metadata": {
            "needs_background": "light"
          }
        }
      ]
    },
    {
      "cell_type": "markdown",
      "source": [
        "It's very hard to draw inferences from the above confusion matrix\n",
        "\n",
        "\n",
        "Let draw a report."
      ],
      "metadata": {
        "id": "YhiClgDmH9sV"
      },
      "id": "YhiClgDmH9sV"
    },
    {
      "cell_type": "code",
      "source": [
        "# classification report\n",
        "print(classification_report(y_test, y_pred))"
      ],
      "metadata": {
        "colab": {
          "base_uri": "https://localhost:8080/"
        },
        "id": "tgrjZlWeDxFW",
        "outputId": "8cfe5d0c-ba98-4abc-f34b-45dc9170c84d"
      },
      "id": "tgrjZlWeDxFW",
      "execution_count": 96,
      "outputs": [
        {
          "output_type": "stream",
          "name": "stdout",
          "text": [
            "              precision    recall  f1-score   support\n",
            "\n",
            "           0       0.58      0.32      0.41       784\n",
            "           1       0.56      0.39      0.46      1079\n",
            "           2       0.40      0.62      0.48       711\n",
            "           3       0.44      0.31      0.36       432\n",
            "           4       0.50      0.66      0.57      3472\n",
            "           5       0.47      0.39      0.43       813\n",
            "           6       0.66      0.74      0.70      1687\n",
            "           7       0.62      0.74      0.68      4924\n",
            "           8       0.54      0.70      0.61       864\n",
            "           9       0.74      0.76      0.75      1415\n",
            "          10       0.52      0.28      0.37       588\n",
            "          11       0.62      0.48      0.54      2411\n",
            "          12       0.55      0.46      0.50      1548\n",
            "          13       0.35      0.14      0.20      1812\n",
            "          14       0.53      0.77      0.63      2548\n",
            "          15       0.70      0.79      0.74      7115\n",
            "          16       0.62      0.32      0.42       515\n",
            "          17       0.59      0.34      0.44       860\n",
            "          18       0.64      0.50      0.56      1015\n",
            "          19       0.70      0.74      0.72      2388\n",
            "          20       0.66      0.68      0.67      1978\n",
            "          21       0.48      0.16      0.24       714\n",
            "          22       0.71      0.45      0.55      2183\n",
            "\n",
            "    accuracy                           0.61     41856\n",
            "   macro avg       0.57      0.51      0.52     41856\n",
            "weighted avg       0.60      0.61      0.59     41856\n",
            "\n"
          ]
        }
      ]
    },
    {
      "cell_type": "markdown",
      "source": [
        "0 'ARTS & CULTURE'\n",
        "\n",
        "1'COMEDY'\n",
        "\n",
        "2'CRIME'\n",
        "\n",
        "3 'EDUCATION' \n",
        "\n",
        "4 'ENTERTAINMENT'\n",
        "\n",
        "5 'ENVIRONMENT' \n",
        "\n",
        "6 'FOOD & DRINK' \n",
        "\n",
        "7 'HEALTHY LIVING'\n",
        "\n",
        "8 'HOME & LIVING'\n",
        "\n",
        "\n",
        "9 'MARRIAGE & DIVORCE' \n",
        "\n",
        "10'MEDIA'\n",
        "\n",
        "11 'MINORITIES' \n",
        "\n",
        "12'MONEY & BUSINESS' \n",
        "\n",
        "13 'OTHER NEWS'\n",
        "\n",
        "\n",
        "14 'PARENTING'\n",
        "\n",
        "15 'POLITICS'\n",
        "\n",
        "16 'RELIGION' \n",
        "\n",
        "\n",
        "17'SCIENCE & TECH' \n",
        "\n",
        "18 'SPORTS'\n",
        "\n",
        "19 'STYLE & BEAUTY'\n",
        "\n",
        "20 'TRAVEL'\n",
        "\n",
        "21 'WOMEN'\n",
        "\n",
        "22 'WORLD NEWS'"
      ],
      "metadata": {
        "id": "1evC_2TvIcMD"
      },
      "id": "1evC_2TvIcMD"
    },
    {
      "cell_type": "markdown",
      "source": [
        "1. __Marriage & divorce__ have the highest precision. (74%)\n",
        "2. __Politics__ has the highest recall (79%)\n",
        "3. __Women__ class has the lowest recall (16%)"
      ],
      "metadata": {
        "id": "F0doqJOLJrMj"
      },
      "id": "F0doqJOLJrMj"
    },
    {
      "cell_type": "markdown",
      "source": [
        "---"
      ],
      "metadata": {
        "id": "RmQTh8yWL8kL"
      },
      "id": "RmQTh8yWL8kL"
    },
    {
      "cell_type": "markdown",
      "source": [
        "---"
      ],
      "metadata": {
        "id": "FlerkQeZL6nw"
      },
      "id": "FlerkQeZL6nw"
    },
    {
      "cell_type": "markdown",
      "source": [
        "### Applying GridSearch to find the optimal type of hyperparameter"
      ],
      "metadata": {
        "id": "sbVJ-Le7OvqP"
      },
      "id": "sbVJ-Le7OvqP"
    },
    {
      "cell_type": "markdown",
      "source": [
        "A lot of power and time get's wasted trying different number of layers, nodes, reguralization, number of epochs, batch size, loss.\n",
        "\n",
        "\n",
        "All these things can be done in one step by grid search. However running a full cycle will definately take a lot of time\n",
        "\n",
        "\n",
        "\n",
        "I tried using it but was not success"
      ],
      "metadata": {
        "id": "Zk_pYE1zLIOC"
      },
      "id": "Zk_pYE1zLIOC"
    },
    {
      "cell_type": "code",
      "source": [
        "pip install bayesian-optimization"
      ],
      "metadata": {
        "colab": {
          "base_uri": "https://localhost:8080/"
        },
        "id": "l5V-W_-YSm9G",
        "outputId": "f6841209-1d87-4eae-e910-d4e05f3e6577"
      },
      "id": "l5V-W_-YSm9G",
      "execution_count": 48,
      "outputs": [
        {
          "output_type": "stream",
          "name": "stdout",
          "text": [
            "Looking in indexes: https://pypi.org/simple, https://us-python.pkg.dev/colab-wheels/public/simple/\n",
            "Requirement already satisfied: bayesian-optimization in /usr/local/lib/python3.8/dist-packages (1.4.2)\n",
            "Requirement already satisfied: scipy>=1.0.0 in /usr/local/lib/python3.8/dist-packages (from bayesian-optimization) (1.7.3)\n",
            "Requirement already satisfied: scikit-learn>=0.18.0 in /usr/local/lib/python3.8/dist-packages (from bayesian-optimization) (1.0.2)\n",
            "Requirement already satisfied: numpy>=1.9.0 in /usr/local/lib/python3.8/dist-packages (from bayesian-optimization) (1.21.6)\n",
            "Requirement already satisfied: colorama>=0.4.6 in /usr/local/lib/python3.8/dist-packages (from bayesian-optimization) (0.4.6)\n",
            "Requirement already satisfied: joblib>=0.11 in /usr/local/lib/python3.8/dist-packages (from scikit-learn>=0.18.0->bayesian-optimization) (1.2.0)\n",
            "Requirement already satisfied: threadpoolctl>=2.0.0 in /usr/local/lib/python3.8/dist-packages (from scikit-learn>=0.18.0->bayesian-optimization) (3.1.0)\n"
          ]
        }
      ]
    },
    {
      "cell_type": "code",
      "source": [
        "import bayesian-optimization as"
      ],
      "metadata": {
        "colab": {
          "base_uri": "https://localhost:8080/",
          "height": 304
        },
        "id": "ljYtuaw-VEFb",
        "outputId": "72e0952c-3b50-4788-e8c5-4672ac441879"
      },
      "id": "ljYtuaw-VEFb",
      "execution_count": 50,
      "outputs": [
        {
          "output_type": "error",
          "ename": "ModuleNotFoundError",
          "evalue": "ignored",
          "traceback": [
            "\u001b[0;31m---------------------------------------------------------------------------\u001b[0m",
            "\u001b[0;31mModuleNotFoundError\u001b[0m                       Traceback (most recent call last)",
            "\u001b[0;32m<ipython-input-50-bff9002a2a15>\u001b[0m in \u001b[0;36m<module>\u001b[0;34m\u001b[0m\n\u001b[0;32m----> 1\u001b[0;31m \u001b[0;32mimport\u001b[0m \u001b[0mbayesianoptimization\u001b[0m\u001b[0;34m\u001b[0m\u001b[0;34m\u001b[0m\u001b[0m\n\u001b[0m",
            "\u001b[0;31mModuleNotFoundError\u001b[0m: No module named 'bayesianoptimization'",
            "",
            "\u001b[0;31m---------------------------------------------------------------------------\u001b[0;32m\nNOTE: If your import is failing due to a missing package, you can\nmanually install dependencies using either !pip or !apt.\n\nTo view examples of installing some common dependencies, click the\n\"Open Examples\" button below.\n\u001b[0;31m---------------------------------------------------------------------------\u001b[0m\n"
          ],
          "errorDetails": {
            "actions": [
              {
                "action": "open_url",
                "actionText": "Open Examples",
                "url": "/notebooks/snippets/importing_libraries.ipynb"
              }
            ]
          }
        }
      ]
    },
    {
      "cell_type": "code",
      "source": [
        "from keras.models import Sequential\n",
        "from keras.layers import Dense, BatchNormalization, Dropout\n",
        "from keras.optimizers import Adam, SGD, RMSprop, Adadelta, Adagrad, Adamax, Nadam, Ftrl\n",
        "from keras.callbacks import EarlyStopping, ModelCheckpoint\n",
        "from keras.wrappers.scikit_learn import KerasClassifier\n",
        "from math import floor\n",
        "from sklearn.metrics import make_scorer, accuracy_score\n",
        "#from bayes_opt import BayesianOptimization\n",
        "from sklearn.model_selection import StratifiedKFold\n",
        "from keras.layers import LeakyReLU\n",
        "LeakyReLU = LeakyReLU(alpha=0.1)\n",
        "import warnings\n",
        "warnings.filterwarnings('ignore')\n",
        "pd.set_option(\"display.max_columns\", None)\n",
        "\n",
        "# Make scorer accuracy\n",
        "score_acc = make_scorer(accuracy_score)"
      ],
      "metadata": {
        "id": "kO6YBPx-SLZv"
      },
      "id": "kO6YBPx-SLZv",
      "execution_count": 44,
      "outputs": []
    },
    {
      "cell_type": "code",
      "source": [
        "# Create function\n",
        "def nn_cl_bo(neurons, activation, optimizer, learning_rate,  batch_size, epochs):\n",
        "    optimizerL = ['SGD', 'Adam', 'RMSprop', 'Adadelta', 'Adagrad', 'Adamax', 'Nadam', 'Ftrl','SGD']\n",
        "    optimizerD= {'Adam':Adam(lr=learning_rate), 'SGD':SGD(lr=learning_rate),\n",
        "                 'RMSprop':RMSprop(lr=learning_rate), 'Adadelta':Adadelta(lr=learning_rate),\n",
        "                 'Adagrad':Adagrad(lr=learning_rate), 'Adamax':Adamax(lr=learning_rate),\n",
        "                 'Nadam':Nadam(lr=learning_rate), 'Ftrl':Ftrl(lr=learning_rate)}\n",
        "    activationL = ['relu', 'sigmoid', 'softplus', 'softsign', 'tanh', 'selu',\n",
        "                   'elu', 'exponential', LeakyReLU,'relu']\n",
        "    neurons = round(neurons)\n",
        "    activation = activationL[round(activation)]\n",
        "    batch_size = round(batch_size)\n",
        "    epochs = round(epochs)\n",
        "    def nn_cl_fun():\n",
        "        opt = Adam(lr = learning_rate)\n",
        "        nn = Sequential()\n",
        "        nn.add(Dense(neurons, input_dim=10, activation=activation))\n",
        "        nn.add(Dense(neurons, activation=activation))\n",
        "        nn.add(Dense(1, activation='sigmoid'))\n",
        "        nn.compile(loss='binary_crossentropy', optimizer=opt, metrics=['accuracy'])\n",
        "        return nn\n",
        "    es = EarlyStopping(monitor='accuracy', mode='max', verbose=1, patience=20)\n",
        "    nn = KerasClassifier(build_fn=nn_cl_fun, epochs=epochs, batch_size=batch_size,\n",
        "                         verbose=0)\n",
        "    \n",
        "    score = cross_val_score(nn, X_train, y_train, scoring=score_acc, cv=3, fit_params={'callbacks':[es]}).mean()\n",
        "    return score"
      ],
      "metadata": {
        "id": "U88KCU-aCzYJ"
      },
      "id": "U88KCU-aCzYJ",
      "execution_count": 45,
      "outputs": []
    },
    {
      "cell_type": "code",
      "source": [
        "# Set paramaters\n",
        "params_nn ={\n",
        "    'neurons': (1024, 512, 256, 128),\n",
        "    'activation':(0, 9),\n",
        "    'optimizer':(0,7),\n",
        "    'learning_rate':(0.01, 1),\n",
        "    'batch_size':(200, 400),\n",
        "    'epochs': (25, 50, 100)\n",
        "}\n",
        "# Run Bayesian Optimization\n",
        "nn_bo = model(nn_cl_bo, params_nn)\n",
        "nn_bo.maximize(init_points=25, n_iter=4)"
      ],
      "metadata": {
        "colab": {
          "base_uri": "https://localhost:8080/",
          "height": 539
        },
        "id": "Oz6MeBcTCzad",
        "outputId": "321ef4d4-81e2-4fb3-91bf-ff38afdfbca8"
      },
      "id": "Oz6MeBcTCzad",
      "execution_count": 52,
      "outputs": [
        {
          "output_type": "stream",
          "name": "stderr",
          "text": [
            "WARNING:tensorflow:Layers in a Sequential model should only have a single input tensor. Received: inputs=<function nn_cl_bo at 0x7fc0dcecfee0>. Consider rewriting this model with the Functional API.\n"
          ]
        },
        {
          "output_type": "error",
          "ename": "TypeError",
          "evalue": "ignored",
          "traceback": [
            "\u001b[0;31m---------------------------------------------------------------------------\u001b[0m",
            "\u001b[0;31mTypeError\u001b[0m                                 Traceback (most recent call last)",
            "\u001b[0;32m<ipython-input-52-c49ecc4fbc18>\u001b[0m in \u001b[0;36m<module>\u001b[0;34m\u001b[0m\n\u001b[1;32m      9\u001b[0m }\n\u001b[1;32m     10\u001b[0m \u001b[0;31m# Run Bayesian Optimization\u001b[0m\u001b[0;34m\u001b[0m\u001b[0;34m\u001b[0m\u001b[0;34m\u001b[0m\u001b[0m\n\u001b[0;32m---> 11\u001b[0;31m \u001b[0mnn_bo\u001b[0m \u001b[0;34m=\u001b[0m \u001b[0mmodel\u001b[0m\u001b[0;34m(\u001b[0m\u001b[0mnn_cl_bo\u001b[0m\u001b[0;34m,\u001b[0m \u001b[0mparams_nn\u001b[0m\u001b[0;34m)\u001b[0m\u001b[0;34m\u001b[0m\u001b[0;34m\u001b[0m\u001b[0m\n\u001b[0m\u001b[1;32m     12\u001b[0m \u001b[0mnn_bo\u001b[0m\u001b[0;34m.\u001b[0m\u001b[0mmaximize\u001b[0m\u001b[0;34m(\u001b[0m\u001b[0minit_points\u001b[0m\u001b[0;34m=\u001b[0m\u001b[0;36m25\u001b[0m\u001b[0;34m,\u001b[0m \u001b[0mn_iter\u001b[0m\u001b[0;34m=\u001b[0m\u001b[0;36m4\u001b[0m\u001b[0;34m)\u001b[0m\u001b[0;34m\u001b[0m\u001b[0;34m\u001b[0m\u001b[0m\n",
            "\u001b[0;32m/usr/local/lib/python3.8/dist-packages/keras/utils/traceback_utils.py\u001b[0m in \u001b[0;36merror_handler\u001b[0;34m(*args, **kwargs)\u001b[0m\n\u001b[1;32m     65\u001b[0m     \u001b[0;32mexcept\u001b[0m \u001b[0mException\u001b[0m \u001b[0;32mas\u001b[0m \u001b[0me\u001b[0m\u001b[0;34m:\u001b[0m  \u001b[0;31m# pylint: disable=broad-except\u001b[0m\u001b[0;34m\u001b[0m\u001b[0;34m\u001b[0m\u001b[0m\n\u001b[1;32m     66\u001b[0m       \u001b[0mfiltered_tb\u001b[0m \u001b[0;34m=\u001b[0m \u001b[0m_process_traceback_frames\u001b[0m\u001b[0;34m(\u001b[0m\u001b[0me\u001b[0m\u001b[0;34m.\u001b[0m\u001b[0m__traceback__\u001b[0m\u001b[0;34m)\u001b[0m\u001b[0;34m\u001b[0m\u001b[0;34m\u001b[0m\u001b[0m\n\u001b[0;32m---> 67\u001b[0;31m       \u001b[0;32mraise\u001b[0m \u001b[0me\u001b[0m\u001b[0;34m.\u001b[0m\u001b[0mwith_traceback\u001b[0m\u001b[0;34m(\u001b[0m\u001b[0mfiltered_tb\u001b[0m\u001b[0;34m)\u001b[0m \u001b[0;32mfrom\u001b[0m \u001b[0;32mNone\u001b[0m\u001b[0;34m\u001b[0m\u001b[0;34m\u001b[0m\u001b[0m\n\u001b[0m\u001b[1;32m     68\u001b[0m     \u001b[0;32mfinally\u001b[0m\u001b[0;34m:\u001b[0m\u001b[0;34m\u001b[0m\u001b[0;34m\u001b[0m\u001b[0m\n\u001b[1;32m     69\u001b[0m       \u001b[0;32mdel\u001b[0m \u001b[0mfiltered_tb\u001b[0m\u001b[0;34m\u001b[0m\u001b[0;34m\u001b[0m\u001b[0m\n",
            "\u001b[0;32m/usr/local/lib/python3.8/dist-packages/keras/engine/input_spec.py\u001b[0m in \u001b[0;36massert_input_compatibility\u001b[0;34m(input_spec, inputs, layer_name)\u001b[0m\n\u001b[1;32m    195\u001b[0m     \u001b[0;31m# have a `shape` attribute.\u001b[0m\u001b[0;34m\u001b[0m\u001b[0;34m\u001b[0m\u001b[0;34m\u001b[0m\u001b[0m\n\u001b[1;32m    196\u001b[0m     \u001b[0;32mif\u001b[0m \u001b[0;32mnot\u001b[0m \u001b[0mhasattr\u001b[0m\u001b[0;34m(\u001b[0m\u001b[0mx\u001b[0m\u001b[0;34m,\u001b[0m \u001b[0;34m'shape'\u001b[0m\u001b[0;34m)\u001b[0m\u001b[0;34m:\u001b[0m\u001b[0;34m\u001b[0m\u001b[0;34m\u001b[0m\u001b[0m\n\u001b[0;32m--> 197\u001b[0;31m       \u001b[0;32mraise\u001b[0m \u001b[0mTypeError\u001b[0m\u001b[0;34m(\u001b[0m\u001b[0;34mf'Inputs to a layer should be tensors. Got: {x}'\u001b[0m\u001b[0;34m)\u001b[0m\u001b[0;34m\u001b[0m\u001b[0;34m\u001b[0m\u001b[0m\n\u001b[0m\u001b[1;32m    198\u001b[0m \u001b[0;34m\u001b[0m\u001b[0m\n\u001b[1;32m    199\u001b[0m   \u001b[0;32mif\u001b[0m \u001b[0mlen\u001b[0m\u001b[0;34m(\u001b[0m\u001b[0minputs\u001b[0m\u001b[0;34m)\u001b[0m \u001b[0;34m!=\u001b[0m \u001b[0mlen\u001b[0m\u001b[0;34m(\u001b[0m\u001b[0minput_spec\u001b[0m\u001b[0;34m)\u001b[0m\u001b[0;34m:\u001b[0m\u001b[0;34m\u001b[0m\u001b[0;34m\u001b[0m\u001b[0m\n",
            "\u001b[0;31mTypeError\u001b[0m: Exception encountered when calling layer \"sequential_1\" (type Sequential).\n\nInputs to a layer should be tensors. Got: <function nn_cl_bo at 0x7fc0dcecfee0>\n\nCall arguments received by layer \"sequential_1\" (type Sequential):\n  • inputs=<function nn_cl_bo at 0x7fc0dcecfee0>\n  • training={'neurons': ('1024', '512', '256', '128'), 'activation': ('0', '9'), 'optimizer': ('0', '7'), 'learning_rate': ('0.01', '1'), 'batch_size': ('200', '400'), 'epochs': ('25', '50', '100')}\n  • mask=None"
          ]
        }
      ]
    },
    {
      "cell_type": "markdown",
      "source": [
        "---"
      ],
      "metadata": {
        "id": "MBzJz1_1LD1k"
      },
      "id": "MBzJz1_1LD1k"
    },
    {
      "cell_type": "markdown",
      "source": [
        "Below is the summary of the performace of the models"
      ],
      "metadata": {
        "id": "WAHA3y8PKs-T"
      },
      "id": "WAHA3y8PKs-T"
    },
    {
      "cell_type": "markdown",
      "source": [
        "| Models | Accuracy | Precision | Recall\n",
        "| --- | --- | --- | --- |\n",
        "| Basic NN model | 53.24% | --- | --- |\n",
        "| NN with regularization | 51.81% | --- | --- |\n",
        "| NN with droput layers and l2 | 58.47% | --- | --- |\n",
        "| NN with dropout + l2 + batchnormalisation | 57.64% |  --- | --- |\n",
        "| NN with dimensionality reduction | 57.77% |  --- | --- |\n",
        "| NN with headline and short description | 60% |  56% | 54% |"
      ],
      "metadata": {
        "id": "wxiZ_YFgvXdr"
      },
      "id": "wxiZ_YFgvXdr"
    },
    {
      "cell_type": "markdown",
      "source": [
        "__Summary:__\n",
        "\n",
        "1. We see that adding more epochs, layers results in overfitting in general\n",
        "2. Adding short description to the scene improves the accuracy of the overall model.\n",
        "3. Feature engineering can be done by adding polarity and subjectivity into the independent dataset. That will for sure increase the accuracy of the model.\n",
        "4. NN is the best performing model compared to XGBoost and Random Forest."
      ],
      "metadata": {
        "id": "h6DhLpFrO1oq"
      },
      "id": "h6DhLpFrO1oq"
    },
    {
      "cell_type": "markdown",
      "source": [
        "---"
      ],
      "metadata": {
        "id": "nBBk0eEmKoKB"
      },
      "id": "nBBk0eEmKoKB"
    },
    {
      "cell_type": "markdown",
      "source": [
        "### Thank You!!"
      ],
      "metadata": {
        "id": "dJWQ1RXEKkwy"
      },
      "id": "dJWQ1RXEKkwy"
    }
  ],
  "metadata": {
    "kernelspec": {
      "display_name": "Python 3",
      "name": "python3"
    },
    "language_info": {
      "name": "python"
    },
    "colab": {
      "provenance": [],
      "machine_shape": "hm"
    },
    "gpuClass": "standard",
    "accelerator": "GPU"
  },
  "nbformat": 4,
  "nbformat_minor": 5
}